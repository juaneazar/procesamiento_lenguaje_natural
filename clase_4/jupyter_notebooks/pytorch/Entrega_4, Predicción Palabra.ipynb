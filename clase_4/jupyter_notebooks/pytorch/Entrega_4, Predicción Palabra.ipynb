{
  "nbformat": 4,
  "nbformat_minor": 0,
  "metadata": {
    "colab": {
      "provenance": []
    },
    "kernelspec": {
      "name": "python3",
      "display_name": "Python 3"
    },
    "language_info": {
      "name": "python"
    },
    "accelerator": "GPU"
  },
  "cells": [
    {
      "cell_type": "markdown",
      "metadata": {
        "id": "g3yeJGnCYxuF"
      },
      "source": [
        "<img src=\"https://github.com/hernancontigiani/ceia_memorias_especializacion/raw/master/Figures/logoFIUBA.jpg\" width=\"500\" align=\"center\">\n",
        "\n",
        "\n",
        "# Procesamiento de lenguaje natural\n",
        "## Predicción de próxima palabra"
      ]
    },
    {
      "cell_type": "markdown",
      "metadata": {
        "id": "Iv5PEwGzZA9-"
      },
      "source": [
        "### Objetivo\n",
        "El objetivo es utilizar documentos / corpus para crear embeddings de palabras basado en ese contexto utilizando la layer Embedding de Keras. Se utilizará esos embeddings junto con layers LSTM para predeccir la próxima posible palabra."
      ]
    },
    {
      "cell_type": "code",
      "metadata": {
        "id": "Y-QdFbHZYj7C"
      },
      "source": [
        "import random\n",
        "import io\n",
        "import pickle\n",
        "\n",
        "import numpy as np\n",
        "import pandas as pd\n",
        "import matplotlib.pyplot as plt\n",
        "import seaborn as sns\n",
        "\n",
        "import torch\n",
        "import torch.nn.functional as F\n",
        "import torch.nn as nn\n",
        "from torch.utils.data import Dataset, DataLoader"
      ],
      "execution_count": 2,
      "outputs": []
    },
    {
      "cell_type": "code",
      "source": [
        "# torchsummar actualmente tiene un problema con las LSTM, por eso\n",
        "# se utiliza torchinfo, un fork del proyecto original con el bug solucionado\n",
        "!pip3 install torchinfo\n",
        "from torchinfo import summary"
      ],
      "metadata": {
        "colab": {
          "base_uri": "https://localhost:8080/"
        },
        "id": "SzYQL2mV-_Rt",
        "outputId": "f8585ca4-9afa-4a37-f4c7-0ed6b28dc045"
      },
      "execution_count": 3,
      "outputs": [
        {
          "output_type": "stream",
          "name": "stdout",
          "text": [
            "Collecting torchinfo\n",
            "  Downloading torchinfo-1.8.0-py3-none-any.whl (23 kB)\n",
            "Installing collected packages: torchinfo\n",
            "Successfully installed torchinfo-1.8.0\n"
          ]
        }
      ]
    },
    {
      "cell_type": "code",
      "source": [
        "import os\n",
        "import platform\n",
        "\n",
        "if os.access('torch_helpers.py', os.F_OK) is False:\n",
        "    if platform.system() == 'Windows':\n",
        "        !curl !wget https://raw.githubusercontent.com/FIUBA-Posgrado-Inteligencia-Artificial/procesamiento_lenguaje_natural/main/scripts/torch_helpers.py > torch_helpers.py\n",
        "    else:\n",
        "        !wget torch_helpers.py https://raw.githubusercontent.com/FIUBA-Posgrado-Inteligencia-Artificial/procesamiento_lenguaje_natural/main/scripts/torch_helpers.py"
      ],
      "metadata": {
        "colab": {
          "base_uri": "https://localhost:8080/"
        },
        "id": "XI7mSG6p_B0t",
        "outputId": "36ca4a90-1ca1-4e18-b54b-d34a4f04c505"
      },
      "execution_count": 4,
      "outputs": [
        {
          "output_type": "stream",
          "name": "stdout",
          "text": [
            "--2023-09-26 22:54:20--  http://torch_helpers.py/\n",
            "Resolving torch_helpers.py (torch_helpers.py)... failed: Name or service not known.\n",
            "wget: unable to resolve host address ‘torch_helpers.py’\n",
            "--2023-09-26 22:54:21--  https://raw.githubusercontent.com/FIUBA-Posgrado-Inteligencia-Artificial/procesamiento_lenguaje_natural/main/scripts/torch_helpers.py\n",
            "Resolving raw.githubusercontent.com (raw.githubusercontent.com)... 185.199.108.133, 185.199.109.133, 185.199.110.133, ...\n",
            "Connecting to raw.githubusercontent.com (raw.githubusercontent.com)|185.199.108.133|:443... connected.\n",
            "HTTP request sent, awaiting response... 200 OK\n",
            "Length: 23883 (23K) [text/plain]\n",
            "Saving to: ‘torch_helpers.py’\n",
            "\n",
            "torch_helpers.py    100%[===================>]  23.32K  --.-KB/s    in 0.001s  \n",
            "\n",
            "2023-09-26 22:54:21 (18.2 MB/s) - ‘torch_helpers.py’ saved [23883/23883]\n",
            "\n",
            "FINISHED --2023-09-26 22:54:21--\n",
            "Total wall clock time: 0.3s\n",
            "Downloaded: 1 files, 23K in 0.001s (18.2 MB/s)\n"
          ]
        }
      ]
    },
    {
      "cell_type": "code",
      "source": [
        "from torch_helpers import categorical_acc\n",
        "\n",
        "def train(model, train_loader, valid_loader, optimizer, criterion, epochs=100):\n",
        "    # Defino listas para realizar graficas de los resultados\n",
        "    train_loss = []\n",
        "    train_accuracy = []\n",
        "    valid_loss = []\n",
        "    valid_accuracy = []\n",
        "\n",
        "    # Defino mi loop de entrenamiento\n",
        "\n",
        "    for epoch in range(epochs):\n",
        "\n",
        "        epoch_train_loss = 0.0\n",
        "        epoch_train_accuracy = 0.0\n",
        "\n",
        "        for train_data, train_target in train_loader:\n",
        "            # Seteo los gradientes en cero ya que, por defecto, PyTorch\n",
        "            # los va acumulando\n",
        "            optimizer.zero_grad()\n",
        "\n",
        "            output = model(train_data)\n",
        "\n",
        "            # Computo el error de la salida comparando contra las etiquetas\n",
        "            loss = criterion(output, train_target)\n",
        "\n",
        "            # Almaceno el error del batch para luego tener el error promedio de la epoca\n",
        "            epoch_train_loss += loss.item()\n",
        "\n",
        "            # Computo el nuevo set de gradientes a lo largo de toda la red\n",
        "            loss.backward()\n",
        "\n",
        "            # Realizo el paso de optimizacion actualizando los parametros de toda la red\n",
        "            optimizer.step()\n",
        "\n",
        "            # Calculo el accuracy del batch\n",
        "            accuracy = categorical_acc(output, train_target)\n",
        "            # Almaceno el accuracy del batch para luego tener el accuracy promedio de la epoca\n",
        "            epoch_train_accuracy += accuracy.item()\n",
        "\n",
        "        # Calculo la media de error para la epoca de entrenamiento.\n",
        "        # La longitud de train_loader es igual a la cantidad de batches dentro de una epoca.\n",
        "        epoch_train_loss = epoch_train_loss / len(train_loader)\n",
        "        train_loss.append(epoch_train_loss)\n",
        "        epoch_train_accuracy = epoch_train_accuracy / len(train_loader)\n",
        "        train_accuracy.append(epoch_train_accuracy)\n",
        "\n",
        "        # Realizo el paso de validación computando error y accuracy, y\n",
        "        # almacenando los valores para imprimirlos y graficarlos\n",
        "        valid_data, valid_target = next(iter(valid_loader))\n",
        "        output = model(valid_data)\n",
        "\n",
        "        epoch_valid_loss = criterion(output, valid_target).item()\n",
        "        valid_loss.append(epoch_valid_loss)\n",
        "\n",
        "        # Calculo el accuracy de la epoch\n",
        "        epoch_valid_accuracy = categorical_acc(output, valid_target).item()\n",
        "        valid_accuracy.append(epoch_valid_accuracy)\n",
        "\n",
        "        print(f\"Epoch: {epoch+1}/{epochs} - Train loss {epoch_train_loss:.3f} - Train accuracy {epoch_train_accuracy:.3f} - Valid Loss {epoch_valid_loss:.3f} - Valid accuracy {epoch_valid_accuracy:.3f}\")\n",
        "\n",
        "    history = {\n",
        "        \"loss\": train_loss,\n",
        "        \"accuracy\": train_accuracy,\n",
        "        \"val_loss\": valid_loss,\n",
        "        \"val_accuracy\": valid_accuracy,\n",
        "    }\n",
        "    return history"
      ],
      "metadata": {
        "id": "3QPapqTx_Lgt"
      },
      "execution_count": 5,
      "outputs": []
    },
    {
      "cell_type": "markdown",
      "metadata": {
        "id": "xTvXlEKQZdqx"
      },
      "source": [
        "### Datos\n",
        "Utilizaremos como dataset canciones de bandas de habla inglés."
      ]
    },
    {
      "cell_type": "code",
      "metadata": {
        "id": "IkdPfrQJZdB5",
        "colab": {
          "base_uri": "https://localhost:8080/"
        },
        "outputId": "e2fdfb3f-0833-4e02-d231-2d2dedad50ed"
      },
      "source": [
        "# Descargar la carpeta de dataset\n",
        "import os\n",
        "import platform\n",
        "if os.access('./songs_dataset', os.F_OK) is False:\n",
        "    if os.access('songs_dataset.zip', os.F_OK) is False:\n",
        "        if platform.system() == 'Windows':\n",
        "            !curl https://raw.githubusercontent.com/FIUBA-Posgrado-Inteligencia-Artificial/procesamiento_lenguaje_natural/main/datasets/songs_dataset.zip -o songs_dataset.zip\n",
        "        else:\n",
        "            !wget songs_dataset.zip https://github.com/FIUBA-Posgrado-Inteligencia-Artificial/procesamiento_lenguaje_natural/raw/main/datasets/songs_dataset.zip\n",
        "    !unzip -q songs_dataset.zip\n",
        "else:\n",
        "    print(\"El dataset ya se encuentra descargado\")"
      ],
      "execution_count": 6,
      "outputs": [
        {
          "output_type": "stream",
          "name": "stdout",
          "text": [
            "--2023-09-26 22:54:21--  http://songs_dataset.zip/\n",
            "Resolving songs_dataset.zip (songs_dataset.zip)... failed: Name or service not known.\n",
            "wget: unable to resolve host address ‘songs_dataset.zip’\n",
            "--2023-09-26 22:54:21--  https://github.com/FIUBA-Posgrado-Inteligencia-Artificial/procesamiento_lenguaje_natural/raw/main/datasets/songs_dataset.zip\n",
            "Resolving github.com (github.com)... 140.82.112.3\n",
            "Connecting to github.com (github.com)|140.82.112.3|:443... connected.\n",
            "HTTP request sent, awaiting response... 302 Found\n",
            "Location: https://raw.githubusercontent.com/FIUBA-Posgrado-Inteligencia-Artificial/procesamiento_lenguaje_natural/main/datasets/songs_dataset.zip [following]\n",
            "--2023-09-26 22:54:21--  https://raw.githubusercontent.com/FIUBA-Posgrado-Inteligencia-Artificial/procesamiento_lenguaje_natural/main/datasets/songs_dataset.zip\n",
            "Resolving raw.githubusercontent.com (raw.githubusercontent.com)... 185.199.108.133, 185.199.109.133, 185.199.110.133, ...\n",
            "Connecting to raw.githubusercontent.com (raw.githubusercontent.com)|185.199.108.133|:443... connected.\n",
            "HTTP request sent, awaiting response... 200 OK\n",
            "Length: 2075036 (2.0M) [application/zip]\n",
            "Saving to: ‘songs_dataset.zip’\n",
            "\n",
            "songs_dataset.zip   100%[===================>]   1.98M  --.-KB/s    in 0.07s   \n",
            "\n",
            "2023-09-26 22:54:22 (27.2 MB/s) - ‘songs_dataset.zip’ saved [2075036/2075036]\n",
            "\n",
            "FINISHED --2023-09-26 22:54:22--\n",
            "Total wall clock time: 0.8s\n",
            "Downloaded: 1 files, 2.0M in 0.07s (27.2 MB/s)\n"
          ]
        }
      ]
    },
    {
      "cell_type": "code",
      "metadata": {
        "id": "6j-3nQ4lZjfb",
        "colab": {
          "base_uri": "https://localhost:8080/"
        },
        "outputId": "bea6295f-9a5e-4d03-9548-44b84c45c8b3"
      },
      "source": [
        "# Posibles bandas\n",
        "os.listdir(\"./songs_dataset/\")"
      ],
      "execution_count": 7,
      "outputs": [
        {
          "output_type": "execute_result",
          "data": {
            "text/plain": [
              "['disney.txt',\n",
              " 'britney-spears.txt',\n",
              " 'notorious-big.txt',\n",
              " 'adele.txt',\n",
              " 'dj-khaled.txt',\n",
              " 'dickinson.txt',\n",
              " 'cake.txt',\n",
              " 'Kanye_West.txt',\n",
              " 'kanye-west.txt',\n",
              " 'missy-elliott.txt',\n",
              " 'nickelback.txt',\n",
              " 'lin-manuel-miranda.txt',\n",
              " 'nirvana.txt',\n",
              " 'bieber.txt',\n",
              " 'bruce-springsteen.txt',\n",
              " 'bob-marley.txt',\n",
              " 'bob-dylan.txt',\n",
              " 'notorious_big.txt',\n",
              " 'nursery_rhymes.txt',\n",
              " 'nicki-minaj.txt',\n",
              " 'patti-smith.txt',\n",
              " 'al-green.txt',\n",
              " 'Lil_Wayne.txt',\n",
              " 'janisjoplin.txt',\n",
              " 'radiohead.txt',\n",
              " 'rihanna.txt',\n",
              " 'blink-182.txt',\n",
              " 'lady-gaga.txt',\n",
              " 'johnny-cash.txt',\n",
              " 'lorde.txt',\n",
              " 'beatles.txt',\n",
              " 'prince.txt',\n",
              " 'r-kelly.txt',\n",
              " 'eminem.txt',\n",
              " 'dr-seuss.txt',\n",
              " 'alicia-keys.txt',\n",
              " 'kanye.txt',\n",
              " 'lil-wayne.txt',\n",
              " 'paul-simon.txt',\n",
              " 'leonard-cohen.txt',\n",
              " 'ludacris.txt',\n",
              " 'bruno-mars.txt',\n",
              " 'drake.txt',\n",
              " 'dolly-parton.txt',\n",
              " 'joni-mitchell.txt',\n",
              " 'jimi-hendrix.txt',\n",
              " 'michael-jackson.txt',\n",
              " 'amy-winehouse.txt',\n",
              " 'bjork.txt']"
            ]
          },
          "metadata": {},
          "execution_count": 7
        }
      ]
    },
    {
      "cell_type": "code",
      "metadata": {
        "id": "Gb39v3PaZmRH",
        "colab": {
          "base_uri": "https://localhost:8080/",
          "height": 261
        },
        "outputId": "f09caf43-a57a-44bf-b9fc-8c02d95ea2ba"
      },
      "source": [
        "# Armar el dataset utilizando salto de línea para separar las oraciones/docs\n",
        "df = pd.read_csv('songs_dataset/bob-marley.txt', sep='/n', header=None)\n",
        "df.head()"
      ],
      "execution_count": 8,
      "outputs": [
        {
          "output_type": "stream",
          "name": "stderr",
          "text": [
            "<ipython-input-8-89d9bc44a57b>:2: ParserWarning: Falling back to the 'python' engine because the 'c' engine does not support regex separators (separators > 1 char and different from '\\s+' are interpreted as regex); you can avoid this warning by specifying engine='python'.\n",
            "  df = pd.read_csv('songs_dataset/bob-marley.txt', sep='/n', header=None)\n"
          ]
        },
        {
          "output_type": "execute_result",
          "data": {
            "text/plain": [
              "                                                   0\n",
              "0                        \"Don't worry about a thing,\n",
              "1      'Cause every little thing gonna be all right.\n",
              "2               Singin': \"Don't worry about a thing,\n",
              "3  'Cause every little thing gonna be all right!\"...\n",
              "4                        Smiled with the risin' sun,"
            ],
            "text/html": [
              "\n",
              "  <div id=\"df-c8a867bf-41ec-4587-8757-b8b7cedaef4a\" class=\"colab-df-container\">\n",
              "    <div>\n",
              "<style scoped>\n",
              "    .dataframe tbody tr th:only-of-type {\n",
              "        vertical-align: middle;\n",
              "    }\n",
              "\n",
              "    .dataframe tbody tr th {\n",
              "        vertical-align: top;\n",
              "    }\n",
              "\n",
              "    .dataframe thead th {\n",
              "        text-align: right;\n",
              "    }\n",
              "</style>\n",
              "<table border=\"1\" class=\"dataframe\">\n",
              "  <thead>\n",
              "    <tr style=\"text-align: right;\">\n",
              "      <th></th>\n",
              "      <th>0</th>\n",
              "    </tr>\n",
              "  </thead>\n",
              "  <tbody>\n",
              "    <tr>\n",
              "      <th>0</th>\n",
              "      <td>\"Don't worry about a thing,</td>\n",
              "    </tr>\n",
              "    <tr>\n",
              "      <th>1</th>\n",
              "      <td>'Cause every little thing gonna be all right.</td>\n",
              "    </tr>\n",
              "    <tr>\n",
              "      <th>2</th>\n",
              "      <td>Singin': \"Don't worry about a thing,</td>\n",
              "    </tr>\n",
              "    <tr>\n",
              "      <th>3</th>\n",
              "      <td>'Cause every little thing gonna be all right!\"...</td>\n",
              "    </tr>\n",
              "    <tr>\n",
              "      <th>4</th>\n",
              "      <td>Smiled with the risin' sun,</td>\n",
              "    </tr>\n",
              "  </tbody>\n",
              "</table>\n",
              "</div>\n",
              "    <div class=\"colab-df-buttons\">\n",
              "\n",
              "  <div class=\"colab-df-container\">\n",
              "    <button class=\"colab-df-convert\" onclick=\"convertToInteractive('df-c8a867bf-41ec-4587-8757-b8b7cedaef4a')\"\n",
              "            title=\"Convert this dataframe to an interactive table.\"\n",
              "            style=\"display:none;\">\n",
              "\n",
              "  <svg xmlns=\"http://www.w3.org/2000/svg\" height=\"24px\" viewBox=\"0 -960 960 960\">\n",
              "    <path d=\"M120-120v-720h720v720H120Zm60-500h600v-160H180v160Zm220 220h160v-160H400v160Zm0 220h160v-160H400v160ZM180-400h160v-160H180v160Zm440 0h160v-160H620v160ZM180-180h160v-160H180v160Zm440 0h160v-160H620v160Z\"/>\n",
              "  </svg>\n",
              "    </button>\n",
              "\n",
              "  <style>\n",
              "    .colab-df-container {\n",
              "      display:flex;\n",
              "      gap: 12px;\n",
              "    }\n",
              "\n",
              "    .colab-df-convert {\n",
              "      background-color: #E8F0FE;\n",
              "      border: none;\n",
              "      border-radius: 50%;\n",
              "      cursor: pointer;\n",
              "      display: none;\n",
              "      fill: #1967D2;\n",
              "      height: 32px;\n",
              "      padding: 0 0 0 0;\n",
              "      width: 32px;\n",
              "    }\n",
              "\n",
              "    .colab-df-convert:hover {\n",
              "      background-color: #E2EBFA;\n",
              "      box-shadow: 0px 1px 2px rgba(60, 64, 67, 0.3), 0px 1px 3px 1px rgba(60, 64, 67, 0.15);\n",
              "      fill: #174EA6;\n",
              "    }\n",
              "\n",
              "    .colab-df-buttons div {\n",
              "      margin-bottom: 4px;\n",
              "    }\n",
              "\n",
              "    [theme=dark] .colab-df-convert {\n",
              "      background-color: #3B4455;\n",
              "      fill: #D2E3FC;\n",
              "    }\n",
              "\n",
              "    [theme=dark] .colab-df-convert:hover {\n",
              "      background-color: #434B5C;\n",
              "      box-shadow: 0px 1px 3px 1px rgba(0, 0, 0, 0.15);\n",
              "      filter: drop-shadow(0px 1px 2px rgba(0, 0, 0, 0.3));\n",
              "      fill: #FFFFFF;\n",
              "    }\n",
              "  </style>\n",
              "\n",
              "    <script>\n",
              "      const buttonEl =\n",
              "        document.querySelector('#df-c8a867bf-41ec-4587-8757-b8b7cedaef4a button.colab-df-convert');\n",
              "      buttonEl.style.display =\n",
              "        google.colab.kernel.accessAllowed ? 'block' : 'none';\n",
              "\n",
              "      async function convertToInteractive(key) {\n",
              "        const element = document.querySelector('#df-c8a867bf-41ec-4587-8757-b8b7cedaef4a');\n",
              "        const dataTable =\n",
              "          await google.colab.kernel.invokeFunction('convertToInteractive',\n",
              "                                                    [key], {});\n",
              "        if (!dataTable) return;\n",
              "\n",
              "        const docLinkHtml = 'Like what you see? Visit the ' +\n",
              "          '<a target=\"_blank\" href=https://colab.research.google.com/notebooks/data_table.ipynb>data table notebook</a>'\n",
              "          + ' to learn more about interactive tables.';\n",
              "        element.innerHTML = '';\n",
              "        dataTable['output_type'] = 'display_data';\n",
              "        await google.colab.output.renderOutput(dataTable, element);\n",
              "        const docLink = document.createElement('div');\n",
              "        docLink.innerHTML = docLinkHtml;\n",
              "        element.appendChild(docLink);\n",
              "      }\n",
              "    </script>\n",
              "  </div>\n",
              "\n",
              "\n",
              "<div id=\"df-f108d011-ddfc-43de-b208-75647a680aa8\">\n",
              "  <button class=\"colab-df-quickchart\" onclick=\"quickchart('df-f108d011-ddfc-43de-b208-75647a680aa8')\"\n",
              "            title=\"Suggest charts.\"\n",
              "            style=\"display:none;\">\n",
              "\n",
              "<svg xmlns=\"http://www.w3.org/2000/svg\" height=\"24px\"viewBox=\"0 0 24 24\"\n",
              "     width=\"24px\">\n",
              "    <g>\n",
              "        <path d=\"M19 3H5c-1.1 0-2 .9-2 2v14c0 1.1.9 2 2 2h14c1.1 0 2-.9 2-2V5c0-1.1-.9-2-2-2zM9 17H7v-7h2v7zm4 0h-2V7h2v10zm4 0h-2v-4h2v4z\"/>\n",
              "    </g>\n",
              "</svg>\n",
              "  </button>\n",
              "\n",
              "<style>\n",
              "  .colab-df-quickchart {\n",
              "      --bg-color: #E8F0FE;\n",
              "      --fill-color: #1967D2;\n",
              "      --hover-bg-color: #E2EBFA;\n",
              "      --hover-fill-color: #174EA6;\n",
              "      --disabled-fill-color: #AAA;\n",
              "      --disabled-bg-color: #DDD;\n",
              "  }\n",
              "\n",
              "  [theme=dark] .colab-df-quickchart {\n",
              "      --bg-color: #3B4455;\n",
              "      --fill-color: #D2E3FC;\n",
              "      --hover-bg-color: #434B5C;\n",
              "      --hover-fill-color: #FFFFFF;\n",
              "      --disabled-bg-color: #3B4455;\n",
              "      --disabled-fill-color: #666;\n",
              "  }\n",
              "\n",
              "  .colab-df-quickchart {\n",
              "    background-color: var(--bg-color);\n",
              "    border: none;\n",
              "    border-radius: 50%;\n",
              "    cursor: pointer;\n",
              "    display: none;\n",
              "    fill: var(--fill-color);\n",
              "    height: 32px;\n",
              "    padding: 0;\n",
              "    width: 32px;\n",
              "  }\n",
              "\n",
              "  .colab-df-quickchart:hover {\n",
              "    background-color: var(--hover-bg-color);\n",
              "    box-shadow: 0 1px 2px rgba(60, 64, 67, 0.3), 0 1px 3px 1px rgba(60, 64, 67, 0.15);\n",
              "    fill: var(--button-hover-fill-color);\n",
              "  }\n",
              "\n",
              "  .colab-df-quickchart-complete:disabled,\n",
              "  .colab-df-quickchart-complete:disabled:hover {\n",
              "    background-color: var(--disabled-bg-color);\n",
              "    fill: var(--disabled-fill-color);\n",
              "    box-shadow: none;\n",
              "  }\n",
              "\n",
              "  .colab-df-spinner {\n",
              "    border: 2px solid var(--fill-color);\n",
              "    border-color: transparent;\n",
              "    border-bottom-color: var(--fill-color);\n",
              "    animation:\n",
              "      spin 1s steps(1) infinite;\n",
              "  }\n",
              "\n",
              "  @keyframes spin {\n",
              "    0% {\n",
              "      border-color: transparent;\n",
              "      border-bottom-color: var(--fill-color);\n",
              "      border-left-color: var(--fill-color);\n",
              "    }\n",
              "    20% {\n",
              "      border-color: transparent;\n",
              "      border-left-color: var(--fill-color);\n",
              "      border-top-color: var(--fill-color);\n",
              "    }\n",
              "    30% {\n",
              "      border-color: transparent;\n",
              "      border-left-color: var(--fill-color);\n",
              "      border-top-color: var(--fill-color);\n",
              "      border-right-color: var(--fill-color);\n",
              "    }\n",
              "    40% {\n",
              "      border-color: transparent;\n",
              "      border-right-color: var(--fill-color);\n",
              "      border-top-color: var(--fill-color);\n",
              "    }\n",
              "    60% {\n",
              "      border-color: transparent;\n",
              "      border-right-color: var(--fill-color);\n",
              "    }\n",
              "    80% {\n",
              "      border-color: transparent;\n",
              "      border-right-color: var(--fill-color);\n",
              "      border-bottom-color: var(--fill-color);\n",
              "    }\n",
              "    90% {\n",
              "      border-color: transparent;\n",
              "      border-bottom-color: var(--fill-color);\n",
              "    }\n",
              "  }\n",
              "</style>\n",
              "\n",
              "  <script>\n",
              "    async function quickchart(key) {\n",
              "      const quickchartButtonEl =\n",
              "        document.querySelector('#' + key + ' button');\n",
              "      quickchartButtonEl.disabled = true;  // To prevent multiple clicks.\n",
              "      quickchartButtonEl.classList.add('colab-df-spinner');\n",
              "      try {\n",
              "        const charts = await google.colab.kernel.invokeFunction(\n",
              "            'suggestCharts', [key], {});\n",
              "      } catch (error) {\n",
              "        console.error('Error during call to suggestCharts:', error);\n",
              "      }\n",
              "      quickchartButtonEl.classList.remove('colab-df-spinner');\n",
              "      quickchartButtonEl.classList.add('colab-df-quickchart-complete');\n",
              "    }\n",
              "    (() => {\n",
              "      let quickchartButtonEl =\n",
              "        document.querySelector('#df-f108d011-ddfc-43de-b208-75647a680aa8 button');\n",
              "      quickchartButtonEl.style.display =\n",
              "        google.colab.kernel.accessAllowed ? 'block' : 'none';\n",
              "    })();\n",
              "  </script>\n",
              "</div>\n",
              "    </div>\n",
              "  </div>\n"
            ]
          },
          "metadata": {},
          "execution_count": 8
        }
      ]
    },
    {
      "cell_type": "code",
      "metadata": {
        "id": "riT898QlZnmF",
        "colab": {
          "base_uri": "https://localhost:8080/"
        },
        "outputId": "a0e7fdde-5b97-41d8-d454-1787f68f8a60"
      },
      "source": [
        "print(\"Cantidad de documentos:\", df.shape[0])"
      ],
      "execution_count": 9,
      "outputs": [
        {
          "output_type": "stream",
          "name": "stdout",
          "text": [
            "Cantidad de documentos: 2218\n"
          ]
        }
      ]
    },
    {
      "cell_type": "markdown",
      "metadata": {
        "id": "RDoouHp7Zp6D"
      },
      "source": [
        "### 1 - Ejemplo de Preprocesamiento\n",
        "- Hay que transformar las oraciones en tokens.\n",
        "- Dichas oraciones hay que ajustarlas al tamaño fijo de nuestra sentencia de entrada al modelo.\n",
        "- Hay que separar las palabras objetivos (target) que el modelo debe predecir en cada sentencia armada."
      ]
    },
    {
      "cell_type": "code",
      "metadata": {
        "id": "m5FeTaGvbDbw"
      },
      "source": [
        "from torch_helpers import Tokenizer # tool de keras equivalente a ltokenizer de nltk\n",
        "from torch_helpers import text_to_word_sequence # tool de keras equivalente a word_teokenize de nltk\n",
        "from torch_helpers import pad_sequences # tool de keras qye se utilizará para padding\n",
        "\n",
        "# largo de la secuencia, incluye seq input + word output\n",
        "train_len = 4"
      ],
      "execution_count": 10,
      "outputs": []
    },
    {
      "cell_type": "code",
      "metadata": {
        "id": "Zf3O7eK6ZpP8",
        "colab": {
          "base_uri": "https://localhost:8080/",
          "height": 36
        },
        "outputId": "c24d3305-0c24-4bec-ddc2-7cec40859ef1"
      },
      "source": [
        "# Ejemplo de como transformar una oración a tokens usando keras\n",
        "text = df.loc[0,0]\n",
        "text"
      ],
      "execution_count": 11,
      "outputs": [
        {
          "output_type": "execute_result",
          "data": {
            "text/plain": [
              "'\"Don\\'t worry about a thing,'"
            ],
            "application/vnd.google.colaboratory.intrinsic+json": {
              "type": "string"
            }
          },
          "metadata": {},
          "execution_count": 11
        }
      ]
    },
    {
      "cell_type": "code",
      "metadata": {
        "id": "AOv67Sj7aeFH",
        "colab": {
          "base_uri": "https://localhost:8080/"
        },
        "outputId": "31a59349-eeaf-4c8c-a16d-d6f31874aa7b"
      },
      "source": [
        "tokens = text_to_word_sequence(text) # entran oraciones -> salen vectores de N posiciones (tokens)\n",
        "tokens"
      ],
      "execution_count": 12,
      "outputs": [
        {
          "output_type": "execute_result",
          "data": {
            "text/plain": [
              "[\"don't\", 'worry', 'about', 'a', 'thing']"
            ]
          },
          "metadata": {},
          "execution_count": 12
        }
      ]
    },
    {
      "cell_type": "markdown",
      "metadata": {
        "id": "ZrlyqkoiaymK"
      },
      "source": [
        "1.1 - Transformar las oraciones en secuencias (tokens) de palabras"
      ]
    },
    {
      "cell_type": "code",
      "metadata": {
        "id": "XH_L14Wjaowe"
      },
      "source": [
        "# Recorrer todas las filas y transformar las oraciones\n",
        "# en secuencias de palabras\n",
        "sentence_tokens = []\n",
        "for _, row in df[:None].iterrows():\n",
        "    sentence_tokens.append(text_to_word_sequence(row[0]))"
      ],
      "execution_count": 13,
      "outputs": []
    },
    {
      "cell_type": "code",
      "metadata": {
        "id": "KASzU4CdaxbZ",
        "colab": {
          "base_uri": "https://localhost:8080/"
        },
        "outputId": "27e38c90-9613-4c56-b44b-956bffb2fb87"
      },
      "source": [
        "# Demos un vistazo\n",
        "sentence_tokens[:2]"
      ],
      "execution_count": 14,
      "outputs": [
        {
          "output_type": "execute_result",
          "data": {
            "text/plain": [
              "[[\"don't\", 'worry', 'about', 'a', 'thing'],\n",
              " [\"'cause\", 'every', 'little', 'thing', 'gonna', 'be', 'all', 'right']]"
            ]
          },
          "metadata": {},
          "execution_count": 14
        }
      ]
    },
    {
      "cell_type": "code",
      "metadata": {
        "id": "A659lswTbIIB"
      },
      "source": [
        "# Código para hacer el desfazaje de las palabras\n",
        "# según el train_len\n",
        "text_sequences = []\n",
        "\n",
        "for i in range(train_len, len(tokens)):\n",
        "  seq = tokens[i-train_len:i]\n",
        "  text_sequences.append(seq)"
      ],
      "execution_count": 15,
      "outputs": []
    },
    {
      "cell_type": "code",
      "metadata": {
        "id": "01JEoPPnbgRF",
        "colab": {
          "base_uri": "https://localhost:8080/"
        },
        "outputId": "4e8887ef-f7a6-43a8-bb1d-753dfdf2cf00"
      },
      "source": [
        "# Demos un vistazo a nuestros vectores para entrenar el modelo\n",
        "# seq_input + output\n",
        "text_sequences"
      ],
      "execution_count": 16,
      "outputs": [
        {
          "output_type": "execute_result",
          "data": {
            "text/plain": [
              "[[\"don't\", 'worry', 'about', 'a']]"
            ]
          },
          "metadata": {},
          "execution_count": 16
        }
      ]
    },
    {
      "cell_type": "markdown",
      "metadata": {
        "id": "4B0gHnKVa4W_"
      },
      "source": [
        "1.2 - Crear los vectores de palabras (word2vec)\n",
        "\n",
        "Ahora necesitamos pasarlos a números para que lo entienda la red y separar input de output.\n",
        "- El Input seran integers (word2vec)\n",
        "- Mientras que el output será one hot encodeado (labels) del tamaño del vocabulario"
      ]
    },
    {
      "cell_type": "code",
      "metadata": {
        "id": "fkPNvXeQcS0U"
      },
      "source": [
        "tok = Tokenizer()\n",
        "\n",
        "# El tokeinzer \"aprende\" las palabras que se usaran\n",
        "# Se construye (fit) una vez por proyecto, se aplica N veces (tal cual un encoder)\n",
        "tok.fit_on_texts(text_sequences)\n",
        "\n",
        "# Convertimos las palabras a números\n",
        "# entran palabras -> salen números\n",
        "sequences = tok.texts_to_sequences(text_sequences)"
      ],
      "execution_count": 17,
      "outputs": []
    },
    {
      "cell_type": "code",
      "metadata": {
        "id": "4SIc44IocyQb",
        "colab": {
          "base_uri": "https://localhost:8080/"
        },
        "outputId": "9f0071c9-afc9-475d-aeee-d09ce9979e91"
      },
      "source": [
        "# Ahora sequences tiene los números \"ID\", largo 4\n",
        "sequences"
      ],
      "execution_count": 18,
      "outputs": [
        {
          "output_type": "execute_result",
          "data": {
            "text/plain": [
              "[[1, 2, 3, 4]]"
            ]
          },
          "metadata": {},
          "execution_count": 18
        }
      ]
    },
    {
      "cell_type": "code",
      "metadata": {
        "id": "3ro81yCQc1oX",
        "colab": {
          "base_uri": "https://localhost:8080/"
        },
        "outputId": "2887e812-6838-4368-900e-e99a89425832"
      },
      "source": [
        "# Cantidad de casos (doc) de entrada\n",
        "print(tok.document_count)"
      ],
      "execution_count": 19,
      "outputs": [
        {
          "output_type": "stream",
          "name": "stdout",
          "text": [
            "1\n"
          ]
        }
      ]
    },
    {
      "cell_type": "code",
      "metadata": {
        "id": "nzAWNfroc4u1",
        "colab": {
          "base_uri": "https://localhost:8080/"
        },
        "outputId": "93628de0-e804-48ed-9215-f015d428920f"
      },
      "source": [
        "# Cantidad de palabras distintas\n",
        "print(len(tok.word_counts))"
      ],
      "execution_count": 20,
      "outputs": [
        {
          "output_type": "stream",
          "name": "stdout",
          "text": [
            "4\n"
          ]
        }
      ]
    },
    {
      "cell_type": "code",
      "metadata": {
        "id": "spTBxmFQc6h8",
        "colab": {
          "base_uri": "https://localhost:8080/"
        },
        "outputId": "1de75ea8-5c45-4570-cafe-0997dbc5c91b"
      },
      "source": [
        "# El índice para cada palabra\n",
        "# El sistema las ordena de las más populares a las menos populares\n",
        "print(tok.word_index)"
      ],
      "execution_count": 21,
      "outputs": [
        {
          "output_type": "stream",
          "name": "stdout",
          "text": [
            "{\"don't\": 1, 'worry': 2, 'about': 3, 'a': 4}\n"
          ]
        }
      ]
    },
    {
      "cell_type": "code",
      "metadata": {
        "id": "nUDkjy80c77h",
        "colab": {
          "base_uri": "https://localhost:8080/"
        },
        "outputId": "d1eea935-c715-4684-ed7b-60e763262073"
      },
      "source": [
        "# Cantidad de veces quea aparece cada palabra en cada \"documento\"\n",
        "# (1 documento = 1 caso de entrada)\n",
        "print(tok.word_docs)"
      ],
      "execution_count": 22,
      "outputs": [
        {
          "output_type": "stream",
          "name": "stdout",
          "text": [
            "defaultdict(<class 'int'>, {'about': 1, 'worry': 1, 'a': 1, \"don't\": 1})\n"
          ]
        }
      ]
    },
    {
      "cell_type": "markdown",
      "metadata": {
        "id": "ohS5Tao1d2KB"
      },
      "source": [
        "### 2 - Preprocesamiento completo\n",
        "Debemos realizar los mismos pasos que en el ejemplo anterior, pero antes de eso debemos transformar ese dataset de filas de oraciones en un texto completo continuo para poder extraer el vocabulario."
      ]
    },
    {
      "cell_type": "code",
      "metadata": {
        "id": "63Z2-Se2t27r",
        "colab": {
          "base_uri": "https://localhost:8080/"
        },
        "outputId": "e07d1db1-f968-439a-f60a-b9e0b202c723"
      },
      "source": [
        "# Vistazo a las primeras filas\n",
        "df.loc[:15,0]"
      ],
      "execution_count": 23,
      "outputs": [
        {
          "output_type": "execute_result",
          "data": {
            "text/plain": [
              "0                           \"Don't worry about a thing,\n",
              "1         'Cause every little thing gonna be all right.\n",
              "2                  Singin': \"Don't worry about a thing,\n",
              "3     'Cause every little thing gonna be all right!\"...\n",
              "4                           Smiled with the risin' sun,\n",
              "5                                    Three little birds\n",
              "6                                  Perch by my doorstep\n",
              "7                                   Singin' sweet songs\n",
              "8                            Of melodies pure and true,\n",
              "9     Sayin', (\"This is my message to you-ou-ou:\") S...\n",
              "10       'Cause every little thing gonna be all right.\"\n",
              "11    Singin': \"Don't worry (don't worry) 'bout a th...\n",
              "12    'Cause every little thing gonna be all right!\"...\n",
              "13                          Smiled with the risin' sun,\n",
              "14                                   Three little birds\n",
              "15                                 Perch by my doorstep\n",
              "Name: 0, dtype: object"
            ]
          },
          "metadata": {},
          "execution_count": 23
        }
      ]
    },
    {
      "cell_type": "code",
      "metadata": {
        "id": "kILsSoxTuHEr",
        "colab": {
          "base_uri": "https://localhost:8080/",
          "height": 123
        },
        "outputId": "dfe50caf-25c1-4c3e-9ab8-a0867b116f8e"
      },
      "source": [
        "# Concatenamos todos los rows en un solo valor\n",
        "corpus = df.apply(lambda row: ' '.join(row.values.astype(str)), axis=0)[0]\n",
        "corpus"
      ],
      "execution_count": 24,
      "outputs": [
        {
          "output_type": "execute_result",
          "data": {
            "text/plain": [
              "'\"Don\\'t worry about a thing, \\'Cause every little thing gonna be all right. Singin\\': \"Don\\'t worry about a thing, \\'Cause every little thing gonna be all right!\" Rise up this mornin\\', Smiled with the risin\\' sun, Three little birds Perch by my doorstep Singin\\' sweet songs Of melodies pure and true, Sayin\\', (\"This is my message to you-ou-ou:\") Singin\\': \"Don\\'t worry \\'bout a thing, \\'Cause every little thing gonna be all right.\" Singin\\': \"Don\\'t worry (don\\'t worry) \\'bout a thing, \\'Cause every little thing gonna be all right!\" Rise up this mornin\\', Smiled with the risin\\' sun, Three little birds Perch by my doorstep Singin\\' sweet songs Of melodies pure and true, Sayin\\', \"This is my message to you-ou-ou:\" Singin\\': \"Don\\'t worry about a thing, worry about a thing, oh! Every little thing gonna be all right. Don\\'t worry!\" Singin\\': \"Don\\'t worry about a thing\" - I won\\'t worry! \"\\'Cause every little thing gonna be all right.\" Singin\\': \"Don\\'t worry about a thing, \\'Cause every little thing gonna be all right\" - I won\\'t worry! Singin\\': \"Don\\'t worry about a thing, \\'Cause every little thing gonna be all right.\" Singin\\': \"Don\\'t worry about a thing, oh no! \\'Cause every little thing gonna be all right! /fadeout/ Here is a little song I wrote You might want to sing it note for note Don\\'t worry be happy In every life we have some trouble When you worry you make it double Don\\'t worry, be happy...... Ain\\'t got no place to lay your head Somebody came and took your bed Don\\'t worry, be happy The land lord say your rent is late He may have to litigate Don\\'t worry, be happy Look at me I am happy Don\\'t worry, be happy Here I give you my phone number When you worry call me I make you happy Don\\'t worry, be happy Ain\\'t got no cash, ain\\'t got no style Ain\\'t got no girl to make you smile But don\\'t worry be happy Cause when you worry Your face will frown And that will bring everybody down So don\\'t worry, be happy (now)..... There is this little song I wrote I hope you learn it note for note Like good little children Don\\'t worry, be happy Listen to what I say In your life expect some trouble But when you worry You make it double Don\\'t worry, be happy...... Don\\'t worry don\\'t do it, be happy Put a smile on your face Don\\'t bring everybody down like this Don\\'t worry, it will soon pass Whatever it is Don\\'t worry, be happy One love, one heart Let\\'s get together and feel all right Hear the children crying (One love) Hear the children crying (One heart) Sayin\\', \"Give thanks and praise to the Lord and I will feel all right Sayin\\', \"Let\\'s get together and feel all right Whoa, whoa, whoa, whoa Let them all pass all their dirty remarks (one love) There is one question I\\'d really love to ask (one heart) Is there a place for the hopeless sinner Who has hurt all mankind just to save his own? Believe me One love, one heart Let\\'s get together and feel all right As it was in the beginning (one love) So shall it be in the end (one heart) Alright, give thanks and praise to the Lord and I will feel all right Let\\'s get together and feel all right One more thing Let\\'s get together to fight this Holy Armageddon (one love) So when the Man comes there will be no, no doom (one song) Have pity on those whose chances grow thinner There ain\\'t no hiding place from the Father of Creation Sayin\\', one love, one heart Let\\'s get together and feel all right I\\'m pleading to mankind (one love) Oh, Lord (one heart) whoa Give thanks and praise to the Lord and I will feel all right Let\\'s get together and feel all right Give thanks and praise to the Lord and I will feel all right Let\\'s get together and feel all right UH !Bad boys watcha gon,watcha gon,watcha gonna do? When sherif John Brown come for you? Let me! Whatcha wanna do? When they come for you? Bad boys,bad boys whatcha gonna do whatcha gonna do? When they come for you?Bad boys bad boys whatcha gonna do? Whatcha gonna do whatcha gonna do when they come for you? When you were eight and you had bad dreams you go to school And that\\'s the golden rule,So why are you acting like a bloody fool If you get hot then you must get cool! Bad boys,bad boys whatcha gonna do whatcha gonna do? When they come for you?Bad boys bad boys whatcha gonna do? Whatcha gonna do whatcha gonna do when they come for you? You chuck it down thas one, You chuck it down thit one, You chuck it down ya mother, And ya chuck it down ya father, Ya chuck it down a brother, And ya chuck it down ya siter, You chuck it down that one and you chuck it down Me! Bad boys,bad boys whatcha gonna do whatcha gonna do? When they come for you?Bad boys bad boys whatcha gonna do? Whatcha gonna do whatcha gonna do when they come for you? Nobody hit ya over Break, Pleas stop acting over Break, No soldier man will give ya a break, Then Your eyes would give you wits Hhh! Bad boys,bad boys whatcha gonna do whatcha gonna do? When they come for you?Bad boys bad boys whatcha gonna do? Whatcha gonna do whatcha gonna do when they come for you?(When they come for you?) Why did you have to act so mean? Don\\'t you know you\\'re a human being? Born of a mother with the love of a father, Reflexion comes and reflexion goes, I know sometime you wanna let go hehehe i know sometime you wanna let go Bad boys,bad boys whatcha gonna do whatcha gonna do? When they come for you?Bad boys bad boys whatcha gonna do? Whatcha gonna do whatcha gonna do when they come for you? Your too bad, your too rude, your too bad, your too rude, Bad boys,bad boys whatcha gonna do whatcha gonna do? When they come for you?Bad boys bad boys whatcha gonna do? Whatcha gonna do whatcha gonna do when they come for you? You chuck it down that one, you chuck it down this one, you chuck it down ya mother, and you chuck it down your brother and you chuck it down your sister AND YOU CHUCK IT DOWN ME!! No, woman, no cry, No, woman, no cry, No, woman, no cry, No, woman, no cry. \\'Cause, \\'cause, \\'cause, I remember when we used to sit In the government yard in Trenchtown, Oba - obaserving the \\'ypocrites Mingle with the good people we meet. Good friends we have, oh, good friends we\\'ve lost Along the way. In this great future, you can\\'t forget your past, So dry your tears, I seh. No, woman, no cry, No, woman, no cry. \\'Ere, little darlin\\', don\\'t shed no tears, No, woman, no cry. Said, said, said, I remember when-a we used to sit In the government yard in Trenchtown. And then Georgie would make the fire lights, As it was logwood burnin\\' through the nights. Then we would cook cornmeal porridge, Of which I\\'ll share with you, My feet is my only carriage, So I\\'ve got to push on through. While I\\'m gone Everything\\'s gonna be all right! Everything\\'s gonna be all right! Everything\\'s gonna be all right! Everything\\'s gonna be all right! Everything\\'s gonna be all right! Everything\\'s gonna be all right! Everything\\'s gonna be all right! Everything\\'s gonna be all right! So, no woman, no cry, No, no, woman, woman, no cry. I say, oh little oh little darling, don\\'t shed no tears, No, woman, no cry. No woman, no woman, no woman, no cry No woman, no cry, one more time I\\'ve to say Oh little little darling, please don\\'t shed no tears, No woman, no cry No woman, no woman, no cry Old pirates, yes, they rob I, Sold I to the merchant ships Minutes after they took I From the bottomless pit But my \\'and was made strong By the \\'and of the Almighty We forward in this generation Triumphantly Won\\'t you help to sing These songs of freedom? \\'Cause all I ever have Redemption songs Redemption songs Emancipate yourself from mental slavery None but our self can free our minds Have no fear for atomic energy \\'Cause none of them can stop the time How long shall they kill our prophets While we stand aside and look? Some say it\\'s just a part of it We\\'ve got to fulfill de book Won\\'t you help to sing These songs of freedom? \\'Cause all I ever have Redemption songs Redemption songs Redemption songs Emancipate yourself from mental slavery None but our self can free our mind Have no fear for atomic energy \\'Cause none of them can stop the time How long shall dey kill our prophets While we stand aside and look? Some say it\\'s just a part of it We\\'ve got to fulfill de book Won\\'t you help to sing These songs of freedom? \\'Cause all I ever had Redemption songs All I ever had Redemption songs These songs of freedom Songs of freedom I want to love you I want to love you, and treat you right I want to love you, every day and every night I want to love you, and treat you right I want to love you, every day and every night We\\'ll be together, with a roof right over our heads We\\'ll share the shelter, of my single bed We\\'ll share the same room Is this love, is this love, is this love Is this love that I\\'m feelin\\'? I want to love you, and treat you right I want to love you, every day and every night We\\'ll be together, with a roof right over our heads We\\'ll share the shelter, of my single bed We\\'ll share the same room Is this love, is this love, is this love Is this love that I\\'m feelin\\'? Is this love, is this love, is this love Is this love that I\\'m feelin\\'? I want to know, want to know, want to know now Is this love, is this love, is this love Is this love that I\\'m feelin\\'? Is this love, is this love, is this love Is this love that I\\'m feelin\\'? I want to love you I\\'m gonna smoke\\'a de ganja until I go blind. You know I smoke\\'a de ganja all a de time. Smoke\\'a de ganja when I\\'m with friends. We gonna smoke\\'a de ganja until the very end. Whoo-oo Ganja ganja Whoo-oo Ganja gun Whoo-oo Ganja ganja Whoo-oo Ganja gun (vocal solo) Whoo-oo Ganja ganja Whoo-oo Ganja gun Whoo-oo Ganja ganja Whoo-oo Ganja gun Smoke\\'a de ganja every day Ya you gonn\\' smoke\\'a de ganja in many different ways You can smoke\\'a de ganja in a big fat bowl or you can smoke\\'a de ganja in a bong N\\' If ya\\' very lucky you can smoke it in a bong When you smoke it in a bong, you are baked all night long Mista... Whoo-oo Ganja ganja Whoo-oo Ganja gun Whoo-oo Ganja ganja Whoo-oo Ganja gun (vocal solo) Don\\'t worry about a thing \\'Cause every little thing gonna be alright Singing\\' don\\'t worry about a thing \\'Cause every little thing gonna be alright Rise up this mornin\\' Smiled with the risin\\' sun Three little birds Pitch by my doorstep Singin\\' sweet songs Of melodies pure and true Saying\\', (this is my message to you) Singing\\' don\\'t worry \\'bout a thing \\'Cause every little thing gonna be alright Singing\\' don\\'t worry (don\\'t worry) \\'bout a thing \\'Cause every little thing gonna be alright Rise up this mornin\\' Smiled with the risin\\' sun Three little birds Pitch by my doorstep Singin\\' sweet songs Of melodies pure and true Sayin\\', this is my message to you Singin\\' don\\'t worry about a thing, worry about a thing, oh Every little thing gonna be alright, don\\'t worry Singin\\' don\\'t worry about a thing, I won\\'t worry \"\\'Cause every little thing gonna be alright Singin\\' don\\'t worry about a thing \\'Cause every little thing gonna be alright, I won\\'t worry Singin\\', don\\'t worry about a thing \\'Cause every little thing gonna be alright Singin\\' don\\'t worry about a thing, oh no \\'Cause every little thing gonna be alright [Bob Marley (MC Lyte)] We jammin\\' (Bob Marley, Bob Marley) I wanna jam it with you We jammin\\' (Bob Marley, Bob Marley) I hope you like jammin\\' too [Bob Marley] In rows or around, we can jam it anyhow I\\'n\\'I, I will see you through Everyday we pay the price, with a livin\\' sacrafice Jammin\\' \\'til the jam is through [Bob Marley] We jammin\\', to think that jammin\\' was a thing of the past We jammin and I hope the jam is gonna last [MC Lyte] We jammin\\' on the for the daughters and sons The struggle is not over until the battle is won Hip-Hop is life but it ain\\'t all to me Now where would we be if they take our mics from we. Or better yet strip on might itself We done it before so I sit by the door Those that claim but don\\'t really know the game Bob Marley, learn the man behind the name [Bob Marley] Oh Holy Mount Zion Oh Holy Mount Zion Oh Holy Mount Zion Oh Holy Mount Zion We see it in Mount Zion And Rules all creation [Bob Marley] Were jammin\\' [Repeats] Hope you like jammin\\' to [Repeats] [MC Lyte] J-A-Double M-I-N We be jammin\\' from Brooklyn down to Kingston We be jammin\\' in the name of the Lord sweet Allah We no the blessings from above I and are be no rap star Exodus when i bust, See the struggle i must, Realizing the just but whats next on the cusp All soldiers of war steadily ignore Still we ain\\'t sure what the battle is for Years ago when we toured Ready to explore Entered through back doors Treated like stank manure Spoke up for rights, we were cracked in the jaw Elvis made a bundle while we remained poor We remained poor but we be jammin\\' I\\'n\\'I will see you through [Repeat: x2] MC Lyte] Come along way but we\\'re still not there yet [Bob Marley] I\\'n\\'I will see you through Jah knows the mighty cry, the truth it cannot hide To keep you satisfied Love that does exist, is the love i cant resist So jam by my side We jammin\\' and we\\'re jammin\\' in the name of the lord we\\'re jammin\\' [Repeats] we\\'re jammin right straight from york holy mount zion I\\'n\\'I will see you through [Repeats] Buffalo Soldier, dreadlock Rasta There was a Buffalo Soldier In the heart of America Stolen from Africa, brought to America Fighting on arrival, fighting for survival I mean it, when I analyze these things To me, it makes a lot of sense How the dreadlock Rasta was the Buffalo Soldier And he was taken from Africa, brought to America Fighting on arrival, fighting for survival Said he was a Buffalo Soldier, dreadlock Rasta Buffalo Soldier, in the heart of America If you know your history Then you would know where you coming from Then you wouldn\\'t have to ask me Who the heck do I think I am I\\'m just a Buffalo Soldier In the heart of America Stolen from Africa, brought to America Said he was fighting on arrival Fighting for survival Said he was a Buffalo Soldier Win the war for America Said he was a, woe yoy yoy, woe woe yoy yoy Woe yoy yoy yo, yo yo woy yo, woe yoy yoy Woe yoe yoe, woe woe yoe yoe Woe yoe yoe yo, yo yo woe yo woe yo yoe Buffalo Soldier, troddin\\' through the land woo ooh Said he wanna ran, then you wanna hand Troddin\\' through the land, yea, yea Said he was a Buffalo Soldier Win the war for America Buffalo Soldier, dreadlock Rasta Fighting on arrival, fighting for survival Driven from the mainland To the heart of the Caribbean Singing, woe yoy yoy, woe woe yoy yoy Woe yoy yoy yo, yo yo woy yo woy yo yoy Woy yoy yoy, woy woy yoy yoy Woy yoy yoy yo, yo yo woe yo woe yo yoy Troddin\\' through San Juan In the arms of America Troddin\\' through Jamaica, a Buffalo Soldier Fighting on arrival, fighting for survival Buffalo Soldier, dreadlock Rasta Woe yoy yoy, woy woy yoy yoy Woe yoy yoy yoy, yoy yoy woy yoy woy yoy yoy Oh, yeah, well, alright We\\'re jammin\\' I want to jam it with you We\\'re jammin\\', jammin\\' And I hope you like jammin\\' too Ain\\'t no rules, ain\\'t no vow We can do it anyhow I and I will see you through \\'Cause every day we pay the price With a little sacrifice Jammin\\' till the jam is through We\\'re jammin\\' To think that jammin\\' was a thing of the past We\\'re jammin\\' And I hope this jam is gonna last No bullet can stop us now We neither beg nor we won\\'t bow Neither can be bought nor sold We all defend the right Jah Jah children must unite For life is worth much more than gold We\\'re jammin\\', jammin\\', jammin\\', jammin\\' And we\\'re jammin\\' in the name of the Lord We\\'re jammin\\', jammin\\', jammin\\', jammin\\' We\\'re jammin\\' right straight from yard Singing Holy Mount Zion, Holy Mount Zion Jah sitteth in Mount Zion and rules all creation Yeah, we\\'re jammin\\' Bop-chu-wa-wa-wa We\\'re jammin\\' I want to jam it with you We\\'re jammin\\', jammin\\', jammin\\', jammin\\' And Jamdown hope you\\'re jammin\\', too Jah knows how much I \\'ave tried The truth cannot hide To keep you satisfied True love that now exists Is the love I can\\'t resist So jam by my side We\\'re jammin\\', jammin\\', jammin\\', jammin\\' I want to jam it with you We\\'re jammin\\', we\\'re jammin\\' We\\'re jammin\\', we\\'re jammin\\' We\\'re jammin\\', we\\'re jammin\\' We\\'re jammin\\', we\\'re jammin\\' Hope you like jammin\\', too We\\'re jammin\\', we\\'re jammin\\' We\\'re jammin\\', we\\'re jammin\\' I want, I want, I want to jam with you now We\\'re jammin\\', we\\'re jammin\\' I hope you like jammin\\' I hope you like jammin\\' \\'Cause I want to jam it with you I like I hope, I hope you like jammin\\' too I wanna jam it, wanna jam it Doo, do-do-wop, choo-whop, choo-wop Doo, do-do-wop, choo-whop, choo-wop Doo, do-do-wop, choo-whop, choo-wop Doo, do-do-wop, choo-whop, choo-wop How many times I\\'ve told you I love you? But now you want to say that we are through What more can I do? What more can I say to you? Now you\\'re gone Do you remember that first night we met? That was a moment I never will forget Love was at first sight You came walking through the pale, Pale moonlight Pale, pale moonlight Do you remember that first night we met? That was a moment I\\'ll never will forget Love was at your first sight You came walking through the p-p-pale, p-p-pale, Pale moonlight Pale, pale moonlight Doo, do-do-wop, choo-wop, choo-wop Doo, do-do-wop, choo-wop, choo-wop Doo, do-do-wop, choo-whop, choo-wop Doo, do-do-wop, choo-whop, choo-wop Doo, do-do-wop, choo-wop, choo-wop Doo, do-do-wop, choo-wop, choo-wop Doo, do-do-wop, choo-whop, choo-wop Doo, do-do-wop, choo-whop, choo-wop Don\\'t you look at me so smug And say I\\'m going bad. Who are you to judge me And the life that I live? I know that I\\'m not perfect And that I don\\'t claim to be. So before you point your fingers, Be sure your hands are clean. Judge not Before you judge yourself. Judge not If you\\'re not ready for judgement. Woah oh oh! The road of life is rocking And you may stumble too. So while you talk about me, someone else is judging you. (Saxophone solo) Judge not Before you judge yourself. Judge not If you\\'re not ready for judgement. Woah oh oh! The road of life is rocky And you may stumble too. So while you talk about me Someone else is judging you, Someone else is judging you, Someone else is judging you, Someone else is judging you, Someone else is judging you. (fadeout) I\\'m a rebel Soul rebel I\\'m a capturer Soul adventurer See the morning sun, the morning sun On the hillside If you\\'re not living good yeah, travel wide Said I\\'m a living man, And I\\'ve got work to do. If you\\'re not happy, children Then you must be blue (must be blue, must be blue) People say I\\'m a rebel, let them talk, Soul rebel, talk won\\'t bother me. I\\'m a capturer, that\\'s what they say, Soul adventurer, night and day I\\'m a rebel (I am a rebel) Soul rebel Do you hear them lippy I\\'m a capturer, gossip around the corner Soul adventurer (how they adventure on me yo) But, see the morning sun On the hillside Not living good Travel wide You gotta travel wide Said I\\'m a living man I\\'ve got work to do If you\\'re not happy, then you must be blue I\\'m a rebel Soul rebel I\\'m a capturer Soul adventurer Do you hear me? I\\'m a rebel (rebel in the morning) Soul rebel, rebel at midday time One, two, three I don\\'t wanna wait in vain for your love I don\\'t wanna wait in vain for your love From the very first time I blessed my eyes on you, girl My heart says follow t\\'rough But I know, now, that I\\'m way down on your line But the waitin\\' feel is fine So don\\'t treat me like a puppet on a string \\'Cause I know how to do my thing Don\\'t talk to me as if you think I\\'m dumb I wanna know when you\\'re gonna come, see I don\\'t wanna wait in vain for your love I don\\'t wanna wait in vain for your love I don\\'t wanna wait in vain for your love \\'Cause if summer is here I\\'m still waiting there Winter is here And I\\'m still waiting there Like I said It\\'s been three years since I\\'m knockin\\' on your door And I still can knock some more Oh girl, ooh girl, is it feasible? I wanna know now, for I to knock some more Ya see, in life I know there\\'s lots of grief But your love is my relief Tears in my eyes burn, tears in my eyes burn While I\\'m waiting, while I\\'m waiting for my turn See I don\\'t wanna wait in vain for your love I don\\'t wanna wait in vain for your love I don\\'t wanna wait in vain for your love I don\\'t wanna wait in vain for your love I don\\'t wanna wait in vain for your love, oh I don\\'t wanna, I don\\'t wanna, I don\\'t wanna, I don\\'t wanna I don\\'t wanna wait in vain No, I don\\'t wanna, I don\\'t wanna, I don\\'t wanna, I don\\'t wanna I don\\'t wanna wait in vain No, I don\\'t wanna (I don\\'t wanna, I don\\'t wanna, I don\\'t wanna I don\\'t wanna, I don\\'t wanna wait in vain) No I, no I (I don\\'t wanna, I don\\'t wanna, I don\\'t wanna I don\\'t wanna, I don\\'t wanna wait in vain) It\\'s your love that I\\'m waiting on (I don\\'t wanna) It\\'s me love that you\\'re running from. (I don\\'t wanna wait in vain) It\\'s your love that I\\'m waiting on (I don\\'t wanna) It\\'s me love that you\\'re running from. (I don\\'t wanna wait in vain) I don\\'t wanna, I don\\'t wanna, I don\\'t wanna, I don\\'t wanna I don\\'t wanna wait in vain Stir it up, little darlin\\', stir it up. Come on, baby Come on and stir it up, little darlin\\', stir it up. O-oh! It\\'s been a long, long time, yeah! (Stir it, stir it, stir it together) Since I\\'ve got you on my mind (oh-oh-oh-oh) Oh-oh! Now you are here (stir it, stir it, stir it together), I said It\\'s so clear To see what we could do, baby, (oh-oh-oh-oh) Just me and you Come on and stir it up, little darlin\\'! Stir it up, come on, baby! Come on and stir it up, yeah! Little darlin\\', stir it up! O-oh! I\\'ll push the wood (stir it, stir it, stir it together) Then I blaze ya fire Then I\\'ll satisfy your heart\\'s desire. (Oh-oh-oh-oh) Said, I stir it together (stir it, stir it, stir it together) Every minute All you got to do, baby, (oh-oh-oh-oh) Is keep it in, and (Stir it up) oh, little darlin\\' Stir it up, baby! Come on and stir it up, oh-oh-oh! Little darlin\\', stir it up! Wo-oh! Mm, now, now Quench me when I\\'m thirsty Come on and cool me down, baby, when I\\'m hot (oh-oh-oh-oh) Your recipe is, darlin\\' is so tasty When you show and stir your pot So, stir it up, oh! Little darlin\\', stir it up, wo, now! Come on and stir it up, oh-ah! Little darlin\\', stir it up! Oh, little darlin\\', stir it up. Come on, babe! Come on and stir it up, wo-o-a! Little darlin\\', stir it up! Stick with me, baby! Come on, come on and stir it up, oh-oh! Little darlin\\', stir it up, stir it, stir it, stir it, stir it,stir it Simmer down, you lickin\\' too hot, so Simmer down, soon you\\'ll get dropped, so Simmer down, can you hear what I say Simmer down, that why won\\'t you, why won\\'t you, why won\\'t you simmer down Simmer down. Long time people dem used to say What sweet nanny goat a go run him belly, so Simmer down, oh control your temper Simmer down, for the battle will be hotter Simmer down, can you hear what I say Simmer down, oh that I\\'m a leaving you today Simmer down. Simmer down, oh you hear what I say Simmer down, a that I\\'m leaving you today Simmer down, can you hear what I say Simmer down. Chicken Mary, hawk de near and when him de near, you must beware, so Simmer down, oh control your temper Simmer down, for the battle will be hotter Simmer down, and you won\\'t get no supper Simmer down, and you know you bound to suffer Simmer down, simmer, simmer, simmer right down Simmer down, like you never did before Simmer down, oh, oh, oh Simmer down, can you hear what I say Simmer down, you lickin\\' too hot so Simmer down, and you know soon you\\'ll get dropped, so Simmer down, why won\\'t you simmer, simmer down Simmer down, simmer down, simmer down Simmer down, simmer, simmer down Simmer down, oh simmer, simmer down Simmer down, like you never did before There she goes with the pieces from my heart There she goes and now my teardrops start And ere I go once again Through these lonely heartaches and pain That\\'s all remain all remain Now I know love is a guessin\\' game She goes with the pieces from my heart There she goes and now my teardrops start Who\\'s gonna put back the pieces to my broken heart Once again, once again now I know this could be the end And she gone with the pieces of my heart There she goes and now my teardrops start And here I go once again Through these lonely heartaches and pain That\\'s all remain Now I know this could be the end She goes with de pieces from my heart There she goes and now my teardrops start There she goes with the pieces from my heart Long time we no have no nice time: You-you doo-doo-doo, yeah: think about that! Long time we no have no nice time: You-you doo-doo-doo, yeah: think about that! This is my heart: To rock you steady; I\\'ll give you love Time you\\'re you ready. This little heart in me Just won\\'t let me be; I\\'m rockin\\'; Won\\'t you rock with me? Long time we no have no nice time: You-you doo-doo-doo, yeah: think about that! This is my heart: To rock you steady; I\\'ll give you love The time you\\'re you ready. This little heart in me Just won\\'t let me be; I\\'m just-a rock this now; Won\\'t you rock wid me? A long - long - long - long time we no have no nice time: Thank ya, thank ya, babe! (You-you doo-doo-doo, yeah: think about that!) Could you be loved and be loved? Could you be loved and be loved? Don\\'t let them fool ya Or even try to school ya, oh, no We\\'ve got a mind of our own So go to hell if what you\\'re thinking is not right Love would never leave us alone A-yin the darkness there must come out to light Could you be loved and be loved? Could you be loved, wo now, and be loved? (The road of life is rocky and you may stumble too So while you point your fingers someone else is judging you) Love your brotherman (Could you be, could you be, could you be loved? Could you be, could you be loved? Could you be, could you be, could you be loved? Could you be, could you be loved?) Don\\'t let them change ya, oh Or even rearrange ya, oh, no We\\'ve got a life to live They say, only, only Only the fittest of the fittest shall survive Stay alive, eh Could you be loved and be loved? Could you be loved, wo now, and be loved? (You ain\\'t gonna miss your water until your well runs dry No matter how you treat him, the man will never be satisfied) Say something! (could you be, could you be, could you be loved? Could you be, could you be loved) Say something say something (could you be, could you be, could you be loved?) Say something (could you be, could you be loved?) Say something say something (say something) Say something say something (could you be loved?) say something Say something reggae, reggae Say something rockers, rockers Say something reggae, reggae Say something rockers, rockers Say something (could you be loved?) say something, uh Say something, come on Say something (could you be, could you be, could you be loved?) Say something (could you be, could you be loved?) Say something (could you be, could you be, could you be loved?) Say something (could you be, could you be loved?) You said you love me; I said I love you. Why won\\'t you stop your cryin\\'? Dry your weeping eyes. You know that I love you Groovin\\' Here I am, Groovy Child Come rub \\'pon me belly Like a guava jelly, (Here I stand) (Come rub it \\'pon me belly) Like a guava jelly) Verse 2 You say you need me I say I need you,too Baby Why don\\'t, stop your cryin\\' And dry your weeping eyes You know I love you Chorus Groovy , Here I am (Come rub pon me belly) Like a guava jelly), Ooh baby here I am Come rub pon me belly Like a guava jelly Repeat/ adlib Guava Guava jelly, Guava Guava jeelly Until the philosophy Which hold one race superior and another Inferior Is finally And permanently Discredited And abandoned Everywhere is war Me say war That until there no longer First class and second class citizens of any nation Until the color of a man\\'s skin Is of no more significance than the color of his eyes Me say war That until the basic human rights Are equally guaranteed to all Without regard to race Dis a war That until that day The dream of lasting peace, World citizenship Rule of international morality Will remain in but a fleeting illusion to be pursued, But never attained Now everywhere is war War And until the ignoble and unhappy regimes That hold our brothers in Angola In Mozambique South Africa Sub-human bondage Have been toppled Utterly destroyed Well, everywhere is war Me say war War in the east War in the west War up north War down south War war Rumors of war And until that day, The African continent Will not know peace, We Africans will fight we find it necessary And we know we shall win As we are confident In the victory Of good over evil Good over evil, yeah Good over evil Good over evil, yeah Good over evil Get up, stand up, stand up for your rights Get up, stand up, stand up for your rights Get up, stand up, stand up for your rights Get up, stand up, don\\'t give up the fight Preacher man, don\\'t tell me Heaven is under the earth I know you don\\'t know What life is really worth It\\'s not all that glitters is gold \\'Alf the story has never been told So now you see the light, eh Stand up for your rights, come on Get up, stand up, stand up for your rights Get up, stand up, don\\'t give up the fight Get up, stand up, stand up for your rights Get up, stand up, don\\'t give up the fight Most people think Great God will come from the skies Take away everything And make everybody feel high But if you know what life is worth You will look for yours on earth And now you see the light You stand up for your rights, jah Get up, stand up (Jah, Jah) Stand up for your rights (oh-hoo) Get up, stand up (get up, stand up) Don\\'t give up the fight (life is your right) Get up, stand up (so we can\\'t give up the fight) Stand up for your right (Lord, Lord) Get up, stand up (keep on struggling on) Don\\'t give up the fight (yeah) We sick an\\' tired of-a your ism-skism game Dyin\\' \\'n\\' goin\\' to heaven in-a Jesus\\' name, Lord We know when we understand Almighty God is a living man You can fool some people sometimes But you can\\'t fool all the people all the time So now we see the light (what you gonna do?) We gonna stand up for our rights (yeah, yeah, yeah) So you better Get up, stand up (in the morning, git it up) Stand up for your rights (stand up for our rights) Get up, stand up Don\\'t give up the fight (don\\'t give it up, don\\'t give it up) Get up, stand up (get up, stand up) Stand up for your rights (get up, stand up) Get up, stand up Don\\'t give up the fight (get up, stand up) Get up, stand up Stand up for your rights Get up, stand up Don\\'t give up the fight We gonna have a soul shakedown party tonight! We gonna have a soul shakedown party tonight! The way you love-a me, huh! It\\'s all right! When you put your loving arms around me, And you hold me tight, holding me tight This is my invitation I got the special vacation I need your concentration Just to feel your vibration At that soul shakedown party tonight We gonna have a soul shakedown party tonight! Jane is in the back yard Doing the outside dance I\\'m telling you the other day, She didn\\'t even get a chance! But this is my invitation A just-a special vacation I need your concentration Just to, just to, just to (vibration) just to (Soul shakedown party tonight) Baby, I need you tonight! We gonna have a soul shakedown party tonight! Hit it, brother, y\\'all! The way you love-a me, it\\'s all right! (It\\'s all right) When you put your loving arms around me (arms around me), And you hold me tight (holding me tight) This is my invitation I got the special vacation I need your concentration Just to feel your vibration At that soul shakedown party tonight! We gonna have a soul shakedown party tonight! Swing with me, baby! (Soul shakedown party tonight) It will be for two I shot the sheriff But I didn\\'t shoot no deputy Oh, no, no I shot the sheriff But I didn\\'t shoot no deputy Ooh All around in my hometown They\\'re tryin\\' to track me down They say they want to bring me in guilty For the life of a deputy For the life of a deputy But I say I shot the sheriff (But I swear it was in self-defense) I swear it was in self-defense, yeah It was I shot the sheriff And they say it is a capital offense Sheriff John Brown always hated me For what, I don\\'t know Every time I plant a seed He said kill them before it grow He said kill them before they grow And so And so I shot the sheriff But I didn\\'t shoot the deputy It was I shot the sheriff (But I didn\\'t shoot the deputy) I didn\\'t shoot the deputy, no, no Freedom came my way one day And I started out of town, yeah Then all of a sudden I saw sheriff John Brown He was aiming to shoot I down So I shot, yes, I shot, shot him down And I say I-I-I-I shot the sheriff Lord, I didn\\'t shoot the deputy (No, no, no) It was I who shot the sheriff But I didn\\'t shoot the deputy Reflexes had the better of me And what is to be must be Every day the bucket goes to the well I say, one day the bottom a-go drop out One day the bottom will drop out And so And so Really sing I shot the sheriff But I didn\\'t shoot the deputy (No, no, no) I shot the sheriff But I didn\\'t shoot the deputy They just keep holdin\\' me Won\\'t let go Holdin\\' me Won\\'t let go I need a hammer, a hammer, a hammer, a hammer To hammer them down I need a rammer, a rammer, a rammer, a rammer To ram them down They just keep teasin\\' me And, you know, they play like they don\\'t know Provokin\\' me But this is all I know I need a rammer, a rammer, a rammer, a rammer To ram them down I need a hammer, a hammer, a hammer, a hammer To hammer them down Wee, ooh, ooh, ooh, ooh, ooh Ooh, ooh, ooh, ooh, ooh, ooh Oh, I need a rammer, a rammer, a rammer, a rammer To rama thema down Oh, I need a hammer, a hammer, a hammer, a hammer To hammer them down Said, I need a rammer, a rammer, a rammer, a rammer To rama them down I need a hammer, a hammer, a hammer, a hammer To hammer them down Holdin\\' me Won\\'t let go Holdin\\' me Won\\'t let go I need a rammer, a rammer, a rammer, a rammer To rama them down I need a hammer, a hammer, a hammer, a hammer To hammer them down (I need a rammer) I need a hammer, a hammer, a hammer, a hammer To hammer them down I need a rammer, a rammer, a rammer, a rammer To ram them down I need a hammer, a hammer, a hammer, a hammer To hammer them down I need a rammer, a rammer, a rammer, a rammer To ram them down She love to party, have a good time She looks so hearty, feeling fine She loves to smoke, sometime shiftin\\' coke She\\'ll be laughin\\' when there ain\\'t no joke A pimper\\'s paradise, that\\'s all she was now A pimper\\'s paradise, that\\'s all she was A pimper\\'s paradise, that\\'s all she was now Pimper\\'s paradise, that\\'s all she was Every need got an ego to feed Every need got an ego to feed She loves to model up in the latest fashion (oo-bee doo-be doo) She\\'s in the scramble and she moves with passion (oo-bee doo-be doo) She\\'s getting high (ooh), trying to fly the sky (oo-bee doo-be doo) Eh, now she is bluesing when there ain\\'t no blues Wooh, a pimper\\'s paradise, that\\'s all she was now A pimper\\'s paradise, that\\'s all she was, oh-ho-ho-ho-ho A pimper\\'s paradise, that\\'s all she was now A pimper\\'s paradise, that\\'s all she was Every need got an ego to feed Every need got an ego to feed Wooh, a pimper\\'s paradise, that\\'s all she was now, wo-oo-o-oo, wo-oh A pimper\\'s paradise, that\\'s all she was, well A pimper\\'s paradise, I\\'m sorry for the victim now Oh, now soon their (pimper\\'s paradise) soon their heads, soon their Soon their very heads will bow (Pimper\\'s paradise) don\\'t lose track, don\\'t lose track of yourself, oh no (Pimper\\'s paradise) don\\'t be just a stock, a stock on the shelf Stock on the shelf, oh oh (Pimper\\'s paradise) that\\'s all she was now, woo Dip for diplomatic; \\'Yp for hypocratic; Dry for dry-land tourist; Tup for Topper Norris! See de \\'ypocrites, them a-galang deh! See de \\'ypocrites, them a-galang deh! See de \\'ypocrites, them a-galang deh! Man, go! Dem cut - cut - cut against \\'em one another; Cut - cut - cut against \\'em one another. Oh, them teach to love one another; Oh, them teach to love one another. Man, go! Dem a rum - come - come wid a gravalicious; Dem a rum - come - come wid a gravalicious; Dem a rum-a - come-a - come-a wid a gravalicious; Dem a rum-a - come - come-a wid a gravalicious. See de \\'ypocrites, them a-galang deh! See de \\'ypocrites, them a-galang deh! See de \\'ypocrites, them a-galang deh! See de \\'ypocrites, them a-galang deh! Man, go! Dip-a (for diplomatic); A \\'yp-a (for hypocratic); Dry - dry - dry (for dry-land tourist); A tup-pa - tup-pa - tup-pa (for Topper Norris)! See de \\'ypocrites, them a-galang deh! See de \\'ypocrites, them a-galang deh! See de \\'ypocrites, them a-galang deh! Man, go! One cup of coffee, then I\\'ll go; Though I just dropped by to let you know That I\\'m leaving you tomorrow; I\\'ll cause you no more sorrow: One cup of coffee, then I\\'ll go. I brought the money like the lawyer said to do, But it won\\'t replace the \\'eartache I caused you; It won\\'t take the place of lovin\\' you, I know, So one cup of coffee, then I\\'ll go. --- /Saxophone solo/ --- Tell the kids I came last night And kissed them while they slept; Make my coffee sweet and warm Just the way you used to lie in my arms. I brought the money like the lawyer said to do, But it won\\'t replace the \\'eartache I caused you; It won\\'t take the place of lovin\\' you, I know, So one cup of coffee, then I\\'ll go; One cup of coffee, then I\\'ll go; One cup of coffee, then I\\'ll go. /fadeout/ Sun is shining, the weather is sweet Make you want to move your dancing feet To the rescue, here I am Want you to know ya, can you understang When the morning gather the rainbow Want you to know I\\'m a rainbow too To the rescue here I am Want you to know ya, Can you, can you, can you understand Sun is shining, the weather is sweet now Make you want to move your dancing feet To the rescue, here I am Want you to know just if you can Here I stand, no, no, no, no, no, no, no, no Can you understand me, now baby Do you believe me? The night seems to fade, But the moonlight lingers on There are wonders for everyone The stars shine so bright, But they`re fading after dawn There is magic in kingston town (chorus) Oh kingston town, The place I long to be If I had the whole world I would give it away Just to see, the girls at play Ooh, ooh, ooh And when I am king, Surely I would need a queen And a palace and everything, yeah And now I am king, And my queen will come at dawn She`ll be waiting in kingston town (chorus) Oh kingston town, The place I long to be If I had the whole world I would give it away Just to see, the girls at play Ooh, ooh, ooh And when I am king, Surely I would need a queen And a palace and everything, yeah And now I am king, And my queen will come at dawn She`ll be waiting in kingston town Bado, scoobado, scoobado-bado-bado. Oh, wo-yo-yo-why! When the whole world lets you down And there\\'s nowhere for you to turn, \\'Cause all of your best friends have let you down, do-o-own. Then you try to accumulate, But the whole world is full of hate, So all of your best starts just drift into space. I know a place where we can carry on. I know a place where we can carry on. We can carry on, we can carry on, We can carry on, we can carry on. And there is people like you, people like me People need to be free. And there\\'s a place in the sun Where there is love for everyone, Where we can be, yeah. I know a place where we can carry on. I know a place where we can carry on. We can carry on, we can carry on, We can carry on, we can carry on. Whe-e-e! When the whole world let you down And there\\'s nowhere for you to turn, \\'Cause all of your best friends, a-they have let you down, down-own-own. Then you try to accumulate, But the whole world is full of hate, So all of your best starts just drift into space. I know a place where we can carry on. I know a place where we can carry on. We can carry on, we can carry on, We can carry on, we can carry on, We can carry on, we can carry on, We can carry on, we can carry on. (fadeout) (Who-oo-oo-oo is Mr Brown?) Mr. Brown is a clown who rides through town in a coffin (Where he be found?) In the coffin where there is three crows on top and two is laughing Oh, what a confusion Ooh, yeah, yeah What a botheration, ooh, now, now Who is Mr. Brown? I wanna know now He is nowhere to be found From Mandeville to Sligoville, coffin running around Upsetting, upsetting, upsetting the town Asking for Mr. Brown From Mandeville to Sligoville, coffin running around Upsetting, upsetting, upsetting the town Asking for Mr. Brown I wanna know who ooh (Is Mr. Brown) Is Mr. Brown controlled by remote? Oh, Calling duppy conqueror I\\'m the ghost catcher This is your chance, oh big, big Bill bull-bucka Take your chance, prove yourself, oh, yeah Down in parade People running like a masquerade The police make a raid Oh, yeah, yeah, yeah, yeah, think it fade What a thing in town Crows, chauffeur driven around Skankiness if they had never known The man they call \"Mr. Brown\" I can tell you where he\\'s from now From Mandeville to Sligoville, coffin running around Woah-oh, ya-ya-ya-ya, oy-oh Yeah-yeah-yeah, yeah-yeah, yeah-yeah-yeah-yeah Oh (we\\'ll be forever loving Jah) (We\\'ll be forever loving Jah) Some, they say, see them Walking up the street They say we\\'re going wrong To all the people we meet But-a we won\\'t worry We won\\'t shed no tears We found a way To cast away the fears, forever, yeah (We\\'ll be forever loving Jah) we\\'ll be forever (We\\'ll be forever loving Jah) forever, yes And forever (we\\'ll be forever loving Jah) there\\'ll be no end So, old man river Don\\'t cry for me I\\'ve got a running stream Of love, you see So, no matter what stages Oh stages, stages, stages they put us through We\\'ll never be blue No matter what rages Oh rages, changes, rages they put us through We\\'ll never be blue We\\'ll be forever, yeah (We\\'ll be forever loving Jah) we\\'ll be forever (We\\'ll be forever loving Jah) forever, and ever Yes, and forever (we\\'ll be forever loving Jah) \\'cause there is no end \\'Cause only a fool Lean upon, lean upon his own misunderstanding, oh, yeah And then what has been hidden From the wise and the prudent, been revealed to the babe and the suckling In everything, in every day, I say, yeah (We\\'ll be forever loving Jah) we\\'ll be forever (We\\'ll be forever loving Jah) \\'Cause just like a tree Planted, planted by the rivers of water That bringeth forth fruits Bringeth forth fruits in due season Everything in life got its purpose Find its reason In every season, forever, yeah (We\\'ll be forever loving Jah) we\\'ll be forever (We\\'ll be forever loving Jah) on and on and on (We\\'ll be forever loving Jah) we\\'ll be forever, yes, yes, we\\'ll be forever (We\\'ll be forever loving Jah) One good thing about music, when it hits ya (You feel no pain) Wo-wo-wo, I say One good thing about music, when it hits ya (you feel no pain) Hit me with music, yeah, hit me with music now! This is (Trench Town Rock) don\\'t watch that (Trench Town Rock) big fish or sprat now (Trench Town Rock) you reap what you sow (Trench Town Rock) and only Jah-Jah know (Trench Town Rock) I never turn my back (Trench Town Rock) I give the slum a try (Trench Town Rock) I never let the children cry (Trench Town Rock) \\'cause you got to tell Jah-Jah why (Groovin\\') It\\'s Kingston twelve (Groovin\\') It\\'s Kingston twelve (Groovin\\') It\\'s Kingston twelve, now (Groovin\\') It\\'s Kingston twelve (No want you fe galang so) oh no! (No want you fe galang so) scaba-dip, scaba (You want come cold I up) scaba-diba-dip, scaba-dip, scaba-dip (But you can\\'t come cold I up) Wo-wo-wo, I\\'m a groover And the world know by now, now, now, now, now, now, now, now, y\\'all Oh now, I say, you feel no pain now One good thing about music When it hits ya (you feel no pain) feel no pain Hit me with music, now, wo now Hit me with music now Hit me with music, \\'arder, brutalize me! (Hit me with music!) This is (Trench Town Rock) I say don\\'t watch that (Trench Town Rock) if you are big fish or sprat (Trench Town Rock) you reap what you sow (Trench Town Rock) I, everyone know now (Trench Town Rock) don\\'t turn your back! (Trench Town Rock) I say, give a slum a try (Trench Town Rock) never let the children cry (Trench Town Rock) or you got to tell Jah-Jah why It\\'s Kingston twelve (Groovin\\') it\\'s Kingston twelve (Groovin\\') I said, it\\'s Kingston twelve now (Groovin\\') wo-wo-wo-wo, it\\'s Kingston twelve (No want you fe galang so) since I told you that (No want you fe galang so) we should live with love (You want come cold I up) and I don\\'t do that (But you can\\'t come cold I up) I look da now And then it\\'s Kingston twelve, uh! Good God, look a-here now (you feel no pain) uh! Hit me with music, yeah, come on (hit me with music) (Hit me with music), oh my brother (hit me with music) brutalize me! (Hit me with music) oh hurt me (hit me with music) We can trash this ourselves! (Hit me with music) (Trench Town Rock) don\\'t call no cop (Rock) we can trash things ourselves (Trench Town Rock) got no stacks on no shelves But let me tell ya, behave yourselves! (Trench Town Rock) Roots Natty roots Dread Binghi dread I and I are the roots Some are leaf Some are branches I and I are the roots Some are the dry wood For the fire Whoa, Look at that They need a dry wood To cook their raw food Whoa, look at that Got to survive Inthis man maniac downpression Got to survive In iration They say roots Natty roots Dread Binghi dread I and I are the roots Some are wolf In sheep\\'s clothing Whoa, look at that Many are called A few are chosen Whoa, look at that Nothing they can do To separate I and I From the love of our fathers You see, blood is thicker than water Whoa, look at that Got to survive In the ghetto Got to survive People .... Roots Natty roots Dread Binghi dread I and I are the roots Roots Natty Dread Binghi I and I are the roots In this life, in this life, in this life In this, oh sweet life We\\'re (we\\'re coming in from the cold) We\\'re coming in, we\\'re coming in (coming in) We\\'re coming in, we\\'re coming in (coming in) We\\'re coming in, we\\'re coming in (coming in) We\\'re coming in, we\\'re coming in (coming in) We\\'re coming in from the cold It\\'s you, it\\'s you, it\\'s you I\\'m talkin\\' to Well, you (it\\'s you) you (it\\'s you), you I\\'m talking to now Why do you look so sad and forsaken When one door is closed, don\\'t you know another is open Would you let the system make you kill your brotherman? No, no, no, no, no, no, no, dread, no Would you make the system make you kill your brotherman? (No, dread, no) Would you make the system get on top of your head again? (No, dread, no!) Well, the biggest man you ever did see was was just a baby In this life (in this life) In this (in this life, oh sweet life) Coming in from the cold We\\'re coming in, we\\'re coming (coming in), coming in-a (coming in) Coming in (coming in), ooh (coming in) Coming in from the cold It\\'s life (it\\'s life), it\\'s life (it\\'s life), it\\'s life (it\\'s life) It\\'s wa well, coming in from the cold We\\'re coming in (coming in), coming in (coming in) Ooh (coming in), hey (coming in) Coming in from the cold It\\'s you, you, you I\\'m talking Well, yes, you, bilyabong (it\\'s you) Ew, you I\\'m talking to now Well, why do you look so, look so, look so sad Look so sad and forsaken? Don\\'t you know, when one door is closed, when one door is closed Many more is open? Well, would you let the system get on top of your head again? No, no, no, no, no, no, no, no, no, dread, no Would you let the system make you kill your brotherman? No, dread, no Well, would you make the system get on top of your head again? (No, dread, no) no, no, no, no, no, no, no, no, no, no Well, the biggest, biggest man you ever, ever Did-a see was-a was-a once a baby In this life, in this life, in this life In this, oh, sweet life We\\'re (coming in from the cold) from the cold We\\'re coming in, we\\'re coming in (coming in), coming in (coming in) Coming in (coming in), wooh, yeah Coming in from the cold We\\'re coming in-a, coming in-a, coming in-a, coming in-a Yeah, yeah, yeah, yeah, yeah Coming in from the cold Coming in (coming in), coming in (coming in) (Coming in) (coming in) (Coming in) from the from the cold So much trouble in the world So much trouble in the world Bless my eyes this morning Jah sun is on the rise once again The way earthly things are going Anything can happen You see men sailing on their ego trips Blast off on their spaceships Million miles from reality No care for you, no care for me So much trouble in the world So much trouble in the world All you\\'ve got to do is give a little (Give a little) Give a little (Give a little) Give a little (Give a little) One more time yeah! (Give a little) Yeah! (Give a little) yeah! (Give a little) yeah! So you think you\\'ve found the solution But it\\'s just another illusion So before you check out this tide Don\\'t leave another cornerstone standing there behind We\\'ve got to face the day Ooh we come what may We the street people talking Yeah, we the people struggling Now they are sitting on a time bomb (Bomb, bomb, bomb! Bomb, bomb, bomb!) Now I know the time has come (Bomb, bomb, bomb! Bomb, bomb, bomb!) What goes on up is coming on down (Bomb, bomb, bomb! Bomb, bomb, bomb!) Goes around and comes around (Bomb, bomb, bomb! Bomb, bomb, bomb!) So much trouble in the world So much trouble in the world So much trouble in the world There is so much trouble, (So much trouble in the world) There is so much trouble There is so much trouble (So much in the world) There is so much trouble There is so much trouble in the world (So much trouble in the world) There is (So much in the world) Ooh yeah yeah yeah yeah yeah (yeah yeah yeah) Ooh yeah, yeah They got so much things to say right now They got so much things to say They got so much things to say right now They got so much things to say Eh! But I\\'ll never forget no way They crucified Jesus Christ I\\'ll never forget no way They stole Marcus Garvey for rights ho-ooh! I\\'ll never forget no way They turned their back on Paul Bogle Hey! So don\\'t you forget (no way) your youth Who you are and where you stand in the struggle They go so very, so very, so very, so very, so very, so very So very, so very, so very Everything they say so much to say They got so much things to say, so much things to say I and I nah come to fight flesh and blood But spiritual wickedness in high and low places So while they fight you down Stand firm and give Jah thanks and praises \\'Cause I and I no expect to be justified By the laws of men, by the laws of men Oh, true they have found me guilty But brooh, through Jah proved my innocency Oh, when the rain fall, fall, fall now It don\\'t fall on one man\\'s housetop Remember that, when the rain fall It don\\'t fall on one man\\'s housetop They singin\\' so very much, so very much, oh so very much So so very They got so much things to say right now Yeah, they got so much things to say Hey, but I and I, I and I nah come to fight flesh and blood But spiritual wickedness in \\'igh and low places So while, so while, so while they fight you down Stand firm and give Jah thanks and praises I and I no expect to be justified By the laws of men, by the laws of men Hey through God to prove my innocence I told you wicked think they found me guilty They got la, la, la, la, la, la, la, la La, la, la, la, la, la, la, la They la very much all the time So much things to say, rumor about They got the rumor without humor They don\\'t know what they\\'re doin\\', yeah Here I am, walking down the street (walk walk walk walk walk walk walk) And the terrain, everything is so sweet (woah woah woah sweet, woah woah woah sweet) I\\'m doing my thing and I\\'m doing it slow But there is just one thing I would like you to know, oh When it wet it slippery, yeah When it dump it crumpy If it\\'s likely you will tumble down Don\\'t want you on the ground Oh, oh, oh, caution, the road is wet Black soul is black as jet (do you hear me) Caution the road is hot You got to do better than that (\\'cause ah) When it wet it slippery (when it wet it slippery, yeha) When it damp it crampy (when it damp it crampy) If it\\'s likely you were tumbling down Don\\'t want you on the ground, brother Hit me from the top You crazy motherfunky Hit me from the top You crazy motherfunky Hit me from the top Crazy motherfunky When it wet it slippery, yeah When it dumpy crumpy If it\\'s likely you were tumbling down Don\\'t want you on the ground (don\\'t, don\\'t) Caution the road is wet Black soul is black as jet (black soul) Caution the road is hot You got to do better than that Lord, I\\'ve got to keep on moving Lord, I\\'ve got to get on down Lord, I\\'ve got to keep on moving Where I can\\'t be found Lord, they\\'re coming after me I\\'ve been accused for the killin\\' Lord knows I didn\\'t do For hangin\\' me, they are willin\\', yeah, yeah And that\\'s why I\\'ve got to get on through Lord, they\\'re coming after me (a-one more time) Lord, I\\'ve got to keep on moving Lord, I\\'ve got to get on down Lord, I\\'ve got to keep on moving Where I can\\'t be found Lord, they\\'re coming after me (Now, listen) I\\'ve got two boys and a woman They\\'re just gonna suffer now Lord, forgive me for not goin\\' back But I\\'ll be there anyhow I\\'ll be there anyhow (one more time) (I say) Lord, I\\'ve got to keep on moving Lord, I\\'ve got to get on down Lord, I\\'ve got to keep on moving Where I can\\'t be found Lord, they\\'re coming after me Now, maybe someday I\\'ll find a piece of land Somewhere not by near anyone Then I\\'ll send for my love, love, love, love, sweet woman And my two grown-up son My two grown up-son (yeah, yeah, yeah) (I say now) Lord I\\'ve got to keep on moving (Oh, what a rat race!) (Oh, what a rat race!) (Oh, what a rat race!) (This is the rat race!) (Rat race!) Some a-lawful, some a-bastard, some a-jacket Oh, what a rat race, yeah! Rat race! Some a gorgon-a, some a hooligan-a, some a guine-gog-a In this \\'ere rat race, yeah! Rat race! I\\'m singin\\' When the cat\\'s away The mice will play Political violence fill ya city, yeah! Don\\'t involve rasta in your say say I\\'m sayin\\' Rasta don\\'t work for no CIA Rat race Rat race, Rat race yeah! Rat race I\\'m sayin\\' When you think it\\'s peace and safety A sudden destruction Collective security for surety, yeah! Don\\'t forget your history Know your destiny In the abundance of water The fool is thirsty Rat race Rat race Rat race Rat race! Oh, it\\'s a disgrace To see the human race In a rat race, yeah Rat race! You got the horse race You got the dog race You got the human race But this is a rat race, yeah Rat race! Some a-chicken, some a-scatter Some are budgies, some are bats In this here rat race Rat race Can\\'t take your slogans no more, can\\'t take your slogans no more, can\\'t take your slogans no more, can\\'t take your slogans no more. Wipe out the paintings of slogans all over the streets (ooh, ooh, ooh), confusing the people while your asphalt burns our tired feet. I see borders and barriers, segregation, demonstration and riots (ooh, ooh, ooh), a-sufferation of the refugees, oh-oh, when, when will we be free? Oh-oh-oh, we can\\'t take your slogans no more, can\\'t take your slogans no more, can\\'t take your slogans no more, no more sweet talk from-a grimepit, no more sweet talk from the hypocrites. /guitar solo/ So we know we can\\'t take your slogans no more, can\\'t take your slogans no more, can\\'t take your slogans no more, no more sweet talk from-a pulpit, no more sweet talk from the pulpit. No more sweet talk from-a grimepit, no more sweet talk from the hypocrites (oh, no hypocrites!), no more sweet talk from-a grimepit (wo-ah yeah), no more sweet talk (no-no-no-no sweet talk) from the hypocrites (hey!), no more sweet talk from-a grimepit, no more sweet talk (no-no-no-no sweet talk) from the hypocrites (no-no-no-no hey!). Ain\\'t no sunshine when she\\'s gone It\\'s not warm when she\\'s away Ain\\'t no sunshine when she\\'s gone And she\\'s always gone to long Anytime she goes away Wonder this time where she\\'s gone Wonder if she\\'s gone to stay Ain\\'t no sunshine when she\\'s gone And this house just ain\\'t no home Anytime she goes away I know, I know, I know, I know I know, I know, I know, I know I know, I know, I know, I know I know, I know, I know, I know Gotta leave the young thing alone There ain\\'t no sunshine when she\\'s gone Ain\\'t no sunshine when she\\'s gone Only darkness every day Ain\\'t no sunshine when she\\'s gone And this house just ain\\'t no home Anytime she goes away Anytime she goes away Anytime she goes away Anytime she goes away Man to man is so unjust, children You don\\'t know who to trust Your worst enemy could be your best friend And your best friend your worst enemy Some will eat and drink with you Then behind them su-su \\'pon you Only your friend know your secrets So only he could reveal it And who the cap fit Let them wear it And who the cap fit Let them wear it Said I throw me corn (throw me corn) Me no call no fowl (me no call no fowl) I saying Cok-cok-cok (Cok-cok-cok) Cluck-cluck-cluck (Cluck-cluck-cluck) Ay Some will hate you, pretend they love you now Then behind they try to eliminate you But who Jah bless, no one curse Thank God We\\'re past the worse Hypocrites and parasites Will come up and take a bite And if your night should turn to day A lot of people would run away And who the cap fit Let them wear it Who the cap fit Let them wear it And then I\\'m gonna throw me corn (throw me corn) And then I\\'m gonna call no fowl (call no fowl) And then I\\'m gonna say Cok-cok-cok (Cok-cok-cok) Cluck-cluck-cluck (Cluck-cluck-cluck) Some will eat and drink with you Then behind them su-su \\'pon you (su-su \\'pon you) And if night should turn to day A lot of people will run away And who the cap fit Let them wear it And who the cap fit Let them wear it Throw me corn (Throw me corn) Me no call no fowl (me no call no fowl) I saying cok-cok-cok (cok-cok-cok) Cluck-cluck-cluck (Cluck-cluck-cluck) I gotta cok-cok-cok (cok-cok-cok) Cluck-cluck-cluck Oh, please don\\'t you rock my boat (don\\'t rock my boat) Cause I don\\'t want my boat to be rockin\\' (don\\'t rock my boat) Oh, please don\\'t you rock my boat (don\\'t rock my boat) Cause I don\\'t want my boat to be rockin\\' (don\\'t rock my boat) I\\'m telling you that, oh, oh-oh, I like it, like it this (I like it like this, I like it like this) So keep it steady, like this. (I like it like this) And you should know, you should know by now, I like it (I like it like this), I like it like this (I like it like this, I like it like this), I like it like this, ooh yeah! (I like it like this) (Satisfy my soul) You satisfy my soul (satisfy my soul) You satisfy my soul (satisfy my soul). Every little action (satisfy my soul), There\\'s a reaction (satisfy my soul). Oh, can\\'t you see what you\\'ve done for me, oh, yeah! I am happy inside all - all of the time. When we (bend) bend a new corner, I feel like a (sweep) sweepstake winner. When I meet you around the corner (round the corner), You make me feel like a sweepstake winner (a sweep, a sweepstake winner). Whoa, child! Can\\'t you see? You must believe me! Oh darling, darling, I\\'m calling, calling: Can\\'t you see? Why won\\'t you believe me? Oh, darling, darling, I\\'m calling, calling (calling, calling, calling, calling) When I meet you around the corner, Oh, I said, \"Baby, never let me be a loner\", And then you hold me tight, you make me feel all right. Yes, when you hold me tight, you made me feel all right. Whoa, honey, can\\'t you see? Don\\'t you believe me? Oh, darling, darling, I\\'m callin\\', callin\\': Can\\'t you see? Why won\\'t you believe me? Oh, darling, darling, I\\'m callin\\', callin\\' (calling, calling, calling, calling). Satisfy my soul, satisfy my soul, satisfy my soul, satisfy my soul: That\\'s all I want you to do, that\\'s all I\\'ll take from you, Satisfy my soul, satisfy my soul. De heathen back dey \\'pon de wall! De heathen back, yeah, \\'pon de wall! De heathen back dey \\'pon de wall! De heathen back, yeah, \\'pon de wall! Rise up fallen fighters Rise and take your stance again \\'Tis he who fight and run away Live to fight another day With de heathen back dey \\'pon de wall! De heathen back, yeah, \\'pon de wall! De heathen back dey \\'pon de wall! De heathen back, yeah, \\'pon de wall! As a man sow, shall he reap And I know that talk is cheap But the hotter the battle A the sweeter Jah victory With the heathen back dey \\'pon de wall! De heathen back, yeah, \\'pon de wall! De heathen back dey \\'pon de wall! De heathen back, yeah, \\'pon de wall! De heathen back yeah, \\'pon de wall! De heathen back, yeah, \\'pon de wall! De heathen back dey \\'pon de wall! De heathen back, yeah, \\'pon de wall! Rise up, fallen fighters Rise and take your stance again \\'Tis he who fight and run away Live to fight another day De heathen back dey \\'pon de wall! De heathen back, yeah, \\'pon de wall! De heathen back dey \\'pon de wall! De heathen back, yeah, \\'pon de wall! De heathen back dey \\'pon de wall! De heathen back, yeah, \\'pon de wall! De heathen back dey \\'pon de wall! De heathen back, yeah, \\'pon de wall! De heathen back dey \\'pon de wall! De heathen back, yeah, \\'pon de wall! De heathen back dey \\'pon de wall! De heathen back, yeah, \\'pon de wall! De heathen back, yeah O-ooh, yea-ah, Wo-yoy! Wo-yoy! Wo-yoy! Wo-yoy-yoy-yoy! Feel it in the one drop And we\\'ll still find time to rap We\\'re makin\\' the one stop, The generation gap Now feel this drumbeat As it beats within, Playin\\' a riddim, Resisting against the system, ooh-wee! I know Jah\\'s never let us down Pull your rights from wrong (I know Jah would never let us down) Oh, no! Oh, no! Oh, no! They made their world so hard (so hard) Every day we got to keep on fighting (fighting) They made their world so hard (so hard) Every day the people are dyin\\' (dying), yeah! (Dread, dread) For hunger (dread, dread) and starvation (dread, dread) Lamentation (dread dread) But read it in Revelation (dread, dread, dread, dread) You\\'ll find your redemption And then you give us the teachings of his majesty For we no want no devil philosophy A you forgive us the teachings of his majesty A we no want no devil philosophy Feel it in the one drop And we still find time to rap We\\'re making the one stop And we filling the gap So feel this drumbeat As it beats within Playing a riddim, uh! Fighting against ism and skism Singing! I know Jah\\'s never let us down Pull your rights from wrong I know Jah\\'s never let us down Oh, no! Oh, no! Oh, no! They made their world so hard Every day (we got to keep on fighting), every day They made their world so hard Every day (the people are dying), eh! (Dread, dread, it dread, dread) Oh, whoa! Make dem a-go on so (It dread on dread) Ah, whoa! (Dread, dread) I\\'ll walk (it dread, dread) Ah, whoa! Frighten dem! Ah, whoa! Frighten dem, eh! Give us the teachings of his majesty with a stick-up! We no want no devil philosophy, can you hear? Give us the teachings of his majesty For we no want no devil philosophy We feel it in the one drop you\\'re lucky! For we still got time to rap, And we\\'re making the one stop Let me tell ya this generation gap So feel this drumbeat I tell you what it\\'s beating within Feel you heart playing a rythmn There\\'s a natural mystic Blowing through the air If you listen carefully now you will hear This could be the first trumpet Might as well be the last Many more will have to suffer Many more will have to die Don\\'t ask me why Things are not the way they used to be I won\\'t tell no lie One and all got to face reality now Though I try to find the answer To all the questions they ask Though I know it\\'s impossible To go living through the past Don\\'t tell no lie There\\'s a natural mystic Blowing through the air Can\\'t keep them down If you listen carefully now you will hear Such a natural mystic Blowing through the air This could be the first trumpet Might as well be the last Many more will have to suffer Many more will have to die Don\\'t ask me why There\\'s a natural mystic Blowing through the air I won\\'t tell no lie If you listen carefully now, you will hear There\\'s a natural mystic Blowing through the air Exodus Movement of Jah people, oh oh oh, yeah Men and people will fight ya down (tell me why) When ya see Jah light. (Ha-ha-ha-ha-ha-ha-ha) Let me tell you if you\\'re not wrong (then, why?) Everything is all right So we gonna walk, all right, through de roads of creation We the generation (tell me why) (Trod through great tribulation) trod through great tribulation Exodus, all right, movement of Jah people Oh, yeah, oh, yeah, all right Exodus, movement of Jah people, oh, yeah Yeah-yeah-yeah, well Uh, open your eyes and look within Are you satisfied (with the life you\\'re living) uh We know where we\\'re going, uh We know where we\\'re from We\\'re leaving Babylon We\\'re going to our Father lan Two, three, four exodus, movement of Jah people, oh, yeah (Movement of Jah people) send us another brother Moses (Movement of Jah people) from across the Red Sea (Movement of Jah people) send us another brother Moses (Movement of Jah people) from across the Red Sea (Movement of Jah people) Exodus, all right, oh, oh, oh Movement of Jah people, oh, yeah Exodus Exodus, all right Exodus, now, now, now, now Exodus Exodus, oh, yeah Exodus Exodus, all right Exodus Move, move, move, move, move, move Open your eyes and look within Are you satisfied with the life you\\'re living? We know where we\\'re going We know where we\\'re from We\\'re leaving Babylon, y\\'all We\\'re going to our Father\\'s land Exodus, all right, movement of Jah people Exodus, movement of Jah people Movement of Jah people Movement of Jah people Movement of Jah people Movement of Jah people Move, move, move, move, move, move, move Jah come to break down pression Rule equality Wipe away transgression Set the captives free Exodus, all right, all right Movement of Jah people, oh, yeah Exodus, movement of Jah people, oh, now, now, now, now Movement of Jah people Movement of Jah people Movement of Jah people Movement of Jah people Movement of Jah people Movement of Jah people Move, move, move, move, move, move, uh-uh-uh-uh Move(ment of Jah people) Move(ment of Jah people) Move(ment of Jah people) Move(ment of Jah people) Move(ment of Jah people) Move(ment of Jah people) Move(ment of Jah people) Move(ment of Jah people) Move(ment of Jah people) Move Turn your lights down low And pull your window curtain Oh, let the moon come shining in Into our life again Saying ooh, it\\'s been a long, long time (Long, long time) I got this message for you, girl But it seems I was never on time Did I wanna get through to you, girl? On time, on time (word) I want to give you some love I want to give you some good, good loving (Uh, uh, right, uh) Oh I, oh I, oh I Yeah, I want to give you some good, good loving (uh) Turn your lights down low (Word, word, uh, uh) Never ever try to resist, oh no (Na, na, na, na) Oh, let your love come shining in (Na, na, na, na) Into our lives again (Na, na, na, na) Saying ooh, I love you (I love you, I love you) And I want you to know right now (Know right now) Ooh, I love you (Uh-uh, yeah, uh) And I want you to know right now (uh) That I, that I I wanna give you some love (uh, yeah) I wanna give you some good, good loving Oh I, oh I, oh I I wanna give you some good, good loving (yeah uh-uh) Loving you is a like a song I replay Every three minutes and thirty seconds of every day (uh, uh) And every chorus was written for us to recite (right) Every beautiful melody of devotion every night It\\'s potion like this ocean that might carry me In a wave of emotion to ask you to marry me And every word, every second, and every third Expresses the happiness more clearly than ever heard (uh) And when I play \\'em, every chord is a poem Telling the Lord how grateful I am \\'cause I know him (what? word) The harmonies possess a sensation similar to your caress (uh) If you asking then I\\'m telling you it\\'s yes Stand in love, take my hand in love, God bless (right) I want to give you some good, good loving I want to give you some love I want to give you some good, good loving Oh I, oh I, oh I I wanna give you some good, good loving Good, good, good loving (I wanna give you some good loving) Ooooh, ooooh, oooh Send me that love, I\\'ve been created for As the sunshine is above, uh There is someone for me, to love Do you believe, me? Can you, understand I\\'m crying Baby baby, c\\'mon Need you so! I\\'ll never never let you go o-ho! Baby, baby, c\\'mon.. Oh darling... I need your love, That\\'s all I can say right here, now Oh oh oh baby c\\'mon You know I need you so, Oh darling I\\'ll never never let you go. Baby baby oh darling, c\\'mon Uh uh uh I say: send me that love, oh darling I\\'ve been created for As the sunshine is above, uh uh we There is someone who needs to love Do you believe me? Oh darling, can you understand I\\'m crying, Oh oh darling, baby baby, oh darling, oh darling I need you tonight /fadeout/ Greetings in the name of his majesty, Emperor Haile Selassie I Jah rastafari! Ever-living, ever-feareful, ever-sure Selassie I the first Yeah Yeah Rastafari, ever-living Rastman vibration, positive Rastaman vibration, yeah, positive Live if you want to live I\\'n\\'I vibration yeah, positive Got to have a good vibe I a man Iration, yeah, Irie ites Positive vibration, yeah, positive If you get down and you quarrel everyday You\\'re saying prayers to the devils, I say, wooh Why not help one another on the way? Make it much easier (just a little bit easier) Say you just can\\'t live that negative way You know what I mean Make way for the positive day \\'Cause it\\'s a new day And it\\'s a new time Yes, it\\'s a new feelin\\' Said it\\'s a new sign Oh, what a new day Pickin\\' up? Are you pickin\\' up now? Pickin\\' up? Are you pickin\\' up now? Oh, Jah love, Jah love protect us Oh, Jah love, Jah love protect us Oh, Jah love, Jah love protect us And I rastaman vibration, yeah, positive I\\'n\\'I vibration yeah, positive I a man Iration, yeah, Irie ites Positive vibration, yeah, positive Just a little bit easier \\'Cause it\\'s a new day And it\\'s a new time Said, it\\'s a new feelin\\' Said it\\'s a new sign Oh, what a new day Pickin\\' up? Are you pickin\\' up now? Pickin\\' up? Are you pickin\\' up now? Oh, Jah love, Jah love protect us Oh, Jah love, Jah love protect us Oh, Jah love, Jah love protect us One Love! One Heart! Let\\'s get together and feel all right. Hear the children cryin\\' (One Love!); Hear the children cryin\\' (One Heart!), Sayin\\': give thanks and praise to the Lord and I will feel all right; Sayin\\': let\\'s get together and feel all right. Wo wo-wo wo-wo! Let them all pass all their dirty remarks (One Love!); There is one question I\\'d really love to ask (One Heart!): Is there a place for the hopeless sinner, Who has hurt all mankind just to save his own beliefs? One Love! What about the one heart? One Heart! What about - ? Let\\'s get together and feel all right As it was in the beginning (One Love!); So shall it be in the end (One Heart!), All right! Give thanks and praise to the Lord and I will feel all right; Let\\'s get together and feel all right. One more thing! Let\\'s get together to fight this Holy Armagiddyon (One Love!), So when the Man comes there will be no, no doom (One Song!). Have pity on those whose chances grows t\\'inner; There ain\\'t no hiding place from the Father of Creation. Sayin\\': One Love! What about the One Heart? (One Heart!) What about the - ? Let\\'s get together and feel all right. I\\'m pleadin\\' to mankind! (One Love!); Oh, Lord! (One Heart) Wo-ooh! Give thanks and praise to the Lord and I will feel all right; Let\\'s get together and feel all right. Give thanks and praise to the Lord and I will feel all right; Let\\'s get together and feel all right. Feeling out, feeling down: This feeling wouldn\\'t leave me alone. Then up came-a one that said (hey, Dread): \"Hey, Dread, fly, Natty Dread, and smile!\" You\\'re in Jamaica: C\\'mon and smile! (In Jamaica, y\\'all) Get it together, y\\'all! (In Jamaica) Get it together, now! In Jamaica, y\\'all. Soulful town, soulful people: Said, I see you\\'re having fun, Dancin\\' to the reggae rhythm, Oh, island in the sun: Oh, smile! (In Jamaica) C\\'mon and smile! (In Jamaica, y\\'all) Get it together, right now! (In Jamaica) Get it together, children! (In Jamaica, y\\'all) We\\'re gonna help our people, help them right; Oh, Lord, help us tonight! Cast away that evil spell; Throw some water in the well, And smile! (In Jamaica) C\\'mon and smile! (In Jamaica, y\\'all) Get things together, right now! (In Jamaica) Get it together, right now! (In Jamaica, y\\'all) Riddim wise (wise), Dub-a wise (wise), And other wise (wise) Can\\'t criticize (-cize) our smile. (In Jamaica) You\\'re gonna smile! (In Jamaica, y\\'all) Get it together, right now! (In Jamaica) Get things together, right yow! (In Jamaica, y\\'all) Help my people, help them right! O Lord, help us tonight! Cast away evil spell; Throw some water in the well, And smile! (In Jamaica) You\\'re gonna smile! (In Jamaica, y\\'all) Get it together, children! (In Jamaica) Get things together, right yow! (In Jamaica, y\\'all) Soulful town, soulful people, Said, I know, I know that you\\'re having fun! Easy skanking, skanking it easy Easy skanking, skanking it slow Easy skanking, skanking it easy Easy skanking, skanking it slow Excuse me while I light my spliff (spliff) Good God I gotta\\' take a lift (lift) From reality I just can\\'t drift (drift) That\\'s why I am staying with this riff (riff) Take it easy, easy skanking Got to take it easy, easy skanking Take it easy, easy skanking Got to take it easy, easy skanking See we\\'re taking it easy We\\'re taking it slow We\\'re taking it easy Got to take it slow, So take it easy, easy skanking, Take it easy, easy skanking Take it easy skanking Take it easy shanking Excuse me while I light my spliff Oh God I gotta take a lift From reality I just can\\'t drift That\\'s why I\\'m staying with this riff Take it easy, taking it easy Got to take it easy, taking it slow Take it easy, taking it easy Skanking take it easy, taking it slow Tell you what, herb for my wine Honey for my strong drink Herb for my wine, honey for my strong drink I\\'ll take it easy, taking it easy Skankers take it easy, skanking it slow Take, it easy, taking it easy Take it easy, skanking it slow Take it easy, skanking it easy Oh oh, skanking it slow A little bit easier, taking it easy Skanky take it easy, skanking it slow Take it easy, take it easy, take it easy, take it easy Try me (try me) Try me (try me) Try me (try me) Try me (try me) Try me (try me, try me) Try me Try me (try me, try me) Try me When the hurt is strong And everything you do is wrong You need someone to comfort you Well, listen baby, I\\'ll come first to you, so Try me (try me, try me) Try me Try me (try me, try me) Try me If you need satisfaction Listen baby, I\\'ve got the action Where I am, that\\'s where it\\'s at So, listen baby, it\\'s tit for tat, so Try me (try me, try me) Try me Try me (try me, try me) Try me Woo, woo-ooh, woo, woo, woo-ooh Woo, woo-ooh, woo, woo, woo-ooh Woo, woo-ooh, woo, woo, woo-ooh Woo, woo-ooh, woo, woo, woo-ooh One more thing I\\'d like to say right here Try me (try me, try me) One more thing I\\'d like to say right here Try me (try me, try me) Need good lovin\\' I\\'m black (try me) coming Yes I\\'m black (try me) and I\\'m coming Try me, try me One love, one heart Let\\'s get together and feel all right Hear the children cryin\\' (one love) Hear the children cryin\\' (one heart) Sayin\\' give thanks and praise to the Lord and I will feel all right Sayin\\' let\\'s get together and feel all right Let them all pass all their dirty remarks (one love) There is one question I\\'d really love to ask (one heart) Is there a place for the hopeless sinners Who has hurt all mankind just to save his own beliefs? One love, what about the one heart, one heart What about, people, let\\'s get together and feel all right As it was in the beginning (one love) So shall it be in the end (one heart) All right! Give thanks and praise to the Lord and I will feel all right Let\\'s get together and feel all right, one more thing Let\\'s get together to fight this Holy Armagiddyon (one love) So when the Man comes there will be no, no doom (one song) Have pity on those whose chances grows t\\'inner There ain\\'t no hiding place from the Father of Creation Sayin\\', one love, what about the one heart? (one heart) What about the, let\\'s get together and feel all right I\\'m pleadin\\' to mankind (one love) Oh, Lord (one heart) whoa Give thanks and praise to the Lord and I will feel all right Let\\'s get together and feel all right Give thanks and praise to the Lord and I will feel all right Let\\'s get together and feel all right Life is for man to live (let man live life) Bread is for man to eat (let man eat bread) Bread and pyaka, cut down pyaka-ism Bread and pyaka, cut down pyaka-ism Everything ya run dung \\'pon (x4) Come, we go reason now Come-a come-a come-a, we go reason now (We deh go reason now) (x3) Where do you stand for happiness When you no say you no want it While some a dem (some a dem, some a dem) out deh, eh I bus dem shut right now Fi get it Bread and pyaka, cut down pyaka-ism Bread and pyaka, cut down pyaka-ism Woman feels the pain Man suffer, Lord Woman feels the pain Man suffer, Lord Come-a come-a come-a, we go reason now (x6) Peeyah, peeyah, pyaka, come (x3) Come-a come-a come-a, we go reason now (x4) Bread and pyaka Sister pyaka Bread and pyaka Sister pyaka Cut down pyaka-ism Cut down pyaka-ism Ziya-po ya-ya, pa-pa-ya-pa! Ti-da-lee, na po-po pu-du-loo! Ste-na-peh na-na po po-ro po! Africa unite \\'Cause we\\'re moving right out of Babylon And we\\'re going to our Father\\'s land How good and how pleasant it would be Before God and man, yeah To see the unification of all Africans, yeah As it\\'s been said already Let it be done, yeah We are the children of the Rastaman We are the children of the Iyaman So, Africa unite \\'Cause the children (Africa unite) wanna come home, yeah Africa unite \\'Cause we\\'re moving right out of Babylon And we\\'re grooving to our Father\\'s land How good and how pleasant it would be Before God and man To see the unification of all Rastaman, yeah As it\\'s been said already, let it be done I tell you who we are under the sun We are the children of the Rastaman We are the children of the Iyaman So, Africa unite Afri, Africa unite, yeah! Unite for the benefit (Africa unite) of your people! Unite for it\\'s later (Africa unite) than you think! Unite for the benefit (Africa unite) of my children! Unite for it\\'s later (Africa uniting) than you think! Africa awaits (Africa unite) its creators! Africa awaiting (Africa uniting) its creator! Africa, you\\'re my (Africa unite) forefather cornerstone! Unite for the Africans (Africa uniting) abroad! Unite for the Africans (Africa unite) a yard! All twinklin\\' lee Can\\'t see the right roads when the streets are paved The old slave men might grind slow But it grinds fine, yeah African herbsman, why linger on? Just concentrate, \\'cause heaven lives on Retired slave men will look with a scorn With a transplanted heart (yes, how quick they had to part) (how quick they had to part) The remembrance of today Is the sad feelin\\' of tomorrow (how quick) Oh (part), oh yeah African herbsman, seize your time I\\'m takin\\' illusion on the edge of my mind I\\'m takin\\' losers down through my life Down through my life, yeah (yes, how quick they had to part) (how quick they had to part) Dideh part, yes, they part In remembrance of today (how quick they had to part) African herbsman, why linger on? Just concentrate, \\'cause your heaven lives on Greet-I-eth slave men will look with a scorn With a transplanted heart, yes, how (quick they have to part) (how quick they have to part) In remembrance of today Brings sad feelings of tomorrow (Yes, how quick they have to) Lead me on, oh, Lord, I pray to you (African herbsman) (African herbsman) African, African herbsman Hear the words of the Rastaman say \"Babylon, you throne gone down, gone down Babylon, you throne gone down\" Said I hear the words of the Iyaman say \"Babylon, you throne gone down, gone down Babylon, you throne gone down\" And I hear the angel with the seven seals say \"Babylon throne gone down, gone down Babylon throne gone down\" I say fly away home to Zion (fly away home) I say fly away home to Zion (fly away home) One bright morning when my work is over Man will fly away home One bright morning when my work is over Man will fly away home One bright morning when my work is over Man will fly away home Say one bright morning when my work is over Man will fly away home No, woman, no cry, No, woman, no cry, No, woman, no cry, No, woman, no cry. \\'Cause, \\'cause, \\'cause, I remember when we used to sit In the government yard in Trenchtown, Oba - obaserving the \\'ypocrites Mingle with the good people we meet. Good friends we have, oh, good friends we\\'ve lost Along the way. In this great future, you can\\'t forget your past, So dry your tears, I seh. No, woman, no cry, No, woman, no cry. \\'Ere, little darlin\\', don\\'t shed no tears, No, woman, no cry. Said, said, said, I remember when-a we used to sit In the government yard in Trenchtown. And then Georgie would make the fire lights, As it was logwood burnin\\' through the nights. Then we would cook cornmeal porridge, Of which I\\'ll share with you, My feet is my only carriage, So I\\'ve got to push on through. While I\\'m gone Everything\\'s gonna be all right! Everything\\'s gonna be all right! Everything\\'s gonna be all right! Everything\\'s gonna be all right! Everything\\'s gonna be all right! Everything\\'s gonna be all right! Everything\\'s gonna be all right! Everything\\'s gonna be all right! So, no woman, no cry, No, no, woman, woman, no cry. I say, oh little oh little darling, don\\'t shed no tears, No, woman, no cry. No woman, no woman, no woman, no cry No woman, no cry, one more time I\\'ve to say Oh little little darling, please don\\'t shed no tears, No woman, no cry No woman, no woman, no cry You know that I love you, Baby, but you just won\\'t let me. You know that I love you, Baby, but you just won\\'t let me. Every morning I get up, I sip my cup; My eyes get red, no-one to hear me. One more thing I\\'d like to say right here, Baby, but you just won\\'t let me. One more thing I\\'d like to say right here, Baby, but you just won\\'t let me. I\\'d like to say:baby, you so nice: I\\'d like to do the same thing twice, yeah! Baby, you so nice. I\\'d like to do the same thing twice. I love you so much, so-o-o- Love you - love you, baby, so much. Yeah, yeah, yeah, yeah, yeah, yeah, I live in the woods alone; I need your (company) company. Baby! Woods alone! I need your company, yeah! Every morning I get up, I sip my cup; My eyes get red, no-one to hear me. One more thing I\\'d like to say right here, Baby, but you just won\\'t let me, yeah! One more thing I\\'d like to say right here, Baby, but you just won\\'t let me. I\\'d like to say: baby, you so nice: Do the same thing twice, yeah! Baby, you so nice; I\\'d like to do the same thing twice; I love you, baby, so much Dready got a job to do And he\\'s got to fulfill that mission To see his hurt is their greatest ambition, yeah! But we will survive in this world of competition \\'Cause no matter what they do Natty keep on comin\\' through And no matter what they say Natty do them every day, yeah! Natty dread rides again Through the mystics of tomorrow Natty dread rides again Have no fear, have no sorrow, yeah! All and all you see a-gwan Is to fight against Rastaman So they build their world in great confusion To force on us the devil\\'s illusion But the stone that the builder refuse Shall be the head cornerstone And no matter what game they play We got something they could never take away We got something they could never take away And it\\'s the fire (fire), it\\'s the fire (fire) That\\'s burning down everything Feel that fire (fire), the fire (fire) Only the birds have their wings, yeah! No time to be deceived Oh, brothers, you should know and not believe Jah say this judgement, it could never be with water No water could put out this fire (fire) This fire (fire), this fire (fire) This fire (fire), a yaga y\\'all! ride, natty, ride! Go there, dready, go there, \\'Cause now the fire is out of control Panic in the city, wicked weeping for their gold! Everywhere this fire is burning, Destroying and melting their gold, Destroying and wasting their souls Go ride, natty, ride! Go there, dready, go there! Tell you what now the people gather on the beach And the leader try to make a speech But the dreadies understandin\\' that it\\'s too late Fire is burning Man, pull your own weight! Fire is burning Man, pull your own weight! Natty dread rides again (natty dread rides again) And me say, go there, dready! Go there! (go there, go there) Oh ride, natty, ride! (dread rides again) And go there, dready! (go there, go there) Ridin\\' through the storm, Riding through the calm (go there, go there) Oh ride, natty, ride! Go there, dready, go there! Ride, natty, ride! Go there, dready, do there! We refuse to be What you wanted us to be We are what we are That\\'s the way it\\'s going to be, if you don\\'t know You can\\'t educate I For no equal opportunity (talkin\\' \\'bout my freedom) Talkin\\' \\'bout my freedom People freedom and liberty! Yeah, we\\'ve been trodding on the winepress much too long Rebel, rebel! Yes, we\\'ve been trodding on the winepress much too long Rebel, rebel! Babylon system is the vampire, yea! (vampire) Suckin\\' the children day by day, yeah! Me say de Babylon system is the vampire, falling empire, Suckin\\' the blood of the sufferers, yeah! Building church and university, wooh, yeah! Deceiving the people continually, yeah! Me say them graduatin\\' thieves and murderers Look out now they suckin\\' the blood of the sufferers (sufferers) Yea! (sufferers) Tell the children the truth Tell the children the truth Tell the children the truth right now! Come on and tell the children the truth Tell the children the truth Tell the children the truth Tell the children the truth Come on and tell the children the truth \\'Cause, \\'cause we\\'ve been trodding on ya winepress much too long Rebel, rebel! And we\\'ve been takin\\' for granted much too long Rebel, rebel! (Trodding on the winepress) Trodding on the winepress (rebel) Got to rebel, y\\'all (rebel) We\\'ve been trodding on the winepress much too long, yeah! (rebel) Yeah! (rebel) Yeah! Yeah! From the very day we left the shores (trodding on the winepress) Of our Father\\'s land (rebel) We\\'ve been trampled on (rebel) Oh now! (takin\\' for granted) Lord, Lord You can\\'t blame the youths You can\\'t fool the youths You can\\'t blame the youths of today You can\\'t fool the youths You\\'re teaching youths to learn in the school And that the cow jumped over moon Teaching youths to learn in the school And that the dish ran away with spoon So you can\\'t blame the youths of today You can\\'t fool the youths You can\\'t blame the youths, not at all You can\\'t fool the youths You teach the youths about Christopher Columbus And you said he was a very great man You teach the youths about Marco Polo And you said he was a very great man You teach the youths about the pirate Hawkins And you said he was a very great man You teach the youths about the pirate Morgan And you said he was a very great man So, you can\\'t blame the youths, when they don\\'t learn You can\\'t fool the youths You can\\'t blame the youths of today You can\\'t fool the youths When every Christmas come You buy the youth a pretty toy gun When every Christmas comes around You buy the youth a fancy toy gun So, you can\\'t blame the youths when they get bad You can\\'t fool the youths You can\\'t blame the youths of today You can\\'t fool the youths Said he was a very great man Said he was a very great man You teach the youths about Christopher Columbus And you said he was a very great man You teach the youths about Marco Polo And you said he was a very great man You teach the youths about the pirate Hawkins And you said he was a very great man You teach the youths about the pirate Morgan And you said he was a very great man So, you can\\'t blame the youths You can\\'t fool the youths You can\\'t blame the youths of today You can\\'t fool the youths, yeah And you said he was a very great man The stone that the builder refuse Will always be the head cornerstone-a sing it brother The stone that the builder refuse Will always be the head cornerstone You\\'re a builder, baby Here I am, a stone Don\\'t you pick and refuse me \\'Cause the things people refuse Are the things they should choose Do you hear me? Hear what I say! Stone that the builder refuse Will always be the head cornerstone-a tell me why The stone that the builder refuse, yeah! Will always be the head cornerstone Here I am baby I am, a builder\\'s stone! Don\\'t you pick and refuse me, listen The tings people refuse Are the things they should use Do you hear me Hear what I say The stone that the builder refuse Will always be the head cornerstone The stone that the builder refuse Will always be the head cornerstone The stone that the builder refuse Will always be the head cornerstone The stone that dem builder refuse Will always be the head cornerstone The stone that the builder refuse Will always be the head cornerstone The stone Wohoo, said I\\'d never gonna give my love to nobody, but you baby (but you baby) I\\'d never gonna give my love to nobody but you baby (but you baby) So love me (forever) I said love me (forever) Oh baby love me baby not just pleasure Love me always forever \\'Cause I love you Scouldn\\'t be better (Said I\\'m given my love to you baby You\\'ve got my love, you\\'ve got my love) Right now! (Said I\\'m given my love to you baby You\\'ve got my love, you\\'ve got my love) So don\\'t you never give your love to nobody but me baby (but me baby) Don\\'t you never give your love to no body but me baby (but me babe) Hey, all day (and all night) I said all day (and all night) Our love needs protection Our love needs direction I love you (Said I\\'m given my love to you baby You\\'ve got my love, you\\'ve got my love) I mean what I say (Said I\\'m given my love to you baby You\\'ve got my love, you\\'ve got my love) Whoo, I\\'m never gonna give my love to nobody but you baby (but you baby) Never gonna give my love to nobody but you baby (but you baby) I\\'ll never gonna give my love to nobody but you baby (but you baby) Never gonna give my love to nobody but you baby (but you baby) (Said I\\'m given my love to you baby You\\'ve got my love, you\\'ve got my love) Right now! (Said I\\'m given my love to you baby You\\'ve got my love, you\\'ve got my love) Oh, never gonna give my love to nobody but you baby (but you baby) I\\'ll never give my love to nobody but you baby (but you baby) Love me (forever) I said love me (forever) Oh baby love me baby not just pleasure Love me always forever \\'Cause I love you Baby now (Said I\\'m given my love to you baby You\\'ve got my love, you\\'ve got my love) You must believe (Said I\\'m given my love to you baby) I mean what I say (You\\'ve got my love, you\\'ve got my love) Na-na-na-na-na-na-na-na-na; Na-na-na-na-na-na-na-na-na; Na-na-na-na-na-na-na-na-na; Na-na-na-na-na-na-na-na-na Them belly full but we hungry A hungry mob is a angry mob A rain a-fall but the dirt it tough; A pot a-cook but the food no \\'nough You\\'re gonna dance to JAH music, dance We\\'re gonna dance to JAH music, dance Forget your troubles and dance Forget your sorrow and dance Forget your sickness and dance Forget your weakness and dance Cost of living get so high, Rich and poor, they start a cry Now the weak must get strong They say, \"Oh, what a tribulation\" Them belly full but we hungry A hungry mob is a angry mob A rain a-fall but the dirt it tough; A pot a-cook but the food no \\'nough We\\'re gonna chuck to JAH music, chuckin\\' We\\'re chuckin\\' to JAH music, we\\'re chuckin\\' Chuckin\\' Chuckin\\' Chuckin\\' Chuckin\\' A belly full but them hungry A hungry mob is a angry mob A rain a-fall but the dirt it tough; A pot a-cook but the food no \\'nough A hungry man is a angry man A rain a-fall but the dirt it tough; A pot a-cook but the food no \\'nough A pot a-cook but the food no \\'nough A rain a-fall but the dirt it tough; A hungry mob is a angry mob A hungry man is a angry man'"
            ],
            "application/vnd.google.colaboratory.intrinsic+json": {
              "type": "string"
            }
          },
          "metadata": {},
          "execution_count": 24
        }
      ]
    },
    {
      "cell_type": "code",
      "metadata": {
        "id": "_KlsYd7_uOez",
        "colab": {
          "base_uri": "https://localhost:8080/"
        },
        "outputId": "bfbfb585-fa3c-4f2f-b58d-88da4a5f970f"
      },
      "source": [
        "# Transformar el corpus a tokens\n",
        "tokens=text_to_word_sequence(corpus)\n",
        "# Vistazo general de los primeros tokens\n",
        "tokens[:20]"
      ],
      "execution_count": 25,
      "outputs": [
        {
          "output_type": "execute_result",
          "data": {
            "text/plain": [
              "[\"don't\",\n",
              " 'worry',\n",
              " 'about',\n",
              " 'a',\n",
              " 'thing',\n",
              " \"'cause\",\n",
              " 'every',\n",
              " 'little',\n",
              " 'thing',\n",
              " 'gonna',\n",
              " 'be',\n",
              " 'all',\n",
              " 'right',\n",
              " \"singin'\",\n",
              " \"don't\",\n",
              " 'worry',\n",
              " 'about',\n",
              " 'a',\n",
              " 'thing',\n",
              " \"'cause\"]"
            ]
          },
          "metadata": {},
          "execution_count": 25
        }
      ]
    },
    {
      "cell_type": "code",
      "metadata": {
        "id": "GlqpZSJOJ1xQ",
        "colab": {
          "base_uri": "https://localhost:8080/"
        },
        "outputId": "0f24f86d-d5c3-4a47-a796-5a6ddd34f780"
      },
      "source": [
        "print(\"Cantidad de tokens en el corpus:\", len(tokens))"
      ],
      "execution_count": 26,
      "outputs": [
        {
          "output_type": "stream",
          "name": "stdout",
          "text": [
            "Cantidad de tokens en el corpus: 17963\n"
          ]
        }
      ]
    },
    {
      "cell_type": "code",
      "metadata": {
        "id": "RhQevOynuYk2"
      },
      "source": [
        "# Código para hacer el desfazaje de las palabras\n",
        "# según el train_len\n",
        "text_sequences = []\n",
        "for i in range(train_len, len(tokens)):\n",
        "  seq = tokens[i-train_len:i]\n",
        "  text_sequences.append(seq)"
      ],
      "execution_count": 27,
      "outputs": []
    },
    {
      "cell_type": "code",
      "metadata": {
        "id": "FU3FuqHSuhzq",
        "colab": {
          "base_uri": "https://localhost:8080/"
        },
        "outputId": "85218bda-fccd-42de-9b26-fea91b67d45a"
      },
      "source": [
        "# Demos un vistazo a nuestros vectores para entrenar el modelo\n",
        "text_sequences[:20]"
      ],
      "execution_count": 28,
      "outputs": [
        {
          "output_type": "execute_result",
          "data": {
            "text/plain": [
              "[[\"don't\", 'worry', 'about', 'a'],\n",
              " ['worry', 'about', 'a', 'thing'],\n",
              " ['about', 'a', 'thing', \"'cause\"],\n",
              " ['a', 'thing', \"'cause\", 'every'],\n",
              " ['thing', \"'cause\", 'every', 'little'],\n",
              " [\"'cause\", 'every', 'little', 'thing'],\n",
              " ['every', 'little', 'thing', 'gonna'],\n",
              " ['little', 'thing', 'gonna', 'be'],\n",
              " ['thing', 'gonna', 'be', 'all'],\n",
              " ['gonna', 'be', 'all', 'right'],\n",
              " ['be', 'all', 'right', \"singin'\"],\n",
              " ['all', 'right', \"singin'\", \"don't\"],\n",
              " ['right', \"singin'\", \"don't\", 'worry'],\n",
              " [\"singin'\", \"don't\", 'worry', 'about'],\n",
              " [\"don't\", 'worry', 'about', 'a'],\n",
              " ['worry', 'about', 'a', 'thing'],\n",
              " ['about', 'a', 'thing', \"'cause\"],\n",
              " ['a', 'thing', \"'cause\", 'every'],\n",
              " ['thing', \"'cause\", 'every', 'little'],\n",
              " [\"'cause\", 'every', 'little', 'thing']]"
            ]
          },
          "metadata": {},
          "execution_count": 28
        }
      ]
    },
    {
      "cell_type": "code",
      "metadata": {
        "id": "064N2jtLvHRg",
        "colab": {
          "base_uri": "https://localhost:8080/"
        },
        "outputId": "64e9b784-6e66-4cd4-f0b5-0a64e70a91d0"
      },
      "source": [
        "# Proceso de tokenizacion\n",
        "tok = Tokenizer()\n",
        "tok.fit_on_texts(text_sequences)\n",
        "\n",
        "# Convertimos las palabras a números\n",
        "# entran palabras -> salen números\n",
        "sequences = tok.texts_to_sequences(text_sequences)\n",
        "\n",
        "# Damos un vistazo\n",
        "sequences[:20]"
      ],
      "execution_count": 29,
      "outputs": [
        {
          "output_type": "execute_result",
          "data": {
            "text/plain": [
              "[[17, 83, 91, 4],\n",
              " [83, 91, 4, 56],\n",
              " [91, 4, 56, 65],\n",
              " [4, 56, 65, 62],\n",
              " [56, 65, 62, 54],\n",
              " [65, 62, 54, 56],\n",
              " [62, 54, 56, 34],\n",
              " [54, 56, 34, 12],\n",
              " [56, 34, 12, 19],\n",
              " [34, 12, 19, 27],\n",
              " [12, 19, 27, 183],\n",
              " [19, 27, 183, 17],\n",
              " [27, 183, 17, 83],\n",
              " [183, 17, 83, 91],\n",
              " [17, 83, 91, 4],\n",
              " [83, 91, 4, 56],\n",
              " [91, 4, 56, 65],\n",
              " [4, 56, 65, 62],\n",
              " [56, 65, 62, 54],\n",
              " [65, 62, 54, 56]]"
            ]
          },
          "metadata": {},
          "execution_count": 29
        }
      ]
    },
    {
      "cell_type": "code",
      "metadata": {
        "id": "vwsvmvDKKXSP",
        "colab": {
          "base_uri": "https://localhost:8080/"
        },
        "outputId": "61888674-51be-4b23-bb8d-50f6ef3fd105"
      },
      "source": [
        "print(\"Cantidad de rows del dataset:\", len(sequences))"
      ],
      "execution_count": 30,
      "outputs": [
        {
          "output_type": "stream",
          "name": "stdout",
          "text": [
            "Cantidad de rows del dataset: 17959\n"
          ]
        }
      ]
    },
    {
      "cell_type": "markdown",
      "metadata": {
        "id": "QMVP4bj0vL2e"
      },
      "source": [
        "### 3 - Input y target"
      ]
    },
    {
      "cell_type": "code",
      "metadata": {
        "id": "mx2xwdz3KloJ",
        "colab": {
          "base_uri": "https://localhost:8080/"
        },
        "outputId": "6fb46fc8-17b5-4808-cecf-0c9693345f54"
      },
      "source": [
        "# Con numpy es muy fácil realizar el slicing de vectores\n",
        "ex = np.array([[1,2,3,4],[5,6,7,8]])\n",
        "ex"
      ],
      "execution_count": 31,
      "outputs": [
        {
          "output_type": "execute_result",
          "data": {
            "text/plain": [
              "array([[1, 2, 3, 4],\n",
              "       [5, 6, 7, 8]])"
            ]
          },
          "metadata": {},
          "execution_count": 31
        }
      ]
    },
    {
      "cell_type": "code",
      "metadata": {
        "id": "BEod7qghvTVt",
        "colab": {
          "base_uri": "https://localhost:8080/"
        },
        "outputId": "6c69d518-2b61-403f-873a-062c83cd113d"
      },
      "source": [
        "# Con numpy es muy fácil realizar el slicing de vectores\n",
        "print(\"Dimension:\", ex.shape)\n",
        "print(\"Todos los elementos:\", ex)\n",
        "print(\"Todos los elementos menos el último:\", ex[:, :-1])"
      ],
      "execution_count": 32,
      "outputs": [
        {
          "output_type": "stream",
          "name": "stdout",
          "text": [
            "Dimension: (2, 4)\n",
            "Todos los elementos: [[1 2 3 4]\n",
            " [5 6 7 8]]\n",
            "Todos los elementos menos el último: [[1 2 3]\n",
            " [5 6 7]]\n"
          ]
        }
      ]
    },
    {
      "cell_type": "code",
      "metadata": {
        "id": "i95xWqtCvp8T",
        "colab": {
          "base_uri": "https://localhost:8080/"
        },
        "outputId": "dde22e0d-08a1-49c3-f835-09f94beb0320"
      },
      "source": [
        "input = ex[:,:-1] # todos los rows, menos la ultima col\n",
        "target = ex[:, -1] # última col de cada row\n",
        "\n",
        "print(\"Input:\", input)\n",
        "print(\"Target:\", target)"
      ],
      "execution_count": 33,
      "outputs": [
        {
          "output_type": "stream",
          "name": "stdout",
          "text": [
            "Input: [[1 2 3]\n",
            " [5 6 7]]\n",
            "Target: [4 8]\n"
          ]
        }
      ]
    },
    {
      "cell_type": "code",
      "metadata": {
        "id": "e1vJTG65v4Qn",
        "colab": {
          "base_uri": "https://localhost:8080/"
        },
        "outputId": "1212bc2d-d483-44d3-bd38-823315de7b0b"
      },
      "source": [
        "arr_sequences = np.array(sequences)\n",
        "x_data = arr_sequences[:,:-1]\n",
        "y_data_int = arr_sequences[:,-1] # aún falta el oneHotEncoder\n",
        "\n",
        "print(x_data.shape)\n",
        "print(y_data_int.shape)"
      ],
      "execution_count": 34,
      "outputs": [
        {
          "output_type": "stream",
          "name": "stdout",
          "text": [
            "(17959, 3)\n",
            "(17959,)\n"
          ]
        }
      ]
    },
    {
      "cell_type": "code",
      "metadata": {
        "id": "ln6kVWVlwBBs",
        "colab": {
          "base_uri": "https://localhost:8080/"
        },
        "outputId": "8a4cab27-9adb-428c-fafe-e3833e0074d0"
      },
      "source": [
        "# Palabras del vocabulario\n",
        "tok.index_word"
      ],
      "execution_count": 35,
      "outputs": [
        {
          "output_type": "execute_result",
          "data": {
            "text/plain": [
              "{1: 'the',\n",
              " 2: 'you',\n",
              " 3: 'i',\n",
              " 4: 'a',\n",
              " 5: 'to',\n",
              " 6: 'and',\n",
              " 7: 'no',\n",
              " 8: 'it',\n",
              " 9: 'in',\n",
              " 10: 'oh',\n",
              " 11: 'me',\n",
              " 12: 'be',\n",
              " 13: 'love',\n",
              " 14: 'is',\n",
              " 15: 'of',\n",
              " 16: 'yeah',\n",
              " 17: \"don't\",\n",
              " 18: 'so',\n",
              " 19: 'all',\n",
              " 20: 'we',\n",
              " 21: 'your',\n",
              " 22: 'my',\n",
              " 23: 'on',\n",
              " 24: 'for',\n",
              " 25: 'up',\n",
              " 26: 'now',\n",
              " 27: 'right',\n",
              " 28: 'down',\n",
              " 29: 'one',\n",
              " 30: 'say',\n",
              " 31: 'this',\n",
              " 32: 'know',\n",
              " 33: 'do',\n",
              " 34: 'gonna',\n",
              " 35: 'but',\n",
              " 36: 'they',\n",
              " 37: 'when',\n",
              " 38: 'got',\n",
              " 39: 'jah',\n",
              " 40: 'that',\n",
              " 41: \"i'm\",\n",
              " 42: 'de',\n",
              " 43: 'get',\n",
              " 44: 'come',\n",
              " 45: 'baby',\n",
              " 46: \"we're\",\n",
              " 47: 'will',\n",
              " 48: 'give',\n",
              " 49: 'from',\n",
              " 50: \"it's\",\n",
              " 51: 'like',\n",
              " 52: 'people',\n",
              " 53: 'there',\n",
              " 54: 'little',\n",
              " 55: \"jammin'\",\n",
              " 56: 'thing',\n",
              " 57: 'coming',\n",
              " 58: 'with',\n",
              " 59: 'what',\n",
              " 60: 'wanna',\n",
              " 61: 'said',\n",
              " 62: 'every',\n",
              " 63: 'can',\n",
              " 64: 'feel',\n",
              " 65: \"'cause\",\n",
              " 66: 'them',\n",
              " 67: 'was',\n",
              " 68: 'want',\n",
              " 69: 'let',\n",
              " 70: 'man',\n",
              " 71: \"can't\",\n",
              " 72: 'ooh',\n",
              " 73: 'na',\n",
              " 74: 'try',\n",
              " 75: 'just',\n",
              " 76: 'go',\n",
              " 77: 'see',\n",
              " 78: 'could',\n",
              " 79: 'lord',\n",
              " 80: 'more',\n",
              " 81: 'are',\n",
              " 82: 'take',\n",
              " 83: 'worry',\n",
              " 84: 'stand',\n",
              " 85: 'heart',\n",
              " 86: 'through',\n",
              " 87: 'dread',\n",
              " 88: 'good',\n",
              " 89: 'time',\n",
              " 90: 'easy',\n",
              " 91: 'about',\n",
              " 92: 'life',\n",
              " 93: 'some',\n",
              " 94: 'together',\n",
              " 95: 'much',\n",
              " 96: 'never',\n",
              " 97: 'simmer',\n",
              " 98: 'woman',\n",
              " 99: 'yoy',\n",
              " 100: 'stir',\n",
              " 101: \"won't\",\n",
              " 102: 'have',\n",
              " 103: 'need',\n",
              " 104: 'ya',\n",
              " 105: 'day',\n",
              " 106: 'then',\n",
              " 107: 'back',\n",
              " 108: 'uh',\n",
              " 109: 'she',\n",
              " 110: 'hammer',\n",
              " 111: 'soul',\n",
              " 112: \"'pon\",\n",
              " 113: 'if',\n",
              " 114: 'cry',\n",
              " 115: 'forever',\n",
              " 116: 'whatcha',\n",
              " 117: 'rock',\n",
              " 118: 'town',\n",
              " 119: 'move',\n",
              " 120: 'bad',\n",
              " 121: \"we'll\",\n",
              " 122: 'very',\n",
              " 123: 'doo',\n",
              " 124: 'wo',\n",
              " 125: 'away',\n",
              " 126: 'youths',\n",
              " 127: 'children',\n",
              " 128: \"i'll\",\n",
              " 129: 'race',\n",
              " 130: 'rammer',\n",
              " 131: 'heathen',\n",
              " 132: 'sweet',\n",
              " 133: 'he',\n",
              " 134: \"you're\",\n",
              " 135: 'wop',\n",
              " 136: 'rebel',\n",
              " 137: 'wall',\n",
              " 138: 'hear',\n",
              " 139: 'why',\n",
              " 140: 'here',\n",
              " 141: 'boys',\n",
              " 142: 'our',\n",
              " 143: 'ganja',\n",
              " 144: 'not',\n",
              " 145: 'loved',\n",
              " 146: 'world',\n",
              " 147: 'tell',\n",
              " 148: 'loving',\n",
              " 149: \"i've\",\n",
              " 150: 'long',\n",
              " 151: 'where',\n",
              " 152: 'us',\n",
              " 153: 'bomb',\n",
              " 154: \"let's\",\n",
              " 155: \"that's\",\n",
              " 156: 'fire',\n",
              " 157: 'choo',\n",
              " 158: 'cok',\n",
              " 159: 'movement',\n",
              " 160: 'make',\n",
              " 161: 'who',\n",
              " 162: 'fight',\n",
              " 163: 'would',\n",
              " 164: 'something',\n",
              " 165: 'carry',\n",
              " 166: 'rat',\n",
              " 167: \"ain't\",\n",
              " 168: 'look',\n",
              " 169: 'too',\n",
              " 170: 'gone',\n",
              " 171: 'how',\n",
              " 172: 'africa',\n",
              " 173: 'yo',\n",
              " 174: 'woo',\n",
              " 175: 'am',\n",
              " 176: 'their',\n",
              " 177: 'jamaica',\n",
              " 178: 'cluck',\n",
              " 179: 'skanking',\n",
              " 180: 'darling',\n",
              " 181: 'oo',\n",
              " 182: 'music',\n",
              " 183: \"singin'\",\n",
              " 184: 'by',\n",
              " 185: 'way',\n",
              " 186: 'while',\n",
              " 187: 'things',\n",
              " 188: 'woe',\n",
              " 189: 'well',\n",
              " 190: 'unite',\n",
              " 191: 'trench',\n",
              " 192: \"you've\",\n",
              " 193: 'place',\n",
              " 194: 'at',\n",
              " 195: 'as',\n",
              " 196: 'hit',\n",
              " 197: 'goes',\n",
              " 198: 'exodus',\n",
              " 199: 'war',\n",
              " 200: 'rights',\n",
              " 201: 'keep',\n",
              " 202: 'talk',\n",
              " 203: 'been',\n",
              " 204: 'happy',\n",
              " 205: 'whoa',\n",
              " 206: 'great',\n",
              " 207: 'yes',\n",
              " 208: 'wait',\n",
              " 209: 'vain',\n",
              " 210: 'again',\n",
              " 211: 'la',\n",
              " 212: 'songs',\n",
              " 213: 'trouble',\n",
              " 214: \"i'd\",\n",
              " 215: 'fool',\n",
              " 216: 'over',\n",
              " 217: \"everything's\",\n",
              " 218: \"y'all\",\n",
              " 219: 'natty',\n",
              " 220: 'chuck',\n",
              " 221: 'jam',\n",
              " 222: 'around',\n",
              " 223: 'think',\n",
              " 224: 'kingston',\n",
              " 225: \"pimper's\",\n",
              " 226: 'paradise',\n",
              " 227: 'cold',\n",
              " 228: 'pyaka',\n",
              " 229: 'refuse',\n",
              " 230: \"sayin'\",\n",
              " 231: 'head',\n",
              " 232: 'thanks',\n",
              " 233: \"darlin'\",\n",
              " 234: 'ever',\n",
              " 235: 'dey',\n",
              " 236: 'night',\n",
              " 237: 'fighting',\n",
              " 238: 'satisfy',\n",
              " 239: 'dem',\n",
              " 240: 'galang',\n",
              " 241: 'sun',\n",
              " 242: 'must',\n",
              " 243: 'soldier',\n",
              " 244: \"we've\",\n",
              " 245: 'forget',\n",
              " 246: 'dry',\n",
              " 247: 'whoo',\n",
              " 248: 'morning',\n",
              " 249: 'out',\n",
              " 250: 'another',\n",
              " 251: 'tonight',\n",
              " 252: 'shot',\n",
              " 253: 'always',\n",
              " 254: 'calling',\n",
              " 255: 'stone',\n",
              " 256: 'smile',\n",
              " 257: 'hope',\n",
              " 258: 'praise',\n",
              " 259: 'had',\n",
              " 260: 'eyes',\n",
              " 261: \"'ypocrites\",\n",
              " 262: 'part',\n",
              " 263: 'buffalo',\n",
              " 264: 'sheriff',\n",
              " 265: \"she's\",\n",
              " 266: 'deh',\n",
              " 267: 'cut',\n",
              " 268: 'roots',\n",
              " 269: 'cornerstone',\n",
              " 270: 'slow',\n",
              " 271: 'babylon',\n",
              " 272: 'his',\n",
              " 273: 'alright',\n",
              " 274: 'brown',\n",
              " 275: 'tears',\n",
              " 276: 'only',\n",
              " 277: 'until',\n",
              " 278: 'bob',\n",
              " 279: 'marley',\n",
              " 280: 'before',\n",
              " 281: 'zion',\n",
              " 282: 'woy',\n",
              " 283: 'live',\n",
              " 284: 'living',\n",
              " 285: 'everything',\n",
              " 286: \"didn't\",\n",
              " 287: 'deputy',\n",
              " 288: 'fall',\n",
              " 289: 'slogans',\n",
              " 290: 'home',\n",
              " 291: 'new',\n",
              " 292: 'builder',\n",
              " 293: 'land',\n",
              " 294: 'own',\n",
              " 295: 'believe',\n",
              " 296: 'holy',\n",
              " 297: 'nobody',\n",
              " 298: 'help',\n",
              " 299: 'truth',\n",
              " 300: 'first',\n",
              " 301: 'someone',\n",
              " 302: 'o',\n",
              " 303: 'today',\n",
              " 304: 'pain',\n",
              " 305: 'god',\n",
              " 306: 'party',\n",
              " 307: 'vibration',\n",
              " 308: 'shoot',\n",
              " 309: 'fly',\n",
              " 310: 'teach',\n",
              " 311: 'positive',\n",
              " 312: 'taking',\n",
              " 313: 'ride',\n",
              " 314: 'blame',\n",
              " 315: 'rise',\n",
              " 316: 'three',\n",
              " 317: 'call',\n",
              " 318: 'listen',\n",
              " 319: 'shall',\n",
              " 320: 'stop',\n",
              " 321: 'freedom',\n",
              " 322: 'mount',\n",
              " 323: 'america',\n",
              " 324: 'pale',\n",
              " 325: 'going',\n",
              " 326: 'woah',\n",
              " 327: \"there's\",\n",
              " 328: 'turn',\n",
              " 329: 'shakedown',\n",
              " 330: 'dance',\n",
              " 331: 'found',\n",
              " 332: 'twelve',\n",
              " 333: 'system',\n",
              " 334: 'hey',\n",
              " 335: 'men',\n",
              " 336: 'walk',\n",
              " 337: 'moving',\n",
              " 338: 'ment',\n",
              " 339: 'quick',\n",
              " 340: 'hungry',\n",
              " 341: 'ask',\n",
              " 342: 'end',\n",
              " 343: 'brother',\n",
              " 344: 'cook',\n",
              " 345: 'redemption',\n",
              " 346: \"feelin'\",\n",
              " 347: \"smoke'a\",\n",
              " 348: 'gun',\n",
              " 349: 'many',\n",
              " 350: 'or',\n",
              " 351: 'still',\n",
              " 352: 'than',\n",
              " 353: 'whop',\n",
              " 354: 'waiting',\n",
              " 355: 'belly',\n",
              " 356: 'nice',\n",
              " 357: 'water',\n",
              " 358: \"groovin'\",\n",
              " 359: 'guava',\n",
              " 360: 'african',\n",
              " 361: 'ism',\n",
              " 362: 'cup',\n",
              " 363: 'mr',\n",
              " 364: 'should',\n",
              " 365: 'sunshine',\n",
              " 366: 'throw',\n",
              " 367: 'boat',\n",
              " 368: \"pickin'\",\n",
              " 369: 'bread',\n",
              " 370: 'given',\n",
              " 371: 'mob',\n",
              " 372: 'put',\n",
              " 373: 'soon',\n",
              " 374: 'remember',\n",
              " 375: 'used',\n",
              " 376: 'yard',\n",
              " 377: 'friends',\n",
              " 378: 'shed',\n",
              " 379: 'made',\n",
              " 380: 'these',\n",
              " 381: 'kill',\n",
              " 382: 'rasta',\n",
              " 383: 'yoe',\n",
              " 384: 'judge',\n",
              " 385: 'road',\n",
              " 386: 'else',\n",
              " 387: 'judging',\n",
              " 388: 'work',\n",
              " 389: 'two',\n",
              " 390: 'running',\n",
              " 391: 'ah',\n",
              " 392: 'light',\n",
              " 393: 'eh',\n",
              " 394: 'find',\n",
              " 395: 'evil',\n",
              " 396: \"they're\",\n",
              " 397: 'coffee',\n",
              " 398: 'top',\n",
              " 399: 'wise',\n",
              " 400: 'rain',\n",
              " 401: 'black',\n",
              " 402: 'ha',\n",
              " 403: \"c'mon\",\n",
              " 404: 'rastaman',\n",
              " 405: 'dready',\n",
              " 406: 'trodding',\n",
              " 407: 'winepress',\n",
              " 408: \"chuckin'\",\n",
              " 409: 'true',\n",
              " 410: \"'bout\",\n",
              " 411: 'song',\n",
              " 412: 'might',\n",
              " 413: 'sing',\n",
              " 414: 'came',\n",
              " 415: 'girl',\n",
              " 416: 'really',\n",
              " 417: 'has',\n",
              " 418: 'hurt',\n",
              " 419: 'mankind',\n",
              " 420: 'comes',\n",
              " 421: 'father',\n",
              " 422: 'creation',\n",
              " 423: 'hot',\n",
              " 424: 'did',\n",
              " 425: 'past',\n",
              " 426: 'share',\n",
              " 427: 'after',\n",
              " 428: 'yourself',\n",
              " 429: 'same',\n",
              " 430: \"i'n'i\",\n",
              " 431: 'better',\n",
              " 432: 'name',\n",
              " 433: 'blue',\n",
              " 434: 'pot',\n",
              " 435: 'run',\n",
              " 436: 'suffer',\n",
              " 437: 'pieces',\n",
              " 438: 'once',\n",
              " 439: 'survive',\n",
              " 440: 'matter',\n",
              " 441: \"cryin'\",\n",
              " 442: 'hold',\n",
              " 443: 'tight',\n",
              " 444: 'play',\n",
              " 445: 'ho',\n",
              " 446: 'dip',\n",
              " 447: 'pa',\n",
              " 448: 'whole',\n",
              " 449: 'best',\n",
              " 450: 'rides',\n",
              " 451: 'upsetting',\n",
              " 452: 'reason',\n",
              " 453: 'food',\n",
              " 454: 'wet',\n",
              " 455: 'hypocrites',\n",
              " 456: 'anytime',\n",
              " 457: 'su',\n",
              " 458: 'cap',\n",
              " 459: 'fit',\n",
              " 460: 'wear',\n",
              " 461: 'corn',\n",
              " 462: 'fowl',\n",
              " 463: 'hard',\n",
              " 464: 'protect',\n",
              " 465: 'po',\n",
              " 466: 'herbsman',\n",
              " 467: 'throne',\n",
              " 468: 'angry',\n",
              " 469: 'birds',\n",
              " 470: 'message',\n",
              " 471: 'fadeout',\n",
              " 472: 'may',\n",
              " 473: 'learn',\n",
              " 474: 'were',\n",
              " 475: 'mean',\n",
              " 476: 'human',\n",
              " 477: 'sit',\n",
              " 478: 'meet',\n",
              " 479: 'feet',\n",
              " 480: 'strong',\n",
              " 481: 'free',\n",
              " 482: 'treat',\n",
              " 483: 'solo',\n",
              " 484: 'big',\n",
              " 485: 'last',\n",
              " 486: 'battle',\n",
              " 487: 'door',\n",
              " 488: 'behind',\n",
              " 489: 'ready',\n",
              " 490: 'satisfied',\n",
              " 491: 'dreadlock',\n",
              " 492: 'brought',\n",
              " 493: 'arrival',\n",
              " 494: 'survival',\n",
              " 495: 'yea',\n",
              " 496: 'arms',\n",
              " 497: 'moonlight',\n",
              " 498: 'corner',\n",
              " 499: 'him',\n",
              " 500: 'leaving',\n",
              " 501: 'start',\n",
              " 502: 'wid',\n",
              " 503: 'alone',\n",
              " 504: 'reggae',\n",
              " 505: 'jelly',\n",
              " 506: 'philosophy',\n",
              " 507: 'understand',\n",
              " 508: 'drop',\n",
              " 509: 'ego',\n",
              " 510: 'wooh',\n",
              " 511: 'against',\n",
              " 512: 'bright',\n",
              " 513: 'full',\n",
              " 514: 'drift',\n",
              " 515: 'coffin',\n",
              " 516: 'wrong',\n",
              " 517: 'scaba',\n",
              " 518: 'blood',\n",
              " 519: 'sad',\n",
              " 520: 'send',\n",
              " 521: 'saying',\n",
              " 522: 'within',\n",
              " 523: 'pull',\n",
              " 524: 'majesty',\n",
              " 525: 'natural',\n",
              " 526: 'mystic',\n",
              " 527: 'blowing',\n",
              " 528: 'air',\n",
              " 529: 'word',\n",
              " 530: 'dirt',\n",
              " 531: 'tough',\n",
              " 532: \"'nough\",\n",
              " 533: \"mornin'\",\n",
              " 534: 'smiled',\n",
              " 535: \"risin'\",\n",
              " 536: 'doorstep',\n",
              " 537: 'melodies',\n",
              " 538: 'pure',\n",
              " 539: 'ou',\n",
              " 540: 'note',\n",
              " 541: 'cause',\n",
              " 542: 'face',\n",
              " 543: 'pass',\n",
              " 544: 'crying',\n",
              " 545: 'those',\n",
              " 546: 'school',\n",
              " 547: 'break',\n",
              " 548: 'government',\n",
              " 549: 'trenchtown',\n",
              " 550: 'lights',\n",
              " 551: 'please',\n",
              " 552: 'generation',\n",
              " 553: 'none',\n",
              " 554: 'self',\n",
              " 555: 'mind',\n",
              " 556: 'heads',\n",
              " 557: 'mc',\n",
              " 558: 'lyte',\n",
              " 559: 'anyhow',\n",
              " 560: 'done',\n",
              " 561: 'game',\n",
              " 562: 'repeats',\n",
              " 563: 'rap',\n",
              " 564: \"troddin'\",\n",
              " 565: 'gold',\n",
              " 566: 'wa',\n",
              " 567: 'told',\n",
              " 568: 'walking',\n",
              " 569: 'p',\n",
              " 570: 'capturer',\n",
              " 571: 'adventurer',\n",
              " 572: 'gotta',\n",
              " 573: 'babe',\n",
              " 574: 'teardrops',\n",
              " 575: 'remain',\n",
              " 576: 'leave',\n",
              " 577: 'brotherman',\n",
              " 578: 'rockers',\n",
              " 579: 'rub',\n",
              " 580: 'chorus',\n",
              " 581: 'everywhere',\n",
              " 582: 'illusion',\n",
              " 583: 'africans',\n",
              " 584: 'heaven',\n",
              " 585: 'high',\n",
              " 586: 'telling',\n",
              " 587: \"holdin'\",\n",
              " 588: 'ram',\n",
              " 589: 'feeling',\n",
              " 590: 'an',\n",
              " 591: 'feed',\n",
              " 592: 'tup',\n",
              " 593: 'rum',\n",
              " 594: 'gravalicious',\n",
              " 595: 'tomorrow',\n",
              " 596: 'lie',\n",
              " 597: 'shining',\n",
              " 598: 'king',\n",
              " 599: 'queen',\n",
              " 600: 'into',\n",
              " 601: 'stages',\n",
              " 602: 'its',\n",
              " 603: 'fe',\n",
              " 604: 'binghi',\n",
              " 605: 'talking',\n",
              " 606: 'open',\n",
              " 607: 'reality',\n",
              " 608: 'low',\n",
              " 609: 'laws',\n",
              " 610: 'slippery',\n",
              " 611: 'caution',\n",
              " 612: 'grimepit',\n",
              " 613: 'eat',\n",
              " 614: 'drink',\n",
              " 615: \"callin'\",\n",
              " 616: 'teachings',\n",
              " 617: 'devil',\n",
              " 618: 'red',\n",
              " 619: \"father's\",\n",
              " 620: 'easier',\n",
              " 621: 'soulful',\n",
              " 622: \"takin'\",\n",
              " 623: 'twice',\n",
              " 624: 'burning',\n",
              " 625: 'sufferers',\n",
              " 626: 'pirate',\n",
              " 627: 'double',\n",
              " 628: 'bed',\n",
              " 629: 'bring',\n",
              " 630: 'everybody',\n",
              " 631: 'expect',\n",
              " 632: 'dirty',\n",
              " 633: 'remarks',\n",
              " 634: 'question',\n",
              " 635: 'hopeless',\n",
              " 636: 'save',\n",
              " 637: 'beginning',\n",
              " 638: 'doom',\n",
              " 639: 'pity',\n",
              " 640: 'whose',\n",
              " 641: 'chances',\n",
              " 642: 'grow',\n",
              " 643: 'hiding',\n",
              " 644: 'watcha',\n",
              " 645: 'john',\n",
              " 646: 'rule',\n",
              " 647: 'mother',\n",
              " 648: 'sometime',\n",
              " 649: 'sister',\n",
              " 650: 'along',\n",
              " 651: \"'ere\",\n",
              " 652: 'which',\n",
              " 653: 'push',\n",
              " 654: 'old',\n",
              " 655: 'fear',\n",
              " 656: 'fulfill',\n",
              " 657: 'bong',\n",
              " 658: 'smoke',\n",
              " 659: \"singing'\",\n",
              " 660: 'struggle',\n",
              " 661: 'rules',\n",
              " 662: 'above',\n",
              " 663: 'sure',\n",
              " 664: 'poor',\n",
              " 665: 'knows',\n",
              " 666: 'resist',\n",
              " 667: 'lot',\n",
              " 668: 'win',\n",
              " 669: 'singing',\n",
              " 670: 'worth',\n",
              " 671: 'judgement',\n",
              " 672: 'stumble',\n",
              " 673: 'travel',\n",
              " 674: 'wide',\n",
              " 675: 'fine',\n",
              " 676: 'since',\n",
              " 677: 'wood',\n",
              " 678: \"you'll\",\n",
              " 679: 'dropped',\n",
              " 680: 'control',\n",
              " 681: 'hotter',\n",
              " 682: 'near',\n",
              " 683: 'steady',\n",
              " 684: \"rockin'\",\n",
              " 685: 'thank',\n",
              " 686: 'even',\n",
              " 687: 'weeping',\n",
              " 688: \"man's\",\n",
              " 689: 'peace',\n",
              " 690: 'invitation',\n",
              " 691: 'special',\n",
              " 692: 'vacation',\n",
              " 693: 'concentration',\n",
              " 694: 'doing',\n",
              " 695: 'chance',\n",
              " 696: 'track',\n",
              " 697: 'guilty',\n",
              " 698: 'rama',\n",
              " 699: 'bee',\n",
              " 700: 'stock',\n",
              " 701: \"'em\",\n",
              " 702: 'though',\n",
              " 703: 'sorrow',\n",
              " 704: \"lovin'\",\n",
              " 705: 'rescue',\n",
              " 706: 'everyone',\n",
              " 707: 'dawn',\n",
              " 708: 'bado',\n",
              " 709: 'nowhere',\n",
              " 710: 'hate',\n",
              " 711: 'mandeville',\n",
              " 712: 'sligoville',\n",
              " 713: 'asking',\n",
              " 714: 'street',\n",
              " 715: 'cast',\n",
              " 716: 'rages',\n",
              " 717: 'hits',\n",
              " 718: 'reap',\n",
              " 719: 'sow',\n",
              " 720: 'iration',\n",
              " 721: \"talkin'\",\n",
              " 722: 'closed',\n",
              " 723: 'biggest',\n",
              " 724: 'bless',\n",
              " 725: 'youth',\n",
              " 726: 'likely',\n",
              " 727: 'ground',\n",
              " 728: 'crazy',\n",
              " 729: 'motherfunky',\n",
              " 730: 'friend',\n",
              " 731: 'sweepstake',\n",
              " 732: 'winner',\n",
              " 733: 'honey',\n",
              " 734: 'gap',\n",
              " 735: 'drumbeat',\n",
              " 736: 'riddim',\n",
              " 737: \"jah's\",\n",
              " 738: 'carefully',\n",
              " 739: 'tribulation',\n",
              " 740: 'lives',\n",
              " 741: 'needs',\n",
              " 742: 'bit',\n",
              " 743: 'spliff',\n",
              " 744: 'lift',\n",
              " 745: 'riff',\n",
              " 746: 'iyaman',\n",
              " 747: 'uniting',\n",
              " 748: 'slave',\n",
              " 749: 'remembrance',\n",
              " 750: 'company',\n",
              " 751: 'vampire',\n",
              " 752: \"suckin'\",\n",
              " 753: 'perch',\n",
              " 754: 'wrote',\n",
              " 755: 'took',\n",
              " 756: 'late',\n",
              " 757: 'sinner',\n",
              " 758: 'gon',\n",
              " 759: 'acting',\n",
              " 760: 'cool',\n",
              " 761: 'reflexion',\n",
              " 762: 'rude',\n",
              " 763: 'oba',\n",
              " 764: 'obaserving',\n",
              " 765: 'mingle',\n",
              " 766: 'lost',\n",
              " 767: 'future',\n",
              " 768: 'seh',\n",
              " 769: 'georgie',\n",
              " 770: 'logwood',\n",
              " 771: \"burnin'\",\n",
              " 772: 'nights',\n",
              " 773: 'cornmeal',\n",
              " 774: 'porridge',\n",
              " 775: 'carriage',\n",
              " 776: 'sold',\n",
              " 777: 'minutes',\n",
              " 778: \"'and\",\n",
              " 779: 'almighty',\n",
              " 780: 'emancipate',\n",
              " 781: 'mental',\n",
              " 782: 'slavery',\n",
              " 783: 'atomic',\n",
              " 784: 'energy',\n",
              " 785: 'prophets',\n",
              " 786: 'aside',\n",
              " 787: 'book',\n",
              " 788: 'roof',\n",
              " 789: 'shelter',\n",
              " 790: 'single',\n",
              " 791: 'room',\n",
              " 792: 'vocal',\n",
              " 793: 'lucky',\n",
              " 794: 'pitch',\n",
              " 795: 'everyday',\n",
              " 796: 'pay',\n",
              " 797: 'price',\n",
              " 798: 'jammin',\n",
              " 799: 'yet',\n",
              " 800: 'claim',\n",
              " 801: 'years',\n",
              " 802: 'remained',\n",
              " 803: 'repeat',\n",
              " 804: 'cannot',\n",
              " 805: 'hide',\n",
              " 806: 'side',\n",
              " 807: 'straight',\n",
              " 808: 'stolen',\n",
              " 809: 'history',\n",
              " 810: \"wouldn't\",\n",
              " 811: 'ran',\n",
              " 812: 'hand',\n",
              " 813: 'driven',\n",
              " 814: 'neither',\n",
              " 815: 'nor',\n",
              " 816: 'bow',\n",
              " 817: 'met',\n",
              " 818: 'moment',\n",
              " 819: 'sight',\n",
              " 820: 'point',\n",
              " 821: 'fingers',\n",
              " 822: 'saxophone',\n",
              " 823: 'rocky',\n",
              " 824: 'hillside',\n",
              " 825: 'knock',\n",
              " 826: 'burn',\n",
              " 827: 'thirsty',\n",
              " 828: 'stick',\n",
              " 829: \"lickin'\",\n",
              " 830: 'temper',\n",
              " 831: 'chicken',\n",
              " 832: 'lonely',\n",
              " 833: 'heartaches',\n",
              " 834: 'darkness',\n",
              " 835: 'fittest',\n",
              " 836: 'stay',\n",
              " 837: 'groovy',\n",
              " 838: 'child',\n",
              " 839: 'pon',\n",
              " 840: 'class',\n",
              " 841: 'second',\n",
              " 842: 'color',\n",
              " 843: 'without',\n",
              " 844: 'brothers',\n",
              " 845: 'south',\n",
              " 846: 'victory',\n",
              " 847: 'under',\n",
              " 848: 'earth',\n",
              " 849: 'struggling',\n",
              " 850: 'tired',\n",
              " 851: 'skism',\n",
              " 852: \"dyin'\",\n",
              " 853: \"goin'\",\n",
              " 854: 'holding',\n",
              " 855: 'other',\n",
              " 856: 'swear',\n",
              " 857: 'defense',\n",
              " 858: 'sudden',\n",
              " 859: 'bottom',\n",
              " 860: 'wee',\n",
              " 861: 'loves',\n",
              " 862: 'lose',\n",
              " 863: 'shelf',\n",
              " 864: 'diplomatic',\n",
              " 865: \"'yp\",\n",
              " 866: 'hypocratic',\n",
              " 867: 'tourist',\n",
              " 868: 'topper',\n",
              " 869: 'norris',\n",
              " 870: 'money',\n",
              " 871: 'lawyer',\n",
              " 872: 'replace',\n",
              " 873: \"'eartache\",\n",
              " 874: 'caused',\n",
              " 875: 'warm',\n",
              " 876: 'weather',\n",
              " 877: 'dancing',\n",
              " 878: 'gather',\n",
              " 879: 'rainbow',\n",
              " 880: 'seems',\n",
              " 881: 'fade',\n",
              " 882: 'girls',\n",
              " 883: 'surely',\n",
              " 884: 'palace',\n",
              " 885: 'll',\n",
              " 886: 'scoobado',\n",
              " 887: 'accumulate',\n",
              " 888: 'starts',\n",
              " 889: 'space',\n",
              " 890: 'e',\n",
              " 891: 'crows',\n",
              " 892: 'confusion',\n",
              " 893: 'prove',\n",
              " 894: \"he's\",\n",
              " 895: 'lean',\n",
              " 896: 'upon',\n",
              " 897: 'planted',\n",
              " 898: 'bringeth',\n",
              " 899: 'forth',\n",
              " 900: 'fruits',\n",
              " 901: 'season',\n",
              " 902: 'watch',\n",
              " 903: 'fish',\n",
              " 904: 'sprat',\n",
              " 905: 'slum',\n",
              " 906: 'brutalize',\n",
              " 907: 'da',\n",
              " 908: 'trash',\n",
              " 909: 'ourselves',\n",
              " 910: 'forsaken',\n",
              " 911: 'care',\n",
              " 912: 'nah',\n",
              " 913: 'flesh',\n",
              " 914: 'spiritual',\n",
              " 915: 'wickedness',\n",
              " 916: 'places',\n",
              " 917: 'firm',\n",
              " 918: 'praises',\n",
              " 919: 'justified',\n",
              " 920: 'housetop',\n",
              " 921: 'wicked',\n",
              " 922: 'rumor',\n",
              " 923: 'crumpy',\n",
              " 924: 'jet',\n",
              " 925: 'damp',\n",
              " 926: 'crampy',\n",
              " 927: 'tumbling',\n",
              " 928: 'forgive',\n",
              " 929: 'grown',\n",
              " 930: 'son',\n",
              " 931: 'city',\n",
              " 932: 'wipe',\n",
              " 933: 'streets',\n",
              " 934: 'pulpit',\n",
              " 935: 'wonder',\n",
              " 936: 'house',\n",
              " 937: 'worst',\n",
              " 938: 'enemy',\n",
              " 939: 'action',\n",
              " 940: 'bend',\n",
              " 941: 'sweep',\n",
              " 942: 'fallen',\n",
              " 943: 'fighters',\n",
              " 944: 'stance',\n",
              " 945: \"'tis\",\n",
              " 946: 'beats',\n",
              " 947: 'dying',\n",
              " 948: 'making',\n",
              " 949: 'playing',\n",
              " 950: 'frighten',\n",
              " 951: 'trumpet',\n",
              " 952: 'die',\n",
              " 953: 'roads',\n",
              " 954: 'trod',\n",
              " 955: 'moses',\n",
              " 956: 'across',\n",
              " 957: 'sea',\n",
              " 958: 'moon',\n",
              " 959: 'happiness',\n",
              " 960: 'ooooh',\n",
              " 961: 'created',\n",
              " 962: 'selassie',\n",
              " 963: 'rastafari',\n",
              " 964: 'irie',\n",
              " 965: 'ites',\n",
              " 966: 'sign',\n",
              " 967: 'beliefs',\n",
              " 968: 'armagiddyon',\n",
              " 969: 'grows',\n",
              " 970: \"t'inner\",\n",
              " 971: \"pleadin'\",\n",
              " 972: 'having',\n",
              " 973: 'fun',\n",
              " 974: 'spell',\n",
              " 975: 'yow',\n",
              " 976: 'excuse',\n",
              " 977: 'staying',\n",
              " 978: 'herb',\n",
              " 979: 'wine',\n",
              " 980: 'x4',\n",
              " 981: 'x3',\n",
              " 982: 'feels',\n",
              " 983: 'peeyah',\n",
              " 984: 'lee',\n",
              " 985: 'pleasant',\n",
              " 986: 'unification',\n",
              " 987: 'already',\n",
              " 988: 'benefit',\n",
              " 989: 'later',\n",
              " 990: 'linger',\n",
              " 991: 'concentrate',\n",
              " 992: 'scorn',\n",
              " 993: 'transplanted',\n",
              " 994: 'words',\n",
              " 995: 'sip',\n",
              " 996: 'woods',\n",
              " 997: 'destroying',\n",
              " 998: 'weight',\n",
              " 999: 'granted',\n",
              " 1000: 'teaching',\n",
              " ...}"
            ]
          },
          "metadata": {},
          "execution_count": 35
        }
      ]
    },
    {
      "cell_type": "code",
      "metadata": {
        "id": "gJgVhq1zwEpf",
        "colab": {
          "base_uri": "https://localhost:8080/"
        },
        "outputId": "5f62c3e1-eec0-4758-e63c-b91ae88c80ed"
      },
      "source": [
        "# Cantidad de palabras en el vocabulario\n",
        "vocab_size = len(tok.word_counts)\n",
        "vocab_size"
      ],
      "execution_count": 36,
      "outputs": [
        {
          "output_type": "execute_result",
          "data": {
            "text/plain": [
              "1639"
            ]
          },
          "metadata": {},
          "execution_count": 36
        }
      ]
    },
    {
      "cell_type": "code",
      "metadata": {
        "id": "qWjNrNx9wM1b",
        "colab": {
          "base_uri": "https://localhost:8080/"
        },
        "outputId": "3e0212a0-f0fd-4821-9e54-d15177ff05fc"
      },
      "source": [
        "# ¡Ojo! y_data_int comienza en \"1\" en vez de \"0\"\n",
        "# valor minimo:\n",
        "min(y_data_int)"
      ],
      "execution_count": 37,
      "outputs": [
        {
          "output_type": "execute_result",
          "data": {
            "text/plain": [
              "1"
            ]
          },
          "metadata": {},
          "execution_count": 37
        }
      ]
    },
    {
      "cell_type": "code",
      "metadata": {
        "id": "gIg2e2WCwXbG",
        "colab": {
          "base_uri": "https://localhost:8080/"
        },
        "outputId": "277c573a-e07a-448b-bbb9-80dd87402471"
      },
      "source": [
        "# Hay que restar 1\n",
        "y_data_int_offset = y_data_int - 1\n",
        "min(y_data_int_offset)"
      ],
      "execution_count": 38,
      "outputs": [
        {
          "output_type": "execute_result",
          "data": {
            "text/plain": [
              "0"
            ]
          },
          "metadata": {},
          "execution_count": 38
        }
      ]
    },
    {
      "cell_type": "code",
      "source": [
        "class Data(Dataset):\n",
        "    def __init__(self, x, y):\n",
        "        # Convertir los arrays de numpy a tensores.\n",
        "        # pytorch espera en general entradas 32bits\n",
        "        self.x = torch.from_numpy(x.astype(np.int32))\n",
        "        # Transformar los datos a oneHotEncoding\n",
        "        # la loss function esperan la salida float\n",
        "        self.y = F.one_hot(torch.from_numpy(y), num_classes=vocab_size).float()\n",
        "\n",
        "        self.len = self.y.shape[0]\n",
        "\n",
        "    def __getitem__(self,index):\n",
        "        return self.x[index], self.y[index]\n",
        "\n",
        "    def __len__(self):\n",
        "        return self.len\n",
        "\n",
        "data_set = Data(x_data, y_data_int_offset)\n",
        "\n",
        "input_size = data_set.x.shape[1]\n",
        "print(\"input_size:\", input_size)\n",
        "\n",
        "output_dim = data_set.y.shape[1]\n",
        "print(\"Output dim\", output_dim)"
      ],
      "metadata": {
        "colab": {
          "base_uri": "https://localhost:8080/"
        },
        "id": "cVO59n_3BEyR",
        "outputId": "4a8a508e-fdf0-4daa-86d3-08a93b03ca5e"
      },
      "execution_count": 39,
      "outputs": [
        {
          "output_type": "stream",
          "name": "stdout",
          "text": [
            "input_size: 3\n",
            "Output dim 1639\n"
          ]
        }
      ]
    },
    {
      "cell_type": "code",
      "source": [
        "torch.manual_seed(42)\n",
        "valid_set_size = int(data_set.len * 0.2)\n",
        "train_set_size = data_set.len - valid_set_size\n",
        "\n",
        "train_set = torch.utils.data.Subset(data_set, range(train_set_size))\n",
        "valid_set = torch.utils.data.Subset(data_set, range(train_set_size, data_set.len))\n",
        "\n",
        "print(\"Tamaño del conjunto de entrenamiento:\", len(train_set))\n",
        "print(\"Tamaño del conjunto de validacion:\", len(valid_set))\n",
        "\n",
        "train_batch_size = 32\n",
        "train_loader = torch.utils.data.DataLoader(train_set, batch_size=train_batch_size, shuffle=True)\n",
        "valid_loader = torch.utils.data.DataLoader(valid_set, batch_size=len(valid_set), shuffle=False)"
      ],
      "metadata": {
        "colab": {
          "base_uri": "https://localhost:8080/"
        },
        "id": "9_HzwNSwCISC",
        "outputId": "3522e3e7-0415-433d-961c-8ec21a5e0778"
      },
      "execution_count": 40,
      "outputs": [
        {
          "output_type": "stream",
          "name": "stdout",
          "text": [
            "Tamaño del conjunto de entrenamiento: 14368\n",
            "Tamaño del conjunto de validacion: 3591\n"
          ]
        }
      ]
    },
    {
      "cell_type": "markdown",
      "metadata": {
        "id": "GmJWNyxQwfCE"
      },
      "source": [
        "### 4 - Entrenar el modelo"
      ]
    },
    {
      "cell_type": "code",
      "source": [
        "class Model1(nn.Module):\n",
        "    def __init__(self, vocab_size, output_dim):\n",
        "        super().__init__()\n",
        "        # num_embeddings = vocab_size --> 1628 palabras distintas + 1 para padding o UNK\n",
        "        # embedding_dim = 5 --> crear embeddings de tamaño 5 (tamaño variable y ajustable)\n",
        "        self.lstm_size = 64\n",
        "        self.num_layers = 2\n",
        "        self.embedding = nn.Embedding(num_embeddings=vocab_size+1, embedding_dim=5, padding_idx=0)\n",
        "        self.lstm1 = nn.LSTM(input_size=5, hidden_size=self.lstm_size, batch_first=True,\n",
        "                            num_layers=self.num_layers, dropout=0.2) # LSTM layer\n",
        "        self.fc1 = nn.Linear(in_features=self.lstm_size, out_features=32) # Fully connected layer\n",
        "        self.fc2 = nn.Linear(in_features=32, out_features=output_dim) # Fully connected layer\n",
        "\n",
        "        self.relu = nn.ReLU()\n",
        "        self.softmax = nn.Softmax(dim=1) # normalize in dim 1\n",
        "\n",
        "    def forward(self, x, prev_state=None):\n",
        "        if prev_state is None:\n",
        "            # En cada nueva inferencia reinicio el hidden state\n",
        "            # de la LSTM al menos que sea pasado por parámetro el\n",
        "            # elstado de previo\n",
        "            # Esta acción se realiza especialmente para que\n",
        "            # el hidden_state de la última inferencia no afecte\n",
        "            # a la siguiente\n",
        "            batch_size = x.shape[0] #(batch, seq_size)\n",
        "            prev_state = self.init_hidden(batch_size)\n",
        "\n",
        "        out = self.embedding(x)\n",
        "        lstm_output, (ht, ct) = self.lstm1(out, prev_state)\n",
        "        out = self.relu(self.fc1(lstm_output[:,-1,:])) # take last output (last seq)\n",
        "        out = self.softmax(self.fc2(out))\n",
        "        return out\n",
        "\n",
        "    def init_hidden(self, batch_size):\n",
        "        return (torch.zeros(self.num_layers, batch_size, self.lstm_size),\n",
        "                torch.zeros(self.num_layers, batch_size, self.lstm_size))\n",
        "\n",
        "model1 = Model1(vocab_size=vocab_size, output_dim=output_dim)\n",
        "\n",
        "# Crear el optimizador la una función de error\n",
        "model1_optimizer = torch.optim.Adam(model1.parameters(), lr=0.001)\n",
        "model1_criterion = torch.nn.CrossEntropyLoss()  # Para clasificación multi categórica\n",
        "\n",
        "# Por defecto torchinfo testea el modelo con torch.FloatTensor\n",
        "summary(model1, input_size=(1, input_size), dtypes=['torch.IntTensor'], device=torch.device('cpu'))\n",
        "\n",
        "# otra posibilidad\n",
        "#summary(model1, input_data=data_set[0][0].unsqueeze(0))"
      ],
      "metadata": {
        "colab": {
          "base_uri": "https://localhost:8080/"
        },
        "id": "VsdYibawCkHi",
        "outputId": "0a66ffe7-22ee-4a8d-98bc-e731701e3b70"
      },
      "execution_count": 41,
      "outputs": [
        {
          "output_type": "execute_result",
          "data": {
            "text/plain": [
              "==========================================================================================\n",
              "Layer (type:depth-idx)                   Output Shape              Param #\n",
              "==========================================================================================\n",
              "Model1                                   [1, 1639]                 --\n",
              "├─Embedding: 1-1                         [1, 3, 5]                 8,200\n",
              "├─LSTM: 1-2                              [1, 3, 64]                51,456\n",
              "├─Linear: 1-3                            [1, 32]                   2,080\n",
              "├─ReLU: 1-4                              [1, 32]                   --\n",
              "├─Linear: 1-5                            [1, 1639]                 54,087\n",
              "├─Softmax: 1-6                           [1, 1639]                 --\n",
              "==========================================================================================\n",
              "Total params: 115,823\n",
              "Trainable params: 115,823\n",
              "Non-trainable params: 0\n",
              "Total mult-adds (M): 0.22\n",
              "==========================================================================================\n",
              "Input size (MB): 0.00\n",
              "Forward/backward pass size (MB): 0.02\n",
              "Params size (MB): 0.46\n",
              "Estimated Total Size (MB): 0.48\n",
              "=========================================================================================="
            ]
          },
          "metadata": {},
          "execution_count": 41
        }
      ]
    },
    {
      "cell_type": "code",
      "source": [
        "history1 = train(model1,\n",
        "                train_loader,\n",
        "                valid_loader,\n",
        "                model1_optimizer,\n",
        "                model1_criterion,\n",
        "                epochs=100\n",
        "                )"
      ],
      "metadata": {
        "colab": {
          "base_uri": "https://localhost:8080/"
        },
        "id": "S5yINRb7yMzB",
        "outputId": "90e51917-fb8a-4f33-e772-4d1d1660eac8"
      },
      "execution_count": 44,
      "outputs": [
        {
          "output_type": "stream",
          "name": "stdout",
          "text": [
            "Epoch: 1/100 - Train loss 7.380 - Train accuracy 0.025 - Valid Loss 7.390 - Valid accuracy 0.013\n",
            "Epoch: 2/100 - Train loss 7.374 - Train accuracy 0.028 - Valid Loss 7.371 - Valid accuracy 0.032\n",
            "Epoch: 3/100 - Train loss 7.372 - Train accuracy 0.031 - Valid Loss 7.371 - Valid accuracy 0.032\n",
            "Epoch: 4/100 - Train loss 7.372 - Train accuracy 0.031 - Valid Loss 7.371 - Valid accuracy 0.032\n",
            "Epoch: 5/100 - Train loss 7.372 - Train accuracy 0.031 - Valid Loss 7.371 - Valid accuracy 0.032\n",
            "Epoch: 6/100 - Train loss 7.372 - Train accuracy 0.031 - Valid Loss 7.371 - Valid accuracy 0.032\n",
            "Epoch: 7/100 - Train loss 7.372 - Train accuracy 0.031 - Valid Loss 7.371 - Valid accuracy 0.032\n",
            "Epoch: 8/100 - Train loss 7.372 - Train accuracy 0.031 - Valid Loss 7.371 - Valid accuracy 0.032\n",
            "Epoch: 9/100 - Train loss 7.372 - Train accuracy 0.031 - Valid Loss 7.371 - Valid accuracy 0.032\n",
            "Epoch: 10/100 - Train loss 7.372 - Train accuracy 0.031 - Valid Loss 7.371 - Valid accuracy 0.032\n",
            "Epoch: 11/100 - Train loss 7.372 - Train accuracy 0.031 - Valid Loss 7.371 - Valid accuracy 0.032\n",
            "Epoch: 12/100 - Train loss 7.372 - Train accuracy 0.031 - Valid Loss 7.371 - Valid accuracy 0.032\n",
            "Epoch: 13/100 - Train loss 7.372 - Train accuracy 0.031 - Valid Loss 7.371 - Valid accuracy 0.032\n",
            "Epoch: 14/100 - Train loss 7.372 - Train accuracy 0.031 - Valid Loss 7.371 - Valid accuracy 0.032\n",
            "Epoch: 15/100 - Train loss 7.372 - Train accuracy 0.031 - Valid Loss 7.371 - Valid accuracy 0.032\n",
            "Epoch: 16/100 - Train loss 7.372 - Train accuracy 0.031 - Valid Loss 7.371 - Valid accuracy 0.032\n",
            "Epoch: 17/100 - Train loss 7.372 - Train accuracy 0.031 - Valid Loss 7.371 - Valid accuracy 0.032\n",
            "Epoch: 18/100 - Train loss 7.372 - Train accuracy 0.031 - Valid Loss 7.371 - Valid accuracy 0.032\n",
            "Epoch: 19/100 - Train loss 7.372 - Train accuracy 0.031 - Valid Loss 7.371 - Valid accuracy 0.032\n",
            "Epoch: 20/100 - Train loss 7.372 - Train accuracy 0.031 - Valid Loss 7.371 - Valid accuracy 0.032\n",
            "Epoch: 21/100 - Train loss 7.372 - Train accuracy 0.031 - Valid Loss 7.371 - Valid accuracy 0.032\n",
            "Epoch: 22/100 - Train loss 7.372 - Train accuracy 0.031 - Valid Loss 7.371 - Valid accuracy 0.032\n",
            "Epoch: 23/100 - Train loss 7.371 - Train accuracy 0.032 - Valid Loss 7.371 - Valid accuracy 0.032\n",
            "Epoch: 24/100 - Train loss 7.370 - Train accuracy 0.033 - Valid Loss 7.371 - Valid accuracy 0.031\n",
            "Epoch: 25/100 - Train loss 7.366 - Train accuracy 0.037 - Valid Loss 7.379 - Valid accuracy 0.024\n",
            "Epoch: 26/100 - Train loss 7.361 - Train accuracy 0.042 - Valid Loss 7.381 - Valid accuracy 0.022\n",
            "Epoch: 27/100 - Train loss 7.362 - Train accuracy 0.040 - Valid Loss 7.373 - Valid accuracy 0.030\n",
            "Epoch: 28/100 - Train loss 7.359 - Train accuracy 0.044 - Valid Loss 7.374 - Valid accuracy 0.028\n",
            "Epoch: 29/100 - Train loss 7.358 - Train accuracy 0.045 - Valid Loss 7.371 - Valid accuracy 0.032\n",
            "Epoch: 30/100 - Train loss 7.356 - Train accuracy 0.047 - Valid Loss 7.369 - Valid accuracy 0.034\n",
            "Epoch: 31/100 - Train loss 7.355 - Train accuracy 0.049 - Valid Loss 7.365 - Valid accuracy 0.038\n",
            "Epoch: 32/100 - Train loss 7.352 - Train accuracy 0.052 - Valid Loss 7.362 - Valid accuracy 0.042\n",
            "Epoch: 33/100 - Train loss 7.349 - Train accuracy 0.054 - Valid Loss 7.363 - Valid accuracy 0.039\n",
            "Epoch: 34/100 - Train loss 7.348 - Train accuracy 0.055 - Valid Loss 7.361 - Valid accuracy 0.041\n",
            "Epoch: 35/100 - Train loss 7.348 - Train accuracy 0.055 - Valid Loss 7.363 - Valid accuracy 0.040\n",
            "Epoch: 36/100 - Train loss 7.347 - Train accuracy 0.056 - Valid Loss 7.362 - Valid accuracy 0.041\n",
            "Epoch: 37/100 - Train loss 7.346 - Train accuracy 0.057 - Valid Loss 7.365 - Valid accuracy 0.038\n",
            "Epoch: 38/100 - Train loss 7.345 - Train accuracy 0.058 - Valid Loss 7.360 - Valid accuracy 0.042\n",
            "Epoch: 39/100 - Train loss 7.344 - Train accuracy 0.059 - Valid Loss 7.365 - Valid accuracy 0.038\n",
            "Epoch: 40/100 - Train loss 7.345 - Train accuracy 0.058 - Valid Loss 7.356 - Valid accuracy 0.047\n",
            "Epoch: 41/100 - Train loss 7.344 - Train accuracy 0.059 - Valid Loss 7.362 - Valid accuracy 0.041\n",
            "Epoch: 42/100 - Train loss 7.343 - Train accuracy 0.060 - Valid Loss 7.365 - Valid accuracy 0.038\n",
            "Epoch: 43/100 - Train loss 7.343 - Train accuracy 0.060 - Valid Loss 7.359 - Valid accuracy 0.044\n",
            "Epoch: 44/100 - Train loss 7.342 - Train accuracy 0.061 - Valid Loss 7.359 - Valid accuracy 0.044\n",
            "Epoch: 45/100 - Train loss 7.342 - Train accuracy 0.060 - Valid Loss 7.360 - Valid accuracy 0.042\n",
            "Epoch: 46/100 - Train loss 7.342 - Train accuracy 0.061 - Valid Loss 7.360 - Valid accuracy 0.043\n",
            "Epoch: 47/100 - Train loss 7.342 - Train accuracy 0.061 - Valid Loss 7.361 - Valid accuracy 0.042\n",
            "Epoch: 48/100 - Train loss 7.342 - Train accuracy 0.061 - Valid Loss 7.361 - Valid accuracy 0.042\n",
            "Epoch: 49/100 - Train loss 7.342 - Train accuracy 0.061 - Valid Loss 7.360 - Valid accuracy 0.043\n",
            "Epoch: 50/100 - Train loss 7.340 - Train accuracy 0.062 - Valid Loss 7.361 - Valid accuracy 0.042\n",
            "Epoch: 51/100 - Train loss 7.340 - Train accuracy 0.063 - Valid Loss 7.362 - Valid accuracy 0.041\n",
            "Epoch: 52/100 - Train loss 7.341 - Train accuracy 0.062 - Valid Loss 7.362 - Valid accuracy 0.041\n",
            "Epoch: 53/100 - Train loss 7.339 - Train accuracy 0.064 - Valid Loss 7.362 - Valid accuracy 0.041\n",
            "Epoch: 54/100 - Train loss 7.339 - Train accuracy 0.063 - Valid Loss 7.362 - Valid accuracy 0.041\n",
            "Epoch: 55/100 - Train loss 7.338 - Train accuracy 0.065 - Valid Loss 7.359 - Valid accuracy 0.044\n",
            "Epoch: 56/100 - Train loss 7.338 - Train accuracy 0.065 - Valid Loss 7.358 - Valid accuracy 0.045\n",
            "Epoch: 57/100 - Train loss 7.338 - Train accuracy 0.065 - Valid Loss 7.362 - Valid accuracy 0.042\n",
            "Epoch: 58/100 - Train loss 7.337 - Train accuracy 0.066 - Valid Loss 7.360 - Valid accuracy 0.043\n",
            "Epoch: 59/100 - Train loss 7.337 - Train accuracy 0.066 - Valid Loss 7.360 - Valid accuracy 0.043\n",
            "Epoch: 60/100 - Train loss 7.337 - Train accuracy 0.066 - Valid Loss 7.358 - Valid accuracy 0.045\n",
            "Epoch: 61/100 - Train loss 7.336 - Train accuracy 0.066 - Valid Loss 7.357 - Valid accuracy 0.046\n",
            "Epoch: 62/100 - Train loss 7.338 - Train accuracy 0.065 - Valid Loss 7.360 - Valid accuracy 0.043\n",
            "Epoch: 63/100 - Train loss 7.338 - Train accuracy 0.065 - Valid Loss 7.363 - Valid accuracy 0.040\n",
            "Epoch: 64/100 - Train loss 7.337 - Train accuracy 0.065 - Valid Loss 7.361 - Valid accuracy 0.043\n",
            "Epoch: 65/100 - Train loss 7.337 - Train accuracy 0.066 - Valid Loss 7.357 - Valid accuracy 0.046\n",
            "Epoch: 66/100 - Train loss 7.336 - Train accuracy 0.067 - Valid Loss 7.358 - Valid accuracy 0.045\n",
            "Epoch: 67/100 - Train loss 7.336 - Train accuracy 0.067 - Valid Loss 7.361 - Valid accuracy 0.043\n",
            "Epoch: 68/100 - Train loss 7.336 - Train accuracy 0.067 - Valid Loss 7.358 - Valid accuracy 0.045\n",
            "Epoch: 69/100 - Train loss 7.338 - Train accuracy 0.065 - Valid Loss 7.359 - Valid accuracy 0.044\n",
            "Epoch: 70/100 - Train loss 7.336 - Train accuracy 0.067 - Valid Loss 7.356 - Valid accuracy 0.047\n",
            "Epoch: 71/100 - Train loss 7.336 - Train accuracy 0.067 - Valid Loss 7.357 - Valid accuracy 0.046\n",
            "Epoch: 72/100 - Train loss 7.335 - Train accuracy 0.068 - Valid Loss 7.358 - Valid accuracy 0.045\n",
            "Epoch: 73/100 - Train loss 7.335 - Train accuracy 0.068 - Valid Loss 7.358 - Valid accuracy 0.045\n",
            "Epoch: 74/100 - Train loss 7.335 - Train accuracy 0.068 - Valid Loss 7.359 - Valid accuracy 0.044\n",
            "Epoch: 75/100 - Train loss 7.334 - Train accuracy 0.069 - Valid Loss 7.357 - Valid accuracy 0.046\n",
            "Epoch: 76/100 - Train loss 7.334 - Train accuracy 0.069 - Valid Loss 7.358 - Valid accuracy 0.045\n",
            "Epoch: 77/100 - Train loss 7.334 - Train accuracy 0.069 - Valid Loss 7.355 - Valid accuracy 0.048\n",
            "Epoch: 78/100 - Train loss 7.336 - Train accuracy 0.067 - Valid Loss 7.356 - Valid accuracy 0.047\n",
            "Epoch: 79/100 - Train loss 7.333 - Train accuracy 0.070 - Valid Loss 7.356 - Valid accuracy 0.047\n",
            "Epoch: 80/100 - Train loss 7.333 - Train accuracy 0.070 - Valid Loss 7.354 - Valid accuracy 0.048\n",
            "Epoch: 81/100 - Train loss 7.333 - Train accuracy 0.070 - Valid Loss 7.359 - Valid accuracy 0.043\n",
            "Epoch: 82/100 - Train loss 7.334 - Train accuracy 0.069 - Valid Loss 7.354 - Valid accuracy 0.049\n",
            "Epoch: 83/100 - Train loss 7.334 - Train accuracy 0.069 - Valid Loss 7.353 - Valid accuracy 0.050\n",
            "Epoch: 84/100 - Train loss 7.333 - Train accuracy 0.070 - Valid Loss 7.353 - Valid accuracy 0.050\n",
            "Epoch: 85/100 - Train loss 7.332 - Train accuracy 0.071 - Valid Loss 7.354 - Valid accuracy 0.049\n",
            "Epoch: 86/100 - Train loss 7.333 - Train accuracy 0.070 - Valid Loss 7.356 - Valid accuracy 0.047\n",
            "Epoch: 87/100 - Train loss 7.333 - Train accuracy 0.070 - Valid Loss 7.358 - Valid accuracy 0.045\n",
            "Epoch: 88/100 - Train loss 7.332 - Train accuracy 0.071 - Valid Loss 7.357 - Valid accuracy 0.046\n",
            "Epoch: 89/100 - Train loss 7.333 - Train accuracy 0.070 - Valid Loss 7.354 - Valid accuracy 0.049\n",
            "Epoch: 90/100 - Train loss 7.332 - Train accuracy 0.071 - Valid Loss 7.356 - Valid accuracy 0.047\n",
            "Epoch: 91/100 - Train loss 7.333 - Train accuracy 0.071 - Valid Loss 7.355 - Valid accuracy 0.048\n",
            "Epoch: 92/100 - Train loss 7.332 - Train accuracy 0.071 - Valid Loss 7.356 - Valid accuracy 0.047\n",
            "Epoch: 93/100 - Train loss 7.332 - Train accuracy 0.071 - Valid Loss 7.353 - Valid accuracy 0.050\n",
            "Epoch: 94/100 - Train loss 7.332 - Train accuracy 0.071 - Valid Loss 7.353 - Valid accuracy 0.050\n",
            "Epoch: 95/100 - Train loss 7.331 - Train accuracy 0.072 - Valid Loss 7.352 - Valid accuracy 0.050\n",
            "Epoch: 96/100 - Train loss 7.330 - Train accuracy 0.072 - Valid Loss 7.355 - Valid accuracy 0.048\n",
            "Epoch: 97/100 - Train loss 7.331 - Train accuracy 0.072 - Valid Loss 7.354 - Valid accuracy 0.048\n",
            "Epoch: 98/100 - Train loss 7.331 - Train accuracy 0.072 - Valid Loss 7.355 - Valid accuracy 0.048\n",
            "Epoch: 99/100 - Train loss 7.331 - Train accuracy 0.072 - Valid Loss 7.354 - Valid accuracy 0.049\n",
            "Epoch: 100/100 - Train loss 7.331 - Train accuracy 0.071 - Valid Loss 7.354 - Valid accuracy 0.050\n"
          ]
        }
      ]
    },
    {
      "cell_type": "code",
      "source": [
        "epoch_count = range(1, len(history1['accuracy']) + 1)\n",
        "sns.lineplot(x=epoch_count,  y=history1['accuracy'], label='train')\n",
        "sns.lineplot(x=epoch_count,  y=history1['val_accuracy'], label='valid')\n",
        "plt.show()"
      ],
      "metadata": {
        "colab": {
          "base_uri": "https://localhost:8080/",
          "height": 430
        },
        "id": "QH6al4DoyUWu",
        "outputId": "3404189b-b14c-4a9c-c8bc-6a11ed18d6e4"
      },
      "execution_count": 45,
      "outputs": [
        {
          "output_type": "display_data",
          "data": {
            "text/plain": [
              "<Figure size 640x480 with 1 Axes>"
            ],
            "image/png": "[encoded data removed]"
          },
          "metadata": {}
        }
      ]
    },
    {
      "cell_type": "markdown",
      "source": [
        "__Es importante__ destacar que en este ejemplo estamos entrenando nuestro propios Embeddings y para ello se requiere mucha data. En los ejemplos que realizaremos de aquí en más utilizaremos más datos, embeddings pre-enternados o modelos pre-entrenados."
      ],
      "metadata": {
        "id": "KoQLsiPu09SZ"
      }
    },
    {
      "cell_type": "markdown",
      "metadata": {
        "id": "KN6Fg_BsxJe6"
      },
      "source": [
        "### 5 - Predicción de próxima palabra"
      ]
    },
    {
      "cell_type": "code",
      "metadata": {
        "id": "iy_AXWQWzeeE"
      },
      "source": [
        "# pad_sequences\n",
        "# Si la secuencia de entrada supera al input_seq_len (3) se trunca\n",
        "# Si la secuencia es más corta se agregna ceros al comienzo"
      ],
      "execution_count": 46,
      "outputs": []
    },
    {
      "cell_type": "code",
      "metadata": {
        "id": "IBvKHFPmzpy2",
        "colab": {
          "base_uri": "https://localhost:8080/"
        },
        "outputId": "39dddb1a-a7d1-4526-a443-461b651aa249"
      },
      "source": [
        "# Se utilizará gradio para ensayar el modelo\n",
        "# Herramienta poderosa para crear interfaces rápidas para ensayar modelos\n",
        "# https://gradio.app/\n",
        "import sys\n",
        "!{sys.executable} -m pip install gradio --quiet"
      ],
      "execution_count": 47,
      "outputs": [
        {
          "output_type": "stream",
          "name": "stdout",
          "text": [
            "\u001b[2K     \u001b[90m━━━━━━━━━━━━━━━━━━━━━━━━━━━━━━━━━━━━━━━━\u001b[0m \u001b[32m20.2/20.2 MB\u001b[0m \u001b[31m40.5 MB/s\u001b[0m eta \u001b[36m0:00:00\u001b[0m\n",
            "\u001b[2K     \u001b[90m━━━━━━━━━━━━━━━━━━━━━━━━━━━━━━━━━━━━━━━━\u001b[0m \u001b[32m66.2/66.2 kB\u001b[0m \u001b[31m7.6 MB/s\u001b[0m eta \u001b[36m0:00:00\u001b[0m\n",
            "\u001b[?25h  Preparing metadata (setup.py) ... \u001b[?25l\u001b[?25hdone\n",
            "\u001b[2K     \u001b[90m━━━━━━━━━━━━━━━━━━━━━━━━━━━━━━━━━━━━━━\u001b[0m \u001b[32m298.3/298.3 kB\u001b[0m \u001b[31m33.6 MB/s\u001b[0m eta \u001b[36m0:00:00\u001b[0m\n",
            "\u001b[2K     \u001b[90m━━━━━━━━━━━━━━━━━━━━━━━━━━━━━━━━━━━━━━━━\u001b[0m \u001b[32m75.7/75.7 kB\u001b[0m \u001b[31m9.4 MB/s\u001b[0m eta \u001b[36m0:00:00\u001b[0m\n",
            "\u001b[2K     \u001b[90m━━━━━━━━━━━━━━━━━━━━━━━━━━━━━━━━━━━━━━\u001b[0m \u001b[32m295.0/295.0 kB\u001b[0m \u001b[31m32.9 MB/s\u001b[0m eta \u001b[36m0:00:00\u001b[0m\n",
            "\u001b[2K     \u001b[90m━━━━━━━━━━━━━━━━━━━━━━━━━━━━━━━━━━━━━━\u001b[0m \u001b[32m138.7/138.7 kB\u001b[0m \u001b[31m17.1 MB/s\u001b[0m eta \u001b[36m0:00:00\u001b[0m\n",
            "\u001b[2K     \u001b[90m━━━━━━━━━━━━━━━━━━━━━━━━━━━━━━━━━━━━━━━━\u001b[0m \u001b[32m45.7/45.7 kB\u001b[0m \u001b[31m5.3 MB/s\u001b[0m eta \u001b[36m0:00:00\u001b[0m\n",
            "\u001b[2K     \u001b[90m━━━━━━━━━━━━━━━━━━━━━━━━━━━━━━━━━━━━━━━━\u001b[0m \u001b[32m59.5/59.5 kB\u001b[0m \u001b[31m7.0 MB/s\u001b[0m eta \u001b[36m0:00:00\u001b[0m\n",
            "\u001b[2K     \u001b[90m━━━━━━━━━━━━━━━━━━━━━━━━━━━━━━━━━━━━━━\u001b[0m \u001b[32m129.9/129.9 kB\u001b[0m \u001b[31m13.7 MB/s\u001b[0m eta \u001b[36m0:00:00\u001b[0m\n",
            "\u001b[2K     \u001b[90m━━━━━━━━━━━━━━━━━━━━━━━━━━━━━━━━━━━━━━━━\u001b[0m \u001b[32m58.3/58.3 kB\u001b[0m \u001b[31m6.8 MB/s\u001b[0m eta \u001b[36m0:00:00\u001b[0m\n",
            "\u001b[2K     \u001b[90m━━━━━━━━━━━━━━━━━━━━━━━━━━━━━━━━━━━━━━━━\u001b[0m \u001b[32m67.0/67.0 kB\u001b[0m \u001b[31m8.5 MB/s\u001b[0m eta \u001b[36m0:00:00\u001b[0m\n",
            "\u001b[2K     \u001b[90m━━━━━━━━━━━━━━━━━━━━━━━━━━━━━━━━━━━━━━━━\u001b[0m \u001b[32m76.0/76.0 kB\u001b[0m \u001b[31m9.3 MB/s\u001b[0m eta \u001b[36m0:00:00\u001b[0m\n",
            "\u001b[?25h  Building wheel for ffmpy (setup.py) ... \u001b[?25l\u001b[?25hdone\n"
          ]
        }
      ]
    },
    {
      "cell_type": "code",
      "metadata": {
        "id": "HNyBykvhzs7-",
        "colab": {
          "base_uri": "https://localhost:8080/",
          "height": 668
        },
        "outputId": "887f8ab1-b558-47b6-d2ec-2887fefc5324"
      },
      "source": [
        "import gradio as gr\n",
        "\n",
        "def model_response(human_text):\n",
        "\n",
        "    # Encodeamos\n",
        "    encoded = tok.texts_to_sequences([human_text])[0]\n",
        "    # Si tienen distinto largo\n",
        "    encoded = pad_sequences([encoded], maxlen=3, padding='pre')\n",
        "\n",
        "    # Transformo a tensor\n",
        "    tensor = torch.from_numpy(encoded.astype(np.int32))\n",
        "\n",
        "    # Predicción softmax\n",
        "    y_hat = model1(tensor).argmax(axis=-1)\n",
        "\n",
        "    # Debemos buscar en el vocabulario la palabra\n",
        "    # que corresopnde al indice (y_hat) predicho por le modelo\n",
        "    out_word = ''\n",
        "    for word, index in tok.word_index.items():\n",
        "        if index == y_hat:\n",
        "            out_word = word\n",
        "            break\n",
        "\n",
        "    # Agrego la palabra a la frase predicha\n",
        "    return human_text + ' ' + out_word\n",
        "\n",
        "iface = gr.Interface(\n",
        "    fn=model_response,\n",
        "    inputs=[\"textbox\"],\n",
        "    outputs=\"text\",\n",
        "    layout=\"vertical\")\n",
        "\n",
        "iface.launch(debug=True)"
      ],
      "execution_count": 48,
      "outputs": [
        {
          "output_type": "stream",
          "name": "stderr",
          "text": [
            "<ipython-input-48-dd4e141a6962>:27: GradioDeprecationWarning: `layout` parameter is deprecated, and it has no effect\n",
            "  iface = gr.Interface(\n"
          ]
        },
        {
          "output_type": "stream",
          "name": "stdout",
          "text": [
            "Colab notebook detected. This cell will run indefinitely so that you can see errors and logs. To turn off, set debug=False in launch().\n",
            "Note: opening Chrome Inspector may crash demo inside Colab notebooks.\n",
            "\n",
            "To create a public link, set `share=True` in `launch()`.\n"
          ]
        },
        {
          "output_type": "display_data",
          "data": {
            "text/plain": [
              "<IPython.core.display.Javascript object>"
            ],
            "application/javascript": [
              "(async (port, path, width, height, cache, element) => {\n",
              "                        if (!google.colab.kernel.accessAllowed && !cache) {\n",
              "                            return;\n",
              "                        }\n",
              "                        element.appendChild(document.createTextNode(''));\n",
              "                        const url = await google.colab.kernel.proxyPort(port, {cache});\n",
              "\n",
              "                        const external_link = document.createElement('div');\n",
              "                        external_link.innerHTML = `\n",
              "                            <div style=\"font-family: monospace; margin-bottom: 0.5rem\">\n",
              "                                Running on <a href=${new URL(path, url).toString()} target=\"_blank\">\n",
              "                                    https://localhost:${port}${path}\n",
              "                                </a>\n",
              "                            </div>\n",
              "                        `;\n",
              "                        element.appendChild(external_link);\n",
              "\n",
              "                        const iframe = document.createElement('iframe');\n",
              "                        iframe.src = new URL(path, url).toString();\n",
              "                        iframe.height = height;\n",
              "                        iframe.allow = \"autoplay; camera; microphone; clipboard-read; clipboard-write;\"\n",
              "                        iframe.width = width;\n",
              "                        iframe.style.border = 0;\n",
              "                        element.appendChild(iframe);\n",
              "                    })(7860, \"/\", \"100%\", 500, false, window.element)"
            ]
          },
          "metadata": {}
        },
        {
          "output_type": "stream",
          "name": "stdout",
          "text": [
            "Keyboard interruption in main thread... closing server.\n"
          ]
        },
        {
          "output_type": "execute_result",
          "data": {
            "text/plain": []
          },
          "metadata": {},
          "execution_count": 48
        }
      ]
    },
    {
      "cell_type": "markdown",
      "metadata": {
        "id": "mCeMWWupxN1-"
      },
      "source": [
        "### 6 - Generación de secuencias nuevas"
      ]
    },
    {
      "cell_type": "code",
      "metadata": {
        "id": "bwbS_pfhxvB3"
      },
      "source": [
        "def generate_seq(model, tokenizer, seed_text, max_length, n_words):\n",
        "    \"\"\"\n",
        "        Exec model sequence prediction\n",
        "\n",
        "        Args:\n",
        "            model (keras): modelo entrenado\n",
        "            tokenizer (keras tokenizer): tonenizer utilizado en el preprocesamiento\n",
        "            seed_text (string): texto de entrada (input_seq)\n",
        "            max_length (int): máxima longitud de la sequencia de entrada\n",
        "            n_words (int): números de palabras a agregar a la sequencia de entrada\n",
        "        returns:\n",
        "            output_text (string): sentencia con las \"n_words\" agregadas\n",
        "    \"\"\"\n",
        "    output_text = seed_text\n",
        "\t# generate a fixed number of words\n",
        "    for _ in range(n_words):\n",
        "\t\t# Encodeamos\n",
        "        encoded = tokenizer.texts_to_sequences([output_text])[0]\n",
        "\t\t# Si tienen distinto largo\n",
        "        encoded = pad_sequences([encoded], maxlen=max_length, padding='pre')\n",
        "\n",
        "        # Transformo a tensor\n",
        "        tensor = torch.from_numpy(encoded.astype(np.int32))\n",
        "\n",
        "        # Predicción softmax\n",
        "        y_hat = model1(tensor).argmax(axis=-1)\n",
        "\n",
        "\t\t# Vamos concatenando las predicciones\n",
        "        out_word = ''\n",
        "\n",
        "        # Debemos buscar en el vocabulario la palabra\n",
        "        # que corresopnde al indice (y_hat) predicho por le modelo\n",
        "        for word, index in tokenizer.word_index.items():\n",
        "            if index == y_hat:\n",
        "                out_word = word\n",
        "                break\n",
        "\n",
        "\t\t# Agrego las palabras a la frase predicha\n",
        "        output_text += ' ' + out_word\n",
        "    return output_text"
      ],
      "execution_count": 49,
      "outputs": []
    },
    {
      "cell_type": "code",
      "metadata": {
        "id": "JoFqRC5pxzqS",
        "colab": {
          "base_uri": "https://localhost:8080/"
        },
        "outputId": "a65475e3-6a71-4927-be97-1a6c96a1fec4"
      },
      "source": [
        "input_text=[\"I am the\",\"I wanna love\",\"Every day and\",\"bob marley is\",\"I want to\",\"Sun is\",\"Could you be\"]\n",
        "\n",
        "for text in input_text:\n",
        "  print(f\"prediction: {generate_seq(model1, tok, text, max_length=3, n_words=1)}\")\n",
        "#generate_seq(model1, tok, input_text, max_length=3, n_words=2)"
      ],
      "execution_count": 85,
      "outputs": [
        {
          "output_type": "stream",
          "name": "stdout",
          "text": [
            "prediction: I am the you\n",
            "prediction: I wanna love you\n",
            "prediction: Every day and the\n",
            "prediction: bob marley is the\n",
            "prediction: I want to the\n",
            "prediction: Sun is \n",
            "prediction: Could you be the\n"
          ]
        }
      ]
    },
    {
      "cell_type": "markdown",
      "metadata": {
        "id": "T2SHmXbgxQH9"
      },
      "source": [
        "### 7 - Conclusiones\n",
        "El modelo entrenado tuvo un muy mail desempeño en el entrenamiento además de overfitting. Cuestiones que podrían mejorarse:\n",
        "- Agregar más capas o neuronaes\n",
        "- Incrementar la cantidad de épocas\n",
        "- Agregar BRNN\n",
        "\n",
        "Es importante destacar que en este ejemplo estamos entrenando nuestro propios Embeddings, y para ello se requiere mucha data. En los ejemplos que realizaremos de aquí en más utilizaremos más datos, embeddings pre-enternados o modelos pre-entrenados."
      ]
    },
    {
      "cell_type": "markdown",
      "source": [
        "Lo que puedo concluir luego de estas pruebas de predicción es que solo elige palabras que se utilizan todo el tiempo en el inglés (you, the) y no le da ningún tipo de relevancia a la predicción, y hay muchas predicciones que no tienen sentido semántico (I am the you) por ejemplo."
      ],
      "metadata": {
        "id": "xlxJRmM06qwW"
      }
    }
  ]
}