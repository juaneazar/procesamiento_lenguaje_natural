{
  "cells": [
    {
      "cell_type": "markdown",
      "metadata": {
        "id": "sZd5yLnnHOK0"
      },
      "source": [
        "<img src=\"https://github.com/hernancontigiani/ceia_memorias_especializacion/raw/master/Figures/logoFIUBA.jpg\" width=\"500\" align=\"center\">\n",
        "\n",
        "\n",
        "# Procesamiento de lenguaje natural\n",
        "## Custom embedddings con Gensim\n",
        "\n"
      ]
    },
    {
      "cell_type": "markdown",
      "metadata": {
        "id": "vA7nqkumo9z9"
      },
      "source": [
        "### Objetivo\n",
        "El objetivo es utilizar documentos / corpus para crear embeddings de palabras basado en ese contexto. Se utilizará canciones de bandas para generar los embeddings, es decir, que los vectores tendrán la forma en función de como esa banda haya utilizado las palabras en sus canciones."
      ]
    },
    {
      "cell_type": "code",
      "execution_count": 2,
      "metadata": {
        "id": "lFToQs5FK5uZ"
      },
      "outputs": [],
      "source": [
        "import pandas as pd\n",
        "import matplotlib.pyplot as plt\n",
        "import seaborn as sns\n",
        "\n",
        "import multiprocessing\n",
        "from gensim.models import Word2Vec"
      ]
    },
    {
      "cell_type": "markdown",
      "metadata": {
        "id": "g07zJxG7H9vG"
      },
      "source": [
        "### Datos\n",
        "Utilizaremos como dataset canciones de bandas de habla inglesa."
      ]
    },
    {
      "cell_type": "code",
      "execution_count": 3,
      "metadata": {
        "id": "l7z4CSBfpR3X",
        "colab": {
          "base_uri": "https://localhost:8080/"
        },
        "outputId": "f5574d6e-c800-450d-c949-3d7d66482ec6"
      },
      "outputs": [
        {
          "output_type": "stream",
          "name": "stdout",
          "text": [
            "--2023-09-20 20:28:22--  http://songs_dataset.zip/\n",
            "Resolving songs_dataset.zip (songs_dataset.zip)... failed: Name or service not known.\n",
            "wget: unable to resolve host address ‘songs_dataset.zip’\n",
            "--2023-09-20 20:28:22--  https://github.com/FIUBA-Posgrado-Inteligencia-Artificial/procesamiento_lenguaje_natural/raw/main/datasets/songs_dataset.zip\n",
            "Resolving github.com (github.com)... 140.82.112.3\n",
            "Connecting to github.com (github.com)|140.82.112.3|:443... connected.\n",
            "HTTP request sent, awaiting response... 302 Found\n",
            "Location: https://raw.githubusercontent.com/FIUBA-Posgrado-Inteligencia-Artificial/procesamiento_lenguaje_natural/main/datasets/songs_dataset.zip [following]\n",
            "--2023-09-20 20:28:23--  https://raw.githubusercontent.com/FIUBA-Posgrado-Inteligencia-Artificial/procesamiento_lenguaje_natural/main/datasets/songs_dataset.zip\n",
            "Resolving raw.githubusercontent.com (raw.githubusercontent.com)... 185.199.109.133, 185.199.108.133, 185.199.110.133, ...\n",
            "Connecting to raw.githubusercontent.com (raw.githubusercontent.com)|185.199.109.133|:443... connected.\n",
            "HTTP request sent, awaiting response... 200 OK\n",
            "Length: 2075036 (2.0M) [application/zip]\n",
            "Saving to: ‘songs_dataset.zip’\n",
            "\n",
            "songs_dataset.zip   100%[===================>]   1.98M  --.-KB/s    in 0.05s   \n",
            "\n",
            "2023-09-20 20:28:23 (36.0 MB/s) - ‘songs_dataset.zip’ saved [2075036/2075036]\n",
            "\n",
            "FINISHED --2023-09-20 20:28:23--\n",
            "Total wall clock time: 1.1s\n",
            "Downloaded: 1 files, 2.0M in 0.05s (36.0 MB/s)\n"
          ]
        }
      ],
      "source": [
        "# Descargar la carpeta de dataset\n",
        "import os\n",
        "import platform\n",
        "if os.access('./songs_dataset', os.F_OK) is False:\n",
        "    if os.access('songs_dataset.zip', os.F_OK) is False:\n",
        "        if platform.system() == 'Windows':\n",
        "            !curl https://raw.githubusercontent.com/FIUBA-Posgrado-Inteligencia-Artificial/procesamiento_lenguaje_natural/main/datasets/songs_dataset.zip -o songs_dataset.zip\n",
        "        else:\n",
        "            !wget songs_dataset.zip https://github.com/FIUBA-Posgrado-Inteligencia-Artificial/procesamiento_lenguaje_natural/raw/main/datasets/songs_dataset.zip\n",
        "    !unzip -q songs_dataset.zip\n",
        "else:\n",
        "    print(\"El dataset ya se encuentra descargado\")"
      ]
    },
    {
      "cell_type": "code",
      "execution_count": 4,
      "metadata": {
        "id": "mysGrIw9ljC2",
        "colab": {
          "base_uri": "https://localhost:8080/"
        },
        "outputId": "d399c437-4629-49ac-bb3c-631b2b911866"
      },
      "outputs": [
        {
          "output_type": "execute_result",
          "data": {
            "text/plain": [
              "['Kanye_West.txt',\n",
              " 'bob-marley.txt',\n",
              " 'bruce-springsteen.txt',\n",
              " 'lorde.txt',\n",
              " 'radiohead.txt',\n",
              " 'nirvana.txt',\n",
              " 'al-green.txt',\n",
              " 'beatles.txt',\n",
              " 'alicia-keys.txt',\n",
              " 'adele.txt',\n",
              " 'joni-mitchell.txt',\n",
              " 'drake.txt',\n",
              " 'notorious-big.txt',\n",
              " 'notorious_big.txt',\n",
              " 'michael-jackson.txt',\n",
              " 'r-kelly.txt',\n",
              " 'jimi-hendrix.txt',\n",
              " 'bieber.txt',\n",
              " 'Lil_Wayne.txt',\n",
              " 'ludacris.txt',\n",
              " 'dr-seuss.txt',\n",
              " 'kanye-west.txt',\n",
              " 'nursery_rhymes.txt',\n",
              " 'eminem.txt',\n",
              " 'lin-manuel-miranda.txt',\n",
              " 'bob-dylan.txt',\n",
              " 'janisjoplin.txt',\n",
              " 'nickelback.txt',\n",
              " 'bjork.txt',\n",
              " 'missy-elliott.txt',\n",
              " 'nicki-minaj.txt',\n",
              " 'paul-simon.txt',\n",
              " 'kanye.txt',\n",
              " 'blink-182.txt',\n",
              " 'dj-khaled.txt',\n",
              " 'britney-spears.txt',\n",
              " 'bruno-mars.txt',\n",
              " 'rihanna.txt',\n",
              " 'johnny-cash.txt',\n",
              " 'lady-gaga.txt',\n",
              " 'lil-wayne.txt',\n",
              " 'cake.txt',\n",
              " 'prince.txt',\n",
              " 'amy-winehouse.txt',\n",
              " 'patti-smith.txt',\n",
              " 'disney.txt',\n",
              " 'leonard-cohen.txt',\n",
              " 'dickinson.txt',\n",
              " 'dolly-parton.txt']"
            ]
          },
          "metadata": {},
          "execution_count": 4
        }
      ],
      "source": [
        "# Posibles bandas\n",
        "os.listdir(\"./songs_dataset/\")"
      ]
    },
    {
      "cell_type": "code",
      "execution_count": 5,
      "metadata": {
        "id": "ticoqYD1Z3I7",
        "colab": {
          "base_uri": "https://localhost:8080/",
          "height": 261
        },
        "outputId": "9b048846-bdbe-44f7-d004-48dfb17fd40f"
      },
      "outputs": [
        {
          "output_type": "stream",
          "name": "stderr",
          "text": [
            "<ipython-input-5-89d9bc44a57b>:2: ParserWarning: Falling back to the 'python' engine because the 'c' engine does not support regex separators (separators > 1 char and different from '\\s+' are interpreted as regex); you can avoid this warning by specifying engine='python'.\n",
            "  df = pd.read_csv('songs_dataset/bob-marley.txt', sep='/n', header=None)\n"
          ]
        },
        {
          "output_type": "execute_result",
          "data": {
            "text/plain": [
              "                                                   0\n",
              "0                        \"Don't worry about a thing,\n",
              "1      'Cause every little thing gonna be all right.\n",
              "2               Singin': \"Don't worry about a thing,\n",
              "3  'Cause every little thing gonna be all right!\"...\n",
              "4                        Smiled with the risin' sun,"
            ],
            "text/html": [
              "\n",
              "  <div id=\"df-693b9ec5-afd7-40da-8241-3d1889bf5f89\" class=\"colab-df-container\">\n",
              "    <div>\n",
              "<style scoped>\n",
              "    .dataframe tbody tr th:only-of-type {\n",
              "        vertical-align: middle;\n",
              "    }\n",
              "\n",
              "    .dataframe tbody tr th {\n",
              "        vertical-align: top;\n",
              "    }\n",
              "\n",
              "    .dataframe thead th {\n",
              "        text-align: right;\n",
              "    }\n",
              "</style>\n",
              "<table border=\"1\" class=\"dataframe\">\n",
              "  <thead>\n",
              "    <tr style=\"text-align: right;\">\n",
              "      <th></th>\n",
              "      <th>0</th>\n",
              "    </tr>\n",
              "  </thead>\n",
              "  <tbody>\n",
              "    <tr>\n",
              "      <th>0</th>\n",
              "      <td>\"Don't worry about a thing,</td>\n",
              "    </tr>\n",
              "    <tr>\n",
              "      <th>1</th>\n",
              "      <td>'Cause every little thing gonna be all right.</td>\n",
              "    </tr>\n",
              "    <tr>\n",
              "      <th>2</th>\n",
              "      <td>Singin': \"Don't worry about a thing,</td>\n",
              "    </tr>\n",
              "    <tr>\n",
              "      <th>3</th>\n",
              "      <td>'Cause every little thing gonna be all right!\"...</td>\n",
              "    </tr>\n",
              "    <tr>\n",
              "      <th>4</th>\n",
              "      <td>Smiled with the risin' sun,</td>\n",
              "    </tr>\n",
              "  </tbody>\n",
              "</table>\n",
              "</div>\n",
              "    <div class=\"colab-df-buttons\">\n",
              "\n",
              "  <div class=\"colab-df-container\">\n",
              "    <button class=\"colab-df-convert\" onclick=\"convertToInteractive('df-693b9ec5-afd7-40da-8241-3d1889bf5f89')\"\n",
              "            title=\"Convert this dataframe to an interactive table.\"\n",
              "            style=\"display:none;\">\n",
              "\n",
              "  <svg xmlns=\"http://www.w3.org/2000/svg\" height=\"24px\" viewBox=\"0 -960 960 960\">\n",
              "    <path d=\"M120-120v-720h720v720H120Zm60-500h600v-160H180v160Zm220 220h160v-160H400v160Zm0 220h160v-160H400v160ZM180-400h160v-160H180v160Zm440 0h160v-160H620v160ZM180-180h160v-160H180v160Zm440 0h160v-160H620v160Z\"/>\n",
              "  </svg>\n",
              "    </button>\n",
              "\n",
              "  <style>\n",
              "    .colab-df-container {\n",
              "      display:flex;\n",
              "      gap: 12px;\n",
              "    }\n",
              "\n",
              "    .colab-df-convert {\n",
              "      background-color: #E8F0FE;\n",
              "      border: none;\n",
              "      border-radius: 50%;\n",
              "      cursor: pointer;\n",
              "      display: none;\n",
              "      fill: #1967D2;\n",
              "      height: 32px;\n",
              "      padding: 0 0 0 0;\n",
              "      width: 32px;\n",
              "    }\n",
              "\n",
              "    .colab-df-convert:hover {\n",
              "      background-color: #E2EBFA;\n",
              "      box-shadow: 0px 1px 2px rgba(60, 64, 67, 0.3), 0px 1px 3px 1px rgba(60, 64, 67, 0.15);\n",
              "      fill: #174EA6;\n",
              "    }\n",
              "\n",
              "    .colab-df-buttons div {\n",
              "      margin-bottom: 4px;\n",
              "    }\n",
              "\n",
              "    [theme=dark] .colab-df-convert {\n",
              "      background-color: #3B4455;\n",
              "      fill: #D2E3FC;\n",
              "    }\n",
              "\n",
              "    [theme=dark] .colab-df-convert:hover {\n",
              "      background-color: #434B5C;\n",
              "      box-shadow: 0px 1px 3px 1px rgba(0, 0, 0, 0.15);\n",
              "      filter: drop-shadow(0px 1px 2px rgba(0, 0, 0, 0.3));\n",
              "      fill: #FFFFFF;\n",
              "    }\n",
              "  </style>\n",
              "\n",
              "    <script>\n",
              "      const buttonEl =\n",
              "        document.querySelector('#df-693b9ec5-afd7-40da-8241-3d1889bf5f89 button.colab-df-convert');\n",
              "      buttonEl.style.display =\n",
              "        google.colab.kernel.accessAllowed ? 'block' : 'none';\n",
              "\n",
              "      async function convertToInteractive(key) {\n",
              "        const element = document.querySelector('#df-693b9ec5-afd7-40da-8241-3d1889bf5f89');\n",
              "        const dataTable =\n",
              "          await google.colab.kernel.invokeFunction('convertToInteractive',\n",
              "                                                    [key], {});\n",
              "        if (!dataTable) return;\n",
              "\n",
              "        const docLinkHtml = 'Like what you see? Visit the ' +\n",
              "          '<a target=\"_blank\" href=https://colab.research.google.com/notebooks/data_table.ipynb>data table notebook</a>'\n",
              "          + ' to learn more about interactive tables.';\n",
              "        element.innerHTML = '';\n",
              "        dataTable['output_type'] = 'display_data';\n",
              "        await google.colab.output.renderOutput(dataTable, element);\n",
              "        const docLink = document.createElement('div');\n",
              "        docLink.innerHTML = docLinkHtml;\n",
              "        element.appendChild(docLink);\n",
              "      }\n",
              "    </script>\n",
              "  </div>\n",
              "\n",
              "\n",
              "<div id=\"df-0efb8ee0-c525-48ed-ba69-0b964edffb25\">\n",
              "  <button class=\"colab-df-quickchart\" onclick=\"quickchart('df-0efb8ee0-c525-48ed-ba69-0b964edffb25')\"\n",
              "            title=\"Suggest charts.\"\n",
              "            style=\"display:none;\">\n",
              "\n",
              "<svg xmlns=\"http://www.w3.org/2000/svg\" height=\"24px\"viewBox=\"0 0 24 24\"\n",
              "     width=\"24px\">\n",
              "    <g>\n",
              "        <path d=\"M19 3H5c-1.1 0-2 .9-2 2v14c0 1.1.9 2 2 2h14c1.1 0 2-.9 2-2V5c0-1.1-.9-2-2-2zM9 17H7v-7h2v7zm4 0h-2V7h2v10zm4 0h-2v-4h2v4z\"/>\n",
              "    </g>\n",
              "</svg>\n",
              "  </button>\n",
              "\n",
              "<style>\n",
              "  .colab-df-quickchart {\n",
              "      --bg-color: #E8F0FE;\n",
              "      --fill-color: #1967D2;\n",
              "      --hover-bg-color: #E2EBFA;\n",
              "      --hover-fill-color: #174EA6;\n",
              "      --disabled-fill-color: #AAA;\n",
              "      --disabled-bg-color: #DDD;\n",
              "  }\n",
              "\n",
              "  [theme=dark] .colab-df-quickchart {\n",
              "      --bg-color: #3B4455;\n",
              "      --fill-color: #D2E3FC;\n",
              "      --hover-bg-color: #434B5C;\n",
              "      --hover-fill-color: #FFFFFF;\n",
              "      --disabled-bg-color: #3B4455;\n",
              "      --disabled-fill-color: #666;\n",
              "  }\n",
              "\n",
              "  .colab-df-quickchart {\n",
              "    background-color: var(--bg-color);\n",
              "    border: none;\n",
              "    border-radius: 50%;\n",
              "    cursor: pointer;\n",
              "    display: none;\n",
              "    fill: var(--fill-color);\n",
              "    height: 32px;\n",
              "    padding: 0;\n",
              "    width: 32px;\n",
              "  }\n",
              "\n",
              "  .colab-df-quickchart:hover {\n",
              "    background-color: var(--hover-bg-color);\n",
              "    box-shadow: 0 1px 2px rgba(60, 64, 67, 0.3), 0 1px 3px 1px rgba(60, 64, 67, 0.15);\n",
              "    fill: var(--button-hover-fill-color);\n",
              "  }\n",
              "\n",
              "  .colab-df-quickchart-complete:disabled,\n",
              "  .colab-df-quickchart-complete:disabled:hover {\n",
              "    background-color: var(--disabled-bg-color);\n",
              "    fill: var(--disabled-fill-color);\n",
              "    box-shadow: none;\n",
              "  }\n",
              "\n",
              "  .colab-df-spinner {\n",
              "    border: 2px solid var(--fill-color);\n",
              "    border-color: transparent;\n",
              "    border-bottom-color: var(--fill-color);\n",
              "    animation:\n",
              "      spin 1s steps(1) infinite;\n",
              "  }\n",
              "\n",
              "  @keyframes spin {\n",
              "    0% {\n",
              "      border-color: transparent;\n",
              "      border-bottom-color: var(--fill-color);\n",
              "      border-left-color: var(--fill-color);\n",
              "    }\n",
              "    20% {\n",
              "      border-color: transparent;\n",
              "      border-left-color: var(--fill-color);\n",
              "      border-top-color: var(--fill-color);\n",
              "    }\n",
              "    30% {\n",
              "      border-color: transparent;\n",
              "      border-left-color: var(--fill-color);\n",
              "      border-top-color: var(--fill-color);\n",
              "      border-right-color: var(--fill-color);\n",
              "    }\n",
              "    40% {\n",
              "      border-color: transparent;\n",
              "      border-right-color: var(--fill-color);\n",
              "      border-top-color: var(--fill-color);\n",
              "    }\n",
              "    60% {\n",
              "      border-color: transparent;\n",
              "      border-right-color: var(--fill-color);\n",
              "    }\n",
              "    80% {\n",
              "      border-color: transparent;\n",
              "      border-right-color: var(--fill-color);\n",
              "      border-bottom-color: var(--fill-color);\n",
              "    }\n",
              "    90% {\n",
              "      border-color: transparent;\n",
              "      border-bottom-color: var(--fill-color);\n",
              "    }\n",
              "  }\n",
              "</style>\n",
              "\n",
              "  <script>\n",
              "    async function quickchart(key) {\n",
              "      const quickchartButtonEl =\n",
              "        document.querySelector('#' + key + ' button');\n",
              "      quickchartButtonEl.disabled = true;  // To prevent multiple clicks.\n",
              "      quickchartButtonEl.classList.add('colab-df-spinner');\n",
              "      try {\n",
              "        const charts = await google.colab.kernel.invokeFunction(\n",
              "            'suggestCharts', [key], {});\n",
              "      } catch (error) {\n",
              "        console.error('Error during call to suggestCharts:', error);\n",
              "      }\n",
              "      quickchartButtonEl.classList.remove('colab-df-spinner');\n",
              "      quickchartButtonEl.classList.add('colab-df-quickchart-complete');\n",
              "    }\n",
              "    (() => {\n",
              "      let quickchartButtonEl =\n",
              "        document.querySelector('#df-0efb8ee0-c525-48ed-ba69-0b964edffb25 button');\n",
              "      quickchartButtonEl.style.display =\n",
              "        google.colab.kernel.accessAllowed ? 'block' : 'none';\n",
              "    })();\n",
              "  </script>\n",
              "</div>\n",
              "    </div>\n",
              "  </div>\n"
            ]
          },
          "metadata": {},
          "execution_count": 5
        }
      ],
      "source": [
        "# Armar el dataset utilizando salto de línea para separar las oraciones/docs\n",
        "df = pd.read_csv('songs_dataset/bob-marley.txt', sep='/n', header=None)\n",
        "df.head()"
      ]
    },
    {
      "cell_type": "code",
      "execution_count": 6,
      "metadata": {
        "id": "LEpKubK9XzXN",
        "colab": {
          "base_uri": "https://localhost:8080/"
        },
        "outputId": "b96ef42d-dd72-4b6c-e9bc-10f201b122b6"
      },
      "outputs": [
        {
          "output_type": "stream",
          "name": "stdout",
          "text": [
            "Cantidad de documentos: 2218\n"
          ]
        }
      ],
      "source": [
        "print(\"Cantidad de documentos:\", df.shape[0])"
      ]
    },
    {
      "cell_type": "markdown",
      "metadata": {
        "id": "ab94qaFlrA1G"
      },
      "source": [
        "### 1 - Preprocesamiento"
      ]
    },
    {
      "cell_type": "code",
      "execution_count": 7,
      "metadata": {
        "id": "rIsmMWmjrDHd"
      },
      "outputs": [],
      "source": [
        "from keras.preprocessing.text import text_to_word_sequence\n",
        "\n",
        "sentence_tokens = []\n",
        "# Recorrer todas las filas y transformar las oraciones\n",
        "# en una secuencia de palabras (esto podría realizarse con NLTK o spaCy también)\n",
        "for _, row in df[:None].iterrows():\n",
        "    sentence_tokens.append(text_to_word_sequence(row[0]))"
      ]
    },
    {
      "cell_type": "code",
      "execution_count": 8,
      "metadata": {
        "id": "CHepi_DGrbhq",
        "colab": {
          "base_uri": "https://localhost:8080/"
        },
        "outputId": "c586dc00-2e39-4564-b24d-d3760a2f56fa"
      },
      "outputs": [
        {
          "output_type": "execute_result",
          "data": {
            "text/plain": [
              "[[\"don't\", 'worry', 'about', 'a', 'thing'],\n",
              " [\"'cause\", 'every', 'little', 'thing', 'gonna', 'be', 'all', 'right']]"
            ]
          },
          "metadata": {},
          "execution_count": 8
        }
      ],
      "source": [
        "# Demos un vistazo\n",
        "sentence_tokens[:2]"
      ]
    },
    {
      "cell_type": "markdown",
      "metadata": {
        "id": "BaXV6nlHr5Aa"
      },
      "source": [
        "### 2 - Crear los vectores (word2vec)"
      ]
    },
    {
      "cell_type": "code",
      "execution_count": 9,
      "metadata": {
        "id": "OSb0v7h8r7hK"
      },
      "outputs": [],
      "source": [
        "from gensim.models.callbacks import CallbackAny2Vec\n",
        "# Durante el entrenamiento gensim por defecto no informa el \"loss\" en cada época\n",
        "# Sobrecargamos el callback para poder tener esta información\n",
        "class callback(CallbackAny2Vec):\n",
        "    \"\"\"\n",
        "    Callback to print loss after each epoch\n",
        "    \"\"\"\n",
        "    def __init__(self):\n",
        "        self.epoch = 0\n",
        "\n",
        "    def on_epoch_end(self, model):\n",
        "        loss = model.get_latest_training_loss()\n",
        "        if self.epoch == 0:\n",
        "            print('Loss after epoch {}: {}'.format(self.epoch, loss))\n",
        "        else:\n",
        "            print('Loss after epoch {}: {}'.format(self.epoch, loss- self.loss_previous_step))\n",
        "        self.epoch += 1\n",
        "        self.loss_previous_step = loss"
      ]
    },
    {
      "cell_type": "code",
      "execution_count": 10,
      "metadata": {
        "id": "i0wnDdv9sJ47"
      },
      "outputs": [],
      "source": [
        "# Crearmos el modelo generador de vectores\n",
        "# En este caso utilizaremos la estructura modelo Skipgram\n",
        "w2v_model = Word2Vec(min_count=5,    # frecuencia mínima de palabra para incluirla en el vocabulario\n",
        "                     window=2,       # cant de palabras antes y desp de la predicha\n",
        "                     vector_size=300,       # dimensionalidad de los vectores\n",
        "                     negative=20,    # cantidad de negative samples... 0 es no se usa\n",
        "                     workers=1,      # si tienen más cores pueden cambiar este valor\n",
        "                     sg=1)           # modelo 0:CBOW  1:skipgram"
      ]
    },
    {
      "cell_type": "code",
      "execution_count": 11,
      "metadata": {
        "id": "5lTt8wErsf17"
      },
      "outputs": [],
      "source": [
        "# Obtener el vocabulario con los tokens\n",
        "w2v_model.build_vocab(sentence_tokens)"
      ]
    },
    {
      "cell_type": "code",
      "execution_count": 12,
      "metadata": {
        "id": "TNc9qt4os5AT",
        "colab": {
          "base_uri": "https://localhost:8080/"
        },
        "outputId": "1b905291-6121-4e59-ad21-264bdf640696"
      },
      "outputs": [
        {
          "output_type": "stream",
          "name": "stdout",
          "text": [
            "Cantidad de docs en el corpus: 2218\n"
          ]
        }
      ],
      "source": [
        "# Cantidad de filas/docs encontradas en el corpus\n",
        "print(\"Cantidad de docs en el corpus:\", w2v_model.corpus_count)"
      ]
    },
    {
      "cell_type": "code",
      "execution_count": 13,
      "metadata": {
        "id": "idw9cHF3tSMl",
        "colab": {
          "base_uri": "https://localhost:8080/"
        },
        "outputId": "622a27ee-92c2-4d67-95d8-96bb1a12c875"
      },
      "outputs": [
        {
          "output_type": "stream",
          "name": "stdout",
          "text": [
            "Cantidad de words distintas en el corpus: 532\n"
          ]
        }
      ],
      "source": [
        "# Cantidad de words encontradas en el corpus\n",
        "print(\"Cantidad de words distintas en el corpus:\", len(w2v_model.wv.index_to_key))"
      ]
    },
    {
      "cell_type": "markdown",
      "metadata": {
        "id": "fC9mZ8DPk-UC"
      },
      "source": [
        "### 3 - Entrenar el modelo generador"
      ]
    },
    {
      "cell_type": "code",
      "execution_count": 14,
      "metadata": {
        "id": "QSp-x0PAsq56",
        "colab": {
          "base_uri": "https://localhost:8080/"
        },
        "outputId": "74552c92-7d7c-4796-b298-fc206910bec4"
      },
      "outputs": [
        {
          "output_type": "stream",
          "name": "stdout",
          "text": [
            "Loss after epoch 0: 150638.921875\n",
            "Loss after epoch 1: 93187.125\n",
            "Loss after epoch 2: 92462.078125\n",
            "Loss after epoch 3: 92596.03125\n",
            "Loss after epoch 4: 92077.78125\n",
            "Loss after epoch 5: 88974.1875\n",
            "Loss after epoch 6: 82641.75\n",
            "Loss after epoch 7: 79397.0\n",
            "Loss after epoch 8: 75730.625\n",
            "Loss after epoch 9: 72150.9375\n",
            "Loss after epoch 10: 70748.375\n",
            "Loss after epoch 11: 68126.9375\n",
            "Loss after epoch 12: 62096.0\n",
            "Loss after epoch 13: 60407.375\n",
            "Loss after epoch 14: 60351.625\n",
            "Loss after epoch 15: 60054.5\n",
            "Loss after epoch 16: 58789.375\n",
            "Loss after epoch 17: 58724.0\n",
            "Loss after epoch 18: 58439.25\n",
            "Loss after epoch 19: 57414.25\n"
          ]
        },
        {
          "output_type": "execute_result",
          "data": {
            "text/plain": [
              "(218093, 359260)"
            ]
          },
          "metadata": {},
          "execution_count": 14
        }
      ],
      "source": [
        "# Entrenamos el modelo generador de vectores\n",
        "# Utilizamos nuestro callback\n",
        "w2v_model.train(sentence_tokens,\n",
        "                 total_examples=w2v_model.corpus_count,\n",
        "                 epochs=20,\n",
        "                 compute_loss = True,\n",
        "                 callbacks=[callback()]\n",
        "                 )"
      ]
    },
    {
      "cell_type": "markdown",
      "metadata": {
        "id": "ddT9NVuNlCAe"
      },
      "source": [
        "### 4 - Ensayar"
      ]
    },
    {
      "cell_type": "code",
      "execution_count": 19,
      "metadata": {
        "id": "6cHN9xGLuPEm",
        "colab": {
          "base_uri": "https://localhost:8080/"
        },
        "outputId": "f0a86315-9267-4e84-fb86-e0999d51b4fc"
      },
      "outputs": [
        {
          "output_type": "execute_result",
          "data": {
            "text/plain": [
              "[('given', 0.8143353462219238),\n",
              " ('protect', 0.8042460083961487),\n",
              " (\"you've\", 0.8037887811660767),\n",
              " ('nobody', 0.8014757633209229),\n",
              " (\"feelin'\", 0.7951468825340271),\n",
              " ('really', 0.7939077615737915),\n",
              " ('ask', 0.7758776545524597),\n",
              " ('message', 0.7723156809806824),\n",
              " ('mean', 0.7716444134712219),\n",
              " ('survive', 0.7477133870124817)]"
            ]
          },
          "metadata": {},
          "execution_count": 19
        }
      ],
      "source": [
        "# Palabras que MÁS se relacionan con...:\n",
        "w2v_model.wv.most_similar(positive=[\"love\"], topn=10)"
      ]
    },
    {
      "cell_type": "code",
      "execution_count": 23,
      "metadata": {
        "id": "47HiU5gdkdMq",
        "colab": {
          "base_uri": "https://localhost:8080/"
        },
        "outputId": "baa32201-ee41-4e44-9be6-6d71ddf0777e"
      },
      "outputs": [
        {
          "output_type": "execute_result",
          "data": {
            "text/plain": [
              "[('walk', -0.19966642558574677),\n",
              " ('ganja', -0.20876391232013702),\n",
              " ('paradise', -0.2094326764345169),\n",
              " (\"pimper's\", -0.21143466234207153),\n",
              " ('a', -0.22156809270381927),\n",
              " (\"that's\", -0.22306372225284576),\n",
              " (\"'ypocrites\", -0.22687889635562897),\n",
              " (\"'pon\", -0.2317732721567154),\n",
              " (\"smoke'a\", -0.2357722669839859),\n",
              " ('oo', -0.23827940225601196)]"
            ]
          },
          "metadata": {},
          "execution_count": 23
        }
      ],
      "source": [
        "# Palabras que MENOS se relacionan con...:\n",
        "w2v_model.wv.most_similar(negative=[\"love\"], topn=10)"
      ]
    },
    {
      "cell_type": "markdown",
      "source": [
        "Con la palabra \"love\", lo que sucede es que las mayores coincidencias son con palabras que se nombran en frases, o se utilizan en oraciones.\n",
        "Sucede lo contrario con las que menos se relacionan, son palabras que no tienen sentido utilizarlas junto a \"love\" o no se utilizan en una misma oración"
      ],
      "metadata": {
        "id": "59tPX8KgTnhk"
      }
    },
    {
      "cell_type": "code",
      "execution_count": 25,
      "metadata": {
        "id": "DT4Rvno2mD65",
        "colab": {
          "base_uri": "https://localhost:8080/"
        },
        "outputId": "21aee727-8083-425f-d4ca-47e8234542aa"
      },
      "outputs": [
        {
          "output_type": "execute_result",
          "data": {
            "text/plain": [
              "[('night', 0.8873708844184875),\n",
              " ('three', 0.8686659336090088),\n",
              " ('birds', 0.8509165048599243),\n",
              " (\"'cause\", 0.8427338004112244),\n",
              " ('day', 0.8267289400100708),\n",
              " ('word', 0.8088815212249756),\n",
              " ('little', 0.7607012391090393),\n",
              " ('new', 0.7486817836761475),\n",
              " ('same', 0.7068617343902588),\n",
              " ('only', 0.7063501477241516)]"
            ]
          },
          "metadata": {},
          "execution_count": 25
        }
      ],
      "source": [
        "# Palabras que MÁS se relacionan con...:\n",
        "w2v_model.wv.most_similar(positive=[\"every\"], topn=10)"
      ]
    },
    {
      "cell_type": "code",
      "execution_count": 29,
      "metadata": {
        "id": "XPLDPgzBmQXt",
        "colab": {
          "base_uri": "https://localhost:8080/"
        },
        "outputId": "e0d0cdbb-a90f-4356-e1c4-92f7aba5fad8"
      },
      "outputs": [
        {
          "output_type": "execute_result",
          "data": {
            "text/plain": [
              "[('cry', 0.9774102568626404),\n",
              " ('fowl', 0.9347646832466125),\n",
              " ('no', 0.9244766235351562),\n",
              " ('tears', 0.916095495223999),\n",
              " ('call', 0.8935620784759521)]"
            ]
          },
          "metadata": {},
          "execution_count": 29
        }
      ],
      "source": [
        "# Palabras que MÁS se relacionan con...:\n",
        "w2v_model.wv.most_similar(positive=[\"woman\"], topn=5)"
      ]
    },
    {
      "cell_type": "markdown",
      "source": [
        "En este caso, se puede ver que la mayor coincidencia se da con la palabra \"cry\", esto se debe a una de sus canciones más conocidas llamada \"No Woman No Cry\"."
      ],
      "metadata": {
        "id": "IlFgJgVPXhMJ"
      }
    },
    {
      "cell_type": "code",
      "execution_count": 31,
      "metadata": {
        "id": "L_UvHPMMklOr",
        "colab": {
          "base_uri": "https://localhost:8080/"
        },
        "outputId": "1c4e3c57-4ff0-4a63-b825-d54a06003aa1"
      },
      "outputs": [
        {
          "output_type": "execute_result",
          "data": {
            "text/plain": [
              "[('birds', 0.9717826247215271),\n",
              " ('word', 0.8823035359382629),\n",
              " ('every', 0.868665874004364),\n",
              " ('song', 0.8633241057395935),\n",
              " ('two', 0.8630540370941162),\n",
              " ('little', 0.8501969575881958),\n",
              " ('night', 0.8392566442489624),\n",
              " ('only', 0.8381635546684265),\n",
              " ('natural', 0.8369463682174683),\n",
              " ('mystic', 0.8355417251586914)]"
            ]
          },
          "metadata": {},
          "execution_count": 31
        }
      ],
      "source": [
        "w2v_model.wv.most_similar(positive=[\"three\"])"
      ]
    },
    {
      "cell_type": "markdown",
      "source": [
        "Sucede lo mismo en este caso, la palabra que más se relaciona es una palabra que está asociada a una frase que se repite mucho en una canción."
      ],
      "metadata": {
        "id": "6zVtXHzkZr1W"
      }
    },
    {
      "cell_type": "code",
      "source": [
        "w2v_model.wv.most_similar(positive=[\"jamaica\"])"
      ],
      "metadata": {
        "colab": {
          "base_uri": "https://localhost:8080/"
        },
        "id": "90LD9GaaZtD9",
        "outputId": "9034a738-5c12-4c6b-9103-8c32efd8a7d6"
      },
      "execution_count": 39,
      "outputs": [
        {
          "output_type": "execute_result",
          "data": {
            "text/plain": [
              "[(\"y'all\", 0.9675228595733643),\n",
              " ('smile', 0.9351271986961365),\n",
              " ('wise', 0.8689877986907959),\n",
              " ('yard', 0.8096752166748047),\n",
              " ('together', 0.7774273157119751),\n",
              " ('get', 0.7739351987838745),\n",
              " ('top', 0.7701151967048645),\n",
              " (\"they're\", 0.7658965587615967),\n",
              " ('name', 0.7630153894424438),\n",
              " (\"let's\", 0.7545446753501892)]"
            ]
          },
          "metadata": {},
          "execution_count": 39
        }
      ]
    },
    {
      "cell_type": "markdown",
      "source": [
        "En este caso se puede ver que la palabra Jamaica tiene mucha relación con palabras de felicidad como \"smile\", o palabras como \"they're\" que es una palabra que se puede utilizar con Jamaica."
      ],
      "metadata": {
        "id": "yBWEXe3bcGg_"
      }
    },
    {
      "cell_type": "markdown",
      "metadata": {
        "id": "_g8UVWe6lFmh"
      },
      "source": [
        "### 5 - Visualizar agrupación de vectores"
      ]
    },
    {
      "cell_type": "code",
      "execution_count": 32,
      "metadata": {
        "id": "pDxEVXAivjr9"
      },
      "outputs": [],
      "source": [
        "from sklearn.decomposition import IncrementalPCA\n",
        "from sklearn.manifold import TSNE\n",
        "import numpy as np\n",
        "\n",
        "def reduce_dimensions(model):\n",
        "    num_dimensions = 2\n",
        "\n",
        "    vectors = np.asarray(model.wv.vectors)\n",
        "    labels = np.asarray(model.wv.index_to_key)\n",
        "\n",
        "    tsne = TSNE(n_components=num_dimensions, random_state=0)\n",
        "    vectors = tsne.fit_transform(vectors)\n",
        "\n",
        "    x_vals = [v[0] for v in vectors]\n",
        "    y_vals = [v[1] for v in vectors]\n",
        "    return x_vals, y_vals, labels"
      ]
    },
    {
      "cell_type": "code",
      "execution_count": 33,
      "metadata": {
        "id": "NCCXtDpcugmd",
        "colab": {
          "base_uri": "https://localhost:8080/",
          "height": 542
        },
        "outputId": "6e3455eb-75ad-45bb-92cc-44c0fb249956"
      },
      "outputs": [
        {
          "output_type": "display_data",
          "data": {
            "text/html": [
              "<html>\n",
              "<head><meta charset=\"utf-8\" /></head>\n",
              "<body>\n",
              "    <div>            <script src=\"https://cdnjs.cloudflare.com/ajax/libs/mathjax/2.7.5/MathJax.js?config=TeX-AMS-MML_SVG\"></script><script type=\"text/javascript\">if (window.MathJax && window.MathJax.Hub && window.MathJax.Hub.Config) {window.MathJax.Hub.Config({SVG: {font: \"STIX-Web\"}});}</script>                <script type=\"text/javascript\">window.PlotlyConfig = {MathJaxConfig: 'local'};</script>\n",
              "        <script charset=\"utf-8\" src=\"https://cdn.plot.ly/plotly-2.24.1.min.js\"></script>                <div id=\"1b47041e-50b2-4bd1-b7f9-32c5c8085516\" class=\"plotly-graph-div\" style=\"height:525px; width:100%;\"></div>            <script type=\"text/javascript\">                                    window.PLOTLYENV=window.PLOTLYENV || {};                                    if (document.getElementById(\"1b47041e-50b2-4bd1-b7f9-32c5c8085516\")) {                    Plotly.newPlot(                        \"1b47041e-50b2-4bd1-b7f9-32c5c8085516\",                        [{\"hovertemplate\":\"x=%{x}\\u003cbr\\u003ey=%{y}\\u003cbr\\u003etext=%{text}\\u003cextra\\u003e\\u003c\\u002fextra\\u003e\",\"legendgroup\":\"\",\"marker\":{\"color\":\"#636efa\",\"symbol\":\"circle\"},\"mode\":\"markers+text\",\"name\":\"\",\"orientation\":\"v\",\"showlegend\":false,\"text\":[\"the\",\"you\",\"i\",\"a\",\"to\",\"and\",\"no\",\"it\",\"in\",\"oh\",\"me\",\"be\",\"love\",\"is\",\"of\",\"yeah\",\"don't\",\"so\",\"all\",\"we\",\"your\",\"my\",\"on\",\"for\",\"up\",\"now\",\"down\",\"right\",\"one\",\"say\",\"this\",\"know\",\"do\",\"gonna\",\"but\",\"they\",\"when\",\"got\",\"jah\",\"that\",\"de\",\"i'm\",\"get\",\"come\",\"baby\",\"we're\",\"will\",\"give\",\"it's\",\"from\",\"people\",\"like\",\"there\",\"little\",\"jammin'\",\"thing\",\"coming\",\"with\",\"said\",\"what\",\"wanna\",\"can\",\"every\",\"feel\",\"'cause\",\"them\",\"was\",\"man\",\"want\",\"let\",\"can't\",\"ooh\",\"na\",\"try\",\"go\",\"just\",\"see\",\"could\",\"more\",\"lord\",\"are\",\"take\",\"worry\",\"stand\",\"through\",\"heart\",\"dread\",\"time\",\"good\",\"about\",\"easy\",\"life\",\"simmer\",\"some\",\"together\",\"never\",\"much\",\"woman\",\"yoy\",\"stir\",\"won't\",\"need\",\"have\",\"day\",\"ya\",\"back\",\"then\",\"hammer\",\"uh\",\"she\",\"soul\",\"'pon\",\"if\",\"cry\",\"forever\",\"move\",\"town\",\"whatcha\",\"rock\",\"bad\",\"doo\",\"youths\",\"very\",\"away\",\"we'll\",\"wo\",\"children\",\"rammer\",\"race\",\"heathen\",\"i'll\",\"rebel\",\"wall\",\"he\",\"wop\",\"sweet\",\"you're\",\"hear\",\"why\",\"not\",\"world\",\"tell\",\"loved\",\"our\",\"loving\",\"here\",\"boys\",\"ganja\",\"where\",\"bomb\",\"long\",\"i've\",\"us\",\"movement\",\"cok\",\"fire\",\"choo\",\"that's\",\"let's\",\"something\",\"make\",\"carry\",\"rat\",\"fight\",\"would\",\"who\",\"africa\",\"ain't\",\"too\",\"woo\",\"yo\",\"how\",\"gone\",\"look\",\"their\",\"am\",\"skanking\",\"jamaica\",\"cluck\",\"oo\",\"music\",\"darling\",\"well\",\"by\",\"trench\",\"unite\",\"things\",\"way\",\"while\",\"woe\",\"singin'\",\"you've\",\"keep\",\"at\",\"place\",\"war\",\"talk\",\"exodus\",\"hit\",\"as\"],\"x\":[12.932555198669434,-2.1347815990448,-7.315369606018066,-13.257830619812012,-0.3032052218914032,14.81266975402832,-22.31815528869629,-29.63887596130371,-11.041909217834473,4.398944854736328,-0.6481427550315857,-10.668135643005371,6.345944404602051,6.8746795654296875,15.624258041381836,16.93793296813965,-17.96402931213379,10.789315223693848,2.460279703140259,9.854275703430176,13.232935905456543,9.152099609375,15.210941314697266,15.074835777282715,17.955331802368164,0.5125662684440613,10.431421279907227,12.729230880737305,18.360872268676758,-4.757976531982422,7.6904168128967285,-5.258056640625,-17.755817413330078,-12.861096382141113,-11.284590721130371,-15.95369815826416,-16.437849044799805,14.249737739562988,16.180389404296875,6.434080123901367,21.17828941345215,4.161557197570801,-16.149784088134766,-7.917760372161865,3.362748384475708,-14.145362854003906,4.621494293212891,18.58820343017578,24.365219116210938,-14.524024963378906,16.61257553100586,-17.744672775268555,-20.70016098022461,-24.488069534301758,-14.922920227050781,-15.291280746459961,-13.234952926635742,-1.253830075263977,3.1241419315338135,1.4558875560760498,-23.079832077026367,12.056854248046875,-3.3229596614837646,13.096697807312012,-4.2170186042785645,-6.281609058380127,-13.230839729309082,-15.433147430419922,-3.962827444076538,-4.57845401763916,3.4011898040771484,-1.8429265022277832,2.6967737674713135,0.36091476678848267,-19.69278907775879,-4.189517974853516,4.911306858062744,-9.856646537780762,-13.778037071228027,17.12516975402832,-5.665807247161865,-27.877178192138672,-15.815799713134766,17.2485408782959,4.59523344039917,16.70408058166504,14.063271522521973,-9.623530387878418,-9.18699836730957,-17.530010223388672,-29.93410301208496,9.135601997375488,11.318265914916992,-7.688167095184326,-17.489673614501953,4.126055717468262,13.032958984375,-22.605989456176758,0.562554657459259,-24.71882438659668,-4.110143661499023,-10.240728378295898,-11.574441909790039,-1.989159107208252,11.485838890075684,22.114721298217773,5.147649765014648,-9.414822578430176,-0.022657576948404312,5.705728530883789,-13.430983543395996,22.90201759338379,-1.7344791889190674,-22.536300659179688,-29.392728805541992,18.554393768310547,24.250415802001953,-24.403202056884766,23.23836898803711,-24.150535583496094,-19.01392936706543,1.5059367418289185,-15.369160652160645,8.729069709777832,-29.45450210571289,1.3236167430877686,19.33365821838379,-10.758853912353516,-22.990909576416016,23.087617874145508,5.459972381591797,-12.917868614196777,22.3027400970459,-13.841188430786133,-28.9231014251709,-19.0636043548584,-1.948481559753418,0.16106192767620087,-3.151185989379883,-1.7522939443588257,13.440448760986328,20.20602035522461,-9.94108772277832,11.482467651367188,-29.049747467041016,-7.055215835571289,-24.205852508544922,19.615610122680664,-6.86880350112915,-6.740194797515869,-9.464673042297363,15.596357345581055,13.39656925201416,16.946331024169922,-1.7926249504089355,9.22195816040039,-29.02718734741211,3.8497867584228516,-17.00022315979004,-9.547317504882812,4.778016090393066,12.121939659118652,-22.992900848388672,17.400955200195312,4.286675930023193,-0.2221616804599762,24.498140335083008,-19.20035743713379,-5.390995979309082,-1.85330069065094,-0.3084956109523773,-13.003633499145508,9.275923728942871,4.362908363342285,9.707481384277344,-7.06913948059082,-29.670644760131836,-14.255781173706055,-8.136870384216309,18.95119857788086,-1.3661211729049683,4.051730632781982,-0.9926967024803162,12.09749984741211,23.84882926940918,24.49217414855957,12.000362396240234,1.9626190662384033,2.8551392555236816,0.2515564262866974,-16.65658187866211,9.524913787841797,15.193669319152832,4.509679794311523,-6.991464614868164,6.7584381103515625,-19.06826400756836,16.092016220092773,-1.3055342435836792,-1.5353111028671265],\"xaxis\":\"x\",\"y\":[-0.5973374843597412,10.659234046936035,10.14185619354248,-10.568096160888672,9.552117347717285,11.379000663757324,11.15495491027832,10.112340927124023,2.691735029220581,-18.473590850830078,19.522159576416016,23.630826950073242,13.607183456420898,8.818404197692871,-2.921780586242676,-11.252066612243652,21.548587799072266,-20.102128982543945,-23.296316146850586,23.57278823852539,7.025615692138672,13.037857055664062,20.88058090209961,6.810964584350586,8.193678855895996,12.990514755249023,-13.29675006866455,13.17085075378418,2.3541409969329834,8.204377174377441,10.526877403259277,11.465786933898926,14.85791301727295,20.00166893005371,-5.997602939605713,-24.171884536743164,11.83498477935791,16.7652587890625,-5.613662242889404,15.792901039123535,-13.523391723632812,13.445845603942871,-3.819139003753662,-11.033656120300293,16.517780303955078,0.6899060010910034,-11.77936840057373,12.8698148727417,6.556480884552002,3.9501068592071533,-4.108512878417969,1.1844619512557983,-18.013368606567383,-7.545107364654541,0.49896252155303955,20.195770263671875,1.5201691389083862,23.107826232910156,14.30044937133789,10.352826118469238,-1.3250280618667603,24.59147071838379,-22.12158203125,12.572259902954102,-21.851224899291992,-14.521150588989258,-17.912851333618164,-15.067136764526367,10.160568237304688,-12.470118522644043,30.739133834838867,-15.399663925170898,3.3414406776428223,19.258440017700195,-17.5384521484375,13.49991512298584,-9.773426055908203,26.895614624023438,12.903904914855957,15.29786205291748,-28.177419662475586,11.974754333496094,23.380868911743164,7.621945381164551,-7.624120235443115,2.4712493419647217,-30.074588775634766,15.831961631774902,-25.593345642089844,23.51340675354004,12.406017303466797,8.675439834594727,-12.996515274047852,-27.882640838623047,-3.999511241912842,23.76254653930664,-21.079008102416992,9.755095481872559,-31.736581802368164,-6.250458240509033,15.835484504699707,-12.968727111816406,-24.573486328125,-21.616403579711914,-10.128438949584961,-12.83643627166748,22.67926025390625,-14.170068740844727,-19.820972442626953,-24.154748916625977,8.95689582824707,-14.043914794921875,11.740938186645508,9.936943054199219,-12.801733016967773,-4.887617588043213,12.94102668762207,4.804907321929932,13.590312004089355,3.7655105590820312,16.514022827148438,29.88556480407715,-16.202411651611328,-25.482255935668945,-12.724246978759766,-15.687593460083008,-0.24628694355487823,-13.655771255493164,-13.226936340332031,-13.376751899719238,23.64478874206543,7.281768321990967,-13.980133056640625,-17.640661239624023,4.929631233215332,6.59433126449585,13.240439414978027,5.273621559143066,16.315570831298828,12.351985931396484,-19.957305908203125,0.6237132549285889,26.687744140625,3.6906049251556396,-13.228734016418457,8.594379425048828,3.9919300079345703,-17.828510284423828,13.17582893371582,18.65828514099121,16.16750717163086,17.209644317626953,-5.945001602172852,-4.944620132446289,-12.745979309082031,9.755385398864746,4.857387065887451,-24.708539962768555,-3.962372303009033,27.45208168029785,20.363567352294922,24.51761245727539,-13.224781036376953,10.1596040725708,21.605527877807617,-7.897115707397461,0.06660502403974533,11.004097938537598,0.3493994176387787,-15.416854858398438,-31.690439224243164,-24.64961051940918,-11.448568344116211,-4.232323169708252,-18.178796768188477,8.598846435546875,12.138466835021973,-2.9522757530212402,-28.371164321899414,-18.086660385131836,22.28164291381836,-19.14928436279297,-3.46108078956604,-2.5313942432403564,13.2090482711792,0.06993982940912247,-16.989112854003906,5.508856773376465,-5.147119045257568,-31.00873374938965,22.56276512145996,13.800662994384766,18.193111419677734,-3.4945318698883057,13.193857192993164,4.672834873199463,6.447953701019287,-3.925233840942383,22.337051391601562,-4.77106237411499],\"yaxis\":\"y\",\"type\":\"scatter\"}],                        {\"template\":{\"data\":{\"histogram2dcontour\":[{\"type\":\"histogram2dcontour\",\"colorbar\":{\"outlinewidth\":0,\"ticks\":\"\"},\"colorscale\":[[0.0,\"#0d0887\"],[0.1111111111111111,\"#46039f\"],[0.2222222222222222,\"#7201a8\"],[0.3333333333333333,\"#9c179e\"],[0.4444444444444444,\"#bd3786\"],[0.5555555555555556,\"#d8576b\"],[0.6666666666666666,\"#ed7953\"],[0.7777777777777778,\"#fb9f3a\"],[0.8888888888888888,\"#fdca26\"],[1.0,\"#f0f921\"]]}],\"choropleth\":[{\"type\":\"choropleth\",\"colorbar\":{\"outlinewidth\":0,\"ticks\":\"\"}}],\"histogram2d\":[{\"type\":\"histogram2d\",\"colorbar\":{\"outlinewidth\":0,\"ticks\":\"\"},\"colorscale\":[[0.0,\"#0d0887\"],[0.1111111111111111,\"#46039f\"],[0.2222222222222222,\"#7201a8\"],[0.3333333333333333,\"#9c179e\"],[0.4444444444444444,\"#bd3786\"],[0.5555555555555556,\"#d8576b\"],[0.6666666666666666,\"#ed7953\"],[0.7777777777777778,\"#fb9f3a\"],[0.8888888888888888,\"#fdca26\"],[1.0,\"#f0f921\"]]}],\"heatmap\":[{\"type\":\"heatmap\",\"colorbar\":{\"outlinewidth\":0,\"ticks\":\"\"},\"colorscale\":[[0.0,\"#0d0887\"],[0.1111111111111111,\"#46039f\"],[0.2222222222222222,\"#7201a8\"],[0.3333333333333333,\"#9c179e\"],[0.4444444444444444,\"#bd3786\"],[0.5555555555555556,\"#d8576b\"],[0.6666666666666666,\"#ed7953\"],[0.7777777777777778,\"#fb9f3a\"],[0.8888888888888888,\"#fdca26\"],[1.0,\"#f0f921\"]]}],\"heatmapgl\":[{\"type\":\"heatmapgl\",\"colorbar\":{\"outlinewidth\":0,\"ticks\":\"\"},\"colorscale\":[[0.0,\"#0d0887\"],[0.1111111111111111,\"#46039f\"],[0.2222222222222222,\"#7201a8\"],[0.3333333333333333,\"#9c179e\"],[0.4444444444444444,\"#bd3786\"],[0.5555555555555556,\"#d8576b\"],[0.6666666666666666,\"#ed7953\"],[0.7777777777777778,\"#fb9f3a\"],[0.8888888888888888,\"#fdca26\"],[1.0,\"#f0f921\"]]}],\"contourcarpet\":[{\"type\":\"contourcarpet\",\"colorbar\":{\"outlinewidth\":0,\"ticks\":\"\"}}],\"contour\":[{\"type\":\"contour\",\"colorbar\":{\"outlinewidth\":0,\"ticks\":\"\"},\"colorscale\":[[0.0,\"#0d0887\"],[0.1111111111111111,\"#46039f\"],[0.2222222222222222,\"#7201a8\"],[0.3333333333333333,\"#9c179e\"],[0.4444444444444444,\"#bd3786\"],[0.5555555555555556,\"#d8576b\"],[0.6666666666666666,\"#ed7953\"],[0.7777777777777778,\"#fb9f3a\"],[0.8888888888888888,\"#fdca26\"],[1.0,\"#f0f921\"]]}],\"surface\":[{\"type\":\"surface\",\"colorbar\":{\"outlinewidth\":0,\"ticks\":\"\"},\"colorscale\":[[0.0,\"#0d0887\"],[0.1111111111111111,\"#46039f\"],[0.2222222222222222,\"#7201a8\"],[0.3333333333333333,\"#9c179e\"],[0.4444444444444444,\"#bd3786\"],[0.5555555555555556,\"#d8576b\"],[0.6666666666666666,\"#ed7953\"],[0.7777777777777778,\"#fb9f3a\"],[0.8888888888888888,\"#fdca26\"],[1.0,\"#f0f921\"]]}],\"mesh3d\":[{\"type\":\"mesh3d\",\"colorbar\":{\"outlinewidth\":0,\"ticks\":\"\"}}],\"scatter\":[{\"fillpattern\":{\"fillmode\":\"overlay\",\"size\":10,\"solidity\":0.2},\"type\":\"scatter\"}],\"parcoords\":[{\"type\":\"parcoords\",\"line\":{\"colorbar\":{\"outlinewidth\":0,\"ticks\":\"\"}}}],\"scatterpolargl\":[{\"type\":\"scatterpolargl\",\"marker\":{\"colorbar\":{\"outlinewidth\":0,\"ticks\":\"\"}}}],\"bar\":[{\"error_x\":{\"color\":\"#2a3f5f\"},\"error_y\":{\"color\":\"#2a3f5f\"},\"marker\":{\"line\":{\"color\":\"#E5ECF6\",\"width\":0.5},\"pattern\":{\"fillmode\":\"overlay\",\"size\":10,\"solidity\":0.2}},\"type\":\"bar\"}],\"scattergeo\":[{\"type\":\"scattergeo\",\"marker\":{\"colorbar\":{\"outlinewidth\":0,\"ticks\":\"\"}}}],\"scatterpolar\":[{\"type\":\"scatterpolar\",\"marker\":{\"colorbar\":{\"outlinewidth\":0,\"ticks\":\"\"}}}],\"histogram\":[{\"marker\":{\"pattern\":{\"fillmode\":\"overlay\",\"size\":10,\"solidity\":0.2}},\"type\":\"histogram\"}],\"scattergl\":[{\"type\":\"scattergl\",\"marker\":{\"colorbar\":{\"outlinewidth\":0,\"ticks\":\"\"}}}],\"scatter3d\":[{\"type\":\"scatter3d\",\"line\":{\"colorbar\":{\"outlinewidth\":0,\"ticks\":\"\"}},\"marker\":{\"colorbar\":{\"outlinewidth\":0,\"ticks\":\"\"}}}],\"scattermapbox\":[{\"type\":\"scattermapbox\",\"marker\":{\"colorbar\":{\"outlinewidth\":0,\"ticks\":\"\"}}}],\"scatterternary\":[{\"type\":\"scatterternary\",\"marker\":{\"colorbar\":{\"outlinewidth\":0,\"ticks\":\"\"}}}],\"scattercarpet\":[{\"type\":\"scattercarpet\",\"marker\":{\"colorbar\":{\"outlinewidth\":0,\"ticks\":\"\"}}}],\"carpet\":[{\"aaxis\":{\"endlinecolor\":\"#2a3f5f\",\"gridcolor\":\"white\",\"linecolor\":\"white\",\"minorgridcolor\":\"white\",\"startlinecolor\":\"#2a3f5f\"},\"baxis\":{\"endlinecolor\":\"#2a3f5f\",\"gridcolor\":\"white\",\"linecolor\":\"white\",\"minorgridcolor\":\"white\",\"startlinecolor\":\"#2a3f5f\"},\"type\":\"carpet\"}],\"table\":[{\"cells\":{\"fill\":{\"color\":\"#EBF0F8\"},\"line\":{\"color\":\"white\"}},\"header\":{\"fill\":{\"color\":\"#C8D4E3\"},\"line\":{\"color\":\"white\"}},\"type\":\"table\"}],\"barpolar\":[{\"marker\":{\"line\":{\"color\":\"#E5ECF6\",\"width\":0.5},\"pattern\":{\"fillmode\":\"overlay\",\"size\":10,\"solidity\":0.2}},\"type\":\"barpolar\"}],\"pie\":[{\"automargin\":true,\"type\":\"pie\"}]},\"layout\":{\"autotypenumbers\":\"strict\",\"colorway\":[\"#636efa\",\"#EF553B\",\"#00cc96\",\"#ab63fa\",\"#FFA15A\",\"#19d3f3\",\"#FF6692\",\"#B6E880\",\"#FF97FF\",\"#FECB52\"],\"font\":{\"color\":\"#2a3f5f\"},\"hovermode\":\"closest\",\"hoverlabel\":{\"align\":\"left\"},\"paper_bgcolor\":\"white\",\"plot_bgcolor\":\"#E5ECF6\",\"polar\":{\"bgcolor\":\"#E5ECF6\",\"angularaxis\":{\"gridcolor\":\"white\",\"linecolor\":\"white\",\"ticks\":\"\"},\"radialaxis\":{\"gridcolor\":\"white\",\"linecolor\":\"white\",\"ticks\":\"\"}},\"ternary\":{\"bgcolor\":\"#E5ECF6\",\"aaxis\":{\"gridcolor\":\"white\",\"linecolor\":\"white\",\"ticks\":\"\"},\"baxis\":{\"gridcolor\":\"white\",\"linecolor\":\"white\",\"ticks\":\"\"},\"caxis\":{\"gridcolor\":\"white\",\"linecolor\":\"white\",\"ticks\":\"\"}},\"coloraxis\":{\"colorbar\":{\"outlinewidth\":0,\"ticks\":\"\"}},\"colorscale\":{\"sequential\":[[0.0,\"#0d0887\"],[0.1111111111111111,\"#46039f\"],[0.2222222222222222,\"#7201a8\"],[0.3333333333333333,\"#9c179e\"],[0.4444444444444444,\"#bd3786\"],[0.5555555555555556,\"#d8576b\"],[0.6666666666666666,\"#ed7953\"],[0.7777777777777778,\"#fb9f3a\"],[0.8888888888888888,\"#fdca26\"],[1.0,\"#f0f921\"]],\"sequentialminus\":[[0.0,\"#0d0887\"],[0.1111111111111111,\"#46039f\"],[0.2222222222222222,\"#7201a8\"],[0.3333333333333333,\"#9c179e\"],[0.4444444444444444,\"#bd3786\"],[0.5555555555555556,\"#d8576b\"],[0.6666666666666666,\"#ed7953\"],[0.7777777777777778,\"#fb9f3a\"],[0.8888888888888888,\"#fdca26\"],[1.0,\"#f0f921\"]],\"diverging\":[[0,\"#8e0152\"],[0.1,\"#c51b7d\"],[0.2,\"#de77ae\"],[0.3,\"#f1b6da\"],[0.4,\"#fde0ef\"],[0.5,\"#f7f7f7\"],[0.6,\"#e6f5d0\"],[0.7,\"#b8e186\"],[0.8,\"#7fbc41\"],[0.9,\"#4d9221\"],[1,\"#276419\"]]},\"xaxis\":{\"gridcolor\":\"white\",\"linecolor\":\"white\",\"ticks\":\"\",\"title\":{\"standoff\":15},\"zerolinecolor\":\"white\",\"automargin\":true,\"zerolinewidth\":2},\"yaxis\":{\"gridcolor\":\"white\",\"linecolor\":\"white\",\"ticks\":\"\",\"title\":{\"standoff\":15},\"zerolinecolor\":\"white\",\"automargin\":true,\"zerolinewidth\":2},\"scene\":{\"xaxis\":{\"backgroundcolor\":\"#E5ECF6\",\"gridcolor\":\"white\",\"linecolor\":\"white\",\"showbackground\":true,\"ticks\":\"\",\"zerolinecolor\":\"white\",\"gridwidth\":2},\"yaxis\":{\"backgroundcolor\":\"#E5ECF6\",\"gridcolor\":\"white\",\"linecolor\":\"white\",\"showbackground\":true,\"ticks\":\"\",\"zerolinecolor\":\"white\",\"gridwidth\":2},\"zaxis\":{\"backgroundcolor\":\"#E5ECF6\",\"gridcolor\":\"white\",\"linecolor\":\"white\",\"showbackground\":true,\"ticks\":\"\",\"zerolinecolor\":\"white\",\"gridwidth\":2}},\"shapedefaults\":{\"line\":{\"color\":\"#2a3f5f\"}},\"annotationdefaults\":{\"arrowcolor\":\"#2a3f5f\",\"arrowhead\":0,\"arrowwidth\":1},\"geo\":{\"bgcolor\":\"white\",\"landcolor\":\"#E5ECF6\",\"subunitcolor\":\"white\",\"showland\":true,\"showlakes\":true,\"lakecolor\":\"white\"},\"title\":{\"x\":0.05},\"mapbox\":{\"style\":\"light\"}}},\"xaxis\":{\"anchor\":\"y\",\"domain\":[0.0,1.0],\"title\":{\"text\":\"x\"}},\"yaxis\":{\"anchor\":\"x\",\"domain\":[0.0,1.0],\"title\":{\"text\":\"y\"}},\"legend\":{\"tracegroupgap\":0},\"margin\":{\"t\":60}},                        {\"responsive\": true}                    ).then(function(){\n",
              "                            \n",
              "var gd = document.getElementById('1b47041e-50b2-4bd1-b7f9-32c5c8085516');\n",
              "var x = new MutationObserver(function (mutations, observer) {{\n",
              "        var display = window.getComputedStyle(gd).display;\n",
              "        if (!display || display === 'none') {{\n",
              "            console.log([gd, 'removed!']);\n",
              "            Plotly.purge(gd);\n",
              "            observer.disconnect();\n",
              "        }}\n",
              "}});\n",
              "\n",
              "// Listen for the removal of the full notebook cells\n",
              "var notebookContainer = gd.closest('#notebook-container');\n",
              "if (notebookContainer) {{\n",
              "    x.observe(notebookContainer, {childList: true});\n",
              "}}\n",
              "\n",
              "// Listen for the clearing of the current output cell\n",
              "var outputEl = gd.closest('.output');\n",
              "if (outputEl) {{\n",
              "    x.observe(outputEl, {childList: true});\n",
              "}}\n",
              "\n",
              "                        })                };                            </script>        </div>\n",
              "</body>\n",
              "</html>"
            ]
          },
          "metadata": {}
        }
      ],
      "source": [
        "# Graficar los embedddings en 2D\n",
        "import plotly.graph_objects as go\n",
        "import plotly.express as px\n",
        "\n",
        "x_vals, y_vals, labels = reduce_dimensions(w2v_model)\n",
        "\n",
        "MAX_WORDS=200\n",
        "fig = px.scatter(x=x_vals[:MAX_WORDS], y=y_vals[:MAX_WORDS], text=labels[:MAX_WORDS])\n",
        "fig.show(renderer=\"colab\") # esto para plotly en colab"
      ]
    },
    {
      "cell_type": "markdown",
      "metadata": {
        "id": "yMM_SHSaZ9N-"
      },
      "source": [
        "### Alumno"
      ]
    },
    {
      "cell_type": "markdown",
      "metadata": {
        "id": "WivQZ3ZCZ9N_"
      },
      "source": [
        "- Crear sus propios vectores con Gensim basado en lo visto en clase con otro dataset.\n",
        "- Probar términos de interés y explicar similitudes en el espacio de embeddings (sacar conclusiones entre palabras similitudes y diferencias).\n",
        "- Graficarlos.\n",
        "- Obtener conclusiones."
      ]
    }
  ],
  "metadata": {
    "colab": {
      "provenance": []
    },
    "kernelspec": {
      "display_name": "Python 3 (ipykernel)",
      "language": "python",
      "name": "python3"
    },
    "language_info": {
      "codemirror_mode": {
        "name": "ipython",
        "version": 3
      },
      "file_extension": ".py",
      "mimetype": "text/x-python",
      "name": "python",
      "nbconvert_exporter": "python",
      "pygments_lexer": "ipython3",
      "version": "3.10.6"
    }
  },
  "nbformat": 4,
  "nbformat_minor": 0
}